{
 "cells": [
  {
   "cell_type": "markdown",
   "metadata": {},
   "source": [
    "<center>\n",
    "<a href=\"http://www.insa-toulouse.fr/\" ><img src=\"http://www.math.univ-toulouse.fr/~besse/Wikistat/Images/logo-insa.jpg\" style=\"float:left; max-width: 120px; display: inline\" alt=\"INSA\"/></a> \n",
    "\n",
    "<a href=\"http://wikistat.fr/\" ><img src=\"http://www.math.univ-toulouse.fr/~besse/Wikistat/Images/wikistat.jpg\" style=\"max-width: 250px; display: inline\"  alt=\"Wikistat\"/></a>\n",
    "\n",
    "<a href=\"http://www.math.univ-toulouse.fr/\" ><img src=\"http://www.math.univ-toulouse.fr/~besse/Wikistat/Images/logo_imt.jpg\" style=\"float:right; max-width: 250px; display: inline\" alt=\"IMT\"/> </a>\n",
    "</center>"
   ]
  },
  {
   "cell_type": "markdown",
   "metadata": {},
   "source": [
    "# [Scénarios d'Exploration Statistique](https://github.com/wikistat/Exploration)"
   ]
  },
  {
   "cell_type": "markdown",
   "metadata": {},
   "source": [
    "# Exploration et caractérisation de pourriels avec <a href=\"https://cran.r-project.org/\"><img src=\"https://cran.r-project.org/Rlogo.svg\" style=\"max-width: 40px; display: inline\" alt=\"R\"/></a>"
   ]
  },
  {
   "cell_type": "markdown",
   "metadata": {},
   "source": [
    "#### Résumé \n",
    "Exploration statistique  d'un ensemble de données textuelles afin de définir les caractéristiques des pourriels (spam). Cette analyse nécessite la mise en \\oe uvre successive et donc l'apprentissage approfondi des principales méthodes de statistique mutidimensionnelle: [ACP](http://wikistat.fr/pdf/st-m-explo-acp.pdf), [AFC](http://wikistat.fr/pdf/st-m-explo-afcm.pdf), [MDS](http://wikistat.fr/pdf/st-m-explo-mds.pdf), [classification](http://wikistat.fr/pdf/st-m-explo-classif.pdf) non supervisée. Le scénario d'analyse proposé vise à la représentation la plus explicite des données étudiées et teste également une approché spécifique pour la fouille de texte et les matrices très creuses, la factorisation d'une matrice non-négative ([NMF](http://wikistat.fr/pdf/st-m-explo-nmf.pdf)).\n",
    "\n",
    "\n",
    "## Introduction\n",
    "### Objectif\n",
    "Cette étude est un exemple d'*analyse textuelle* d'un corpus de documents, ici des courriels. Une telle analyse est classiquement basée sur la fréquence d'une sélection de mots. L'objectif est de mieux appréhender la structure particulière de ces données avant d'aborder un autre objectif de discrimination ou classification supervisée pour construire un *détecteur de pourriels* (*spams*)} personnalisé c'est-à-dire adapté au contenu spécifique de la boîte d'un internaute. Il s'agit en fait d'un modèle susceptible de prévoir la *qualité* d'un message reçu en fonction de son contenu. Le déroulement de cette étude est évidemment marqué par le type particulier des données mais celle-ci peut facilement se transposer à d'autres types de données textuelles  ou analyse du contenu: livres, pages web, discours politiques, réponses ouvertes dans des questionnaires... les exemples sont nombreux en sciences humaines, marketing lorsqu'il s'agit d'estimer des scores, par exemple, de satisfaction de clientèle. Les données se caractérisent généralement par des matrices très creuses c'est-à-dire comportant beaucoup de *0*s.\n",
    "\n",
    "### Données\n",
    "George, ingénieur chez HP dans le département *Computer Science* a recueilli un échantillon de messages électroniques dans chacun desquels il a évalué le nombre d'occurrences d'une sélection de mots et caractères. Les variables considérées sont, dans une première partie, des rapports: nombre d'occurrences d'un mot spécifique sur le nombre total de mots ou nombre d'occurrences d'un caractère sur le nombre de caractères du message avant d'être, dans une deuxième partie, des indicatrices ou facteurs: présence / absence de mots ou ensemble de caractères. Il a également considéré trois variables prenant en compte la casse (majuscule / minuscule) des caractères et une dernière qualitative binaire indiquant le classement qu'il a fait de chaque message : `spam` ou `Nsp`. Les variables d'occurrences sont décrites dans le tableau 1, celles associées à la casse dans le tableau 2. Ces données sont publiques, elles servent régulièrement de *benchmark* pour la comparaison de méthodes d'apprentissage machine:\n",
    "\n",
    "Frank A., Asuncion A. (2010). [UCI Machine Learning Repository](http://archive.ics.uci.edu/ml). Irvine, CA: University of California, School of Information and Computer Science.\n",
    "\n",
    "Ce sont donc finalement 58 variables qui sont observées sur 4601 messages dont 1813 pourriels (spams). La variable binaire `Spam` est présente à titre illustratif, elle est toujours considérée en supplémentaire dans ce travail exploratoire préliminaire. \n",
    "\n",
    "\n",
    "Le tableau ci-dessous liste 54 variables exprimant soit:\n",
    "- le rapport du nombre d'occurrence d'un mot (resp. de caractères) sur le nombre total de mots (de caractères) dans un message,\n",
    "- soit la présence ou non de ce mot (resp. caractère) dans le message, \n",
    "- des numéros (85...) qui sont ceux de bureau, téléphone, code postal de George.\n",
    "\n",
    "\n",
    "*Tableau 1:  Les colonnes contiennent successivement le libellé de la variable, le mot ou ensemble de caractères concernés, le libellé des modalités Présence / Absence utilisées après recodage.*\n",
    "\n",
    "Variable   | Mot ou Carac |    Modalités P/A   | Variable   | Mot ou Carac. |   Modalités  \n",
    "  --|-- --|-- --|-- --|-- --|--               \n",
    "make |    make |   make / Nmk|    X650 |   650 |   650 / N65 \n",
    "address |   address |   addr / Nad |   lab |   lab |   lab / Nlb\n",
    "all |   all |   all / Nal |   labs |   labs |   labs / Nls \n",
    "X3d |   3d |   3d / N3d |   telnet |   telnet |   teln / Ntl \n",
    "our |   our |   our / Nou |   X857 |   857 |   857 / N87 \n",
    "over |   over |   over / Nov |   data |   data |   data / Nda  \n",
    "remove |   remove |   remo / Nrm |   X415 |   415   | 415 / N41 \n",
    "internet |   internet |   inte / Nin |   X85 |   85 |   85 / N85 \n",
    "order |   order |   orde / Nor |   technology |   technology |   tech / Ntc \n",
    "mail |   mail |   mail / Nma |   X1999 |   1999 |   1999/ N19 \n",
    "receive |   receive |   rece / Nrc |   parts |   parts |   part / Npr \n",
    "will |   will |   will / Nwi |   pm |   pm |   pm / Npm \n",
    "people |   people |   peop / Npp |   direct |   direct |   dire / Ndr \n",
    "report |   report |   repo / Nrp |   cs |   cs |   cs / Ncs \n",
    "addresses |   addresses   | adds / Nas |   meeting |   meeting |   meet/Nmt \n",
    "free |   free |   free / Nfr |   original |   original |   orig / or \n",
    "business |   business |   busi / Nbs |   project |   project |   proj / Npj \n",
    "email |   email |   emai / Nem |   re |   re |   re / Nre \n",
    "you |   you |   you / Nyo |   edu |   edu |   edu / Ned \n",
    "credit |   credit |   cred / Ncr |   table    | table |   tabl / Ntb \n",
    "your |   your |   your / Nyr |   conference |   conferenc |e   conf / Ncf \n",
    "font |   order |   font / Nft |   CsemiCol |   ; |   Cscl / NCs \n",
    "X000 |   000 |   000 / N00 |   Cpar |   (    | Cpar / NCp \n",
    "money |   money |   mone/ Nmn |   Ccroch |   [    | Ccro / NCc \n",
    "hp |   hp |   hp / Nhp |   Cexclam |    ! |   Cexc / NCe \n",
    "hpl |   hpl |   hpl / Nhl |   Cdollar |   \\$ |   Cdol / NCd  \n",
    "george |   george |   geor / Nge |   Cdiese | # |   Cdie / NCi  \n",
    "\n",
    "\n",
    "\n",
    "Un deuxième tableau liste 4 variables dont celle dénombrant le nombre de lettres majuscules.\n",
    "\n",
    "\n",
    "*Tableau 2:Liste de 4 variables, de leur libellé et des modalités après recodage.*\n",
    "\n",
    "Code variable | Libellé | Modalités\n",
    "--|-- --|--\n",
    "Spam | Type de message pourriel ou non |  Spam / Nsp\n",
    "CapLM |\tNombre moyen de capitales par mot |  Mm1 / Mm2 / Mm3\n",
    "CapLsup\t| Nombre max de capitales par mot | Ms1 / Ms2 / Ms3 \n",
    "CapLtot\t| Nombre totale de lettres capitales |\tMt1 / Mt2 / Mt3 \n"
   ]
  },
  {
   "cell_type": "markdown",
   "metadata": {},
   "source": [
    "## Préparation des données \n",
    "### Lecture\n",
    "Les données, déjà bien nettoyées et préparées à partir des messages bruts sont disponibles le fichier `spam.dat` chargé avec ce calepin dans le même répertoire .\n",
    " Les lire avec les commandes suivantes: "
   ]
  },
  {
   "cell_type": "code",
   "execution_count": null,
   "metadata": {
    "collapsed": false
   },
   "outputs": [],
   "source": [
    "spam=read.table(\"spam.dat\",header=TRUE)\n",
    "spam[,1]=as.factor(spam[,1])\n",
    "summary(spam)"
   ]
  },
  {
   "cell_type": "code",
   "execution_count": null,
   "metadata": {
    "collapsed": false
   },
   "outputs": [],
   "source": [
    "dim(spam)"
   ]
  },
  {
   "cell_type": "markdown",
   "metadata": {},
   "source": [
    "### Description élémentaire\n",
    "**Q** Commenter les distributions des variables (symmétrie, nombre de \"0\"). Quelle est la principale catractéristique de la matrice étudiée? \n",
    "\n",
    "Caractéristique très généralement rencontrée en *text mining*."
   ]
  },
  {
   "cell_type": "code",
   "execution_count": null,
   "metadata": {
    "collapsed": false
   },
   "outputs": [],
   "source": [
    "par(mfrow=c(1,2))\n",
    "options(repr.plot.width=5, repr.plot.height=3)\n",
    "boxplot(spam[,\"all\"]);hist(spam[,\"all\"],main=\"\")"
   ]
  },
  {
   "cell_type": "code",
   "execution_count": null,
   "metadata": {
    "collapsed": false
   },
   "outputs": [],
   "source": [
    "par(mfrow=c(1,2))\n",
    "boxplot(spam[,\"CapLtot\"]);hist(spam[,\"CapLtot\"],main=\"\",xlab=\"\")"
   ]
  },
  {
   "cell_type": "code",
   "execution_count": null,
   "metadata": {
    "collapsed": false
   },
   "outputs": [],
   "source": [
    "boxplot(spam[,2:55])"
   ]
  },
  {
   "cell_type": "code",
   "execution_count": null,
   "metadata": {
    "collapsed": false
   },
   "outputs": [],
   "source": [
    "boxplot(spam[,56:58])"
   ]
  },
  {
   "cell_type": "markdown",
   "metadata": {},
   "source": [
    "**Q** Commenter le choix de la transformation."
   ]
  },
  {
   "cell_type": "code",
   "execution_count": null,
   "metadata": {
    "collapsed": false
   },
   "outputs": [],
   "source": [
    "par(mfrow=c(1,2))\n",
    "boxplot(log(1+spam[,\"CapLtot\"]));hist(log(1+spam[,\"CapLtot\"]),main=\"\",xlab=\"\")"
   ]
  },
  {
   "cell_type": "code",
   "execution_count": null,
   "metadata": {
    "collapsed": true
   },
   "outputs": [],
   "source": [
    "Lspam=data.frame(\"spam\"=spam[,1],log(1+spam[,2:58]))"
   ]
  },
  {
   "cell_type": "markdown",
   "metadata": {},
   "source": [
    "## Approche \"quantitative\"\n",
    "### [Analyse en composantes principales](http://wikistat.fr/pdf/st-m-explo-acp.pdf)\n",
    "Ce sont d'abord les variables quantitatives (nombres d'occurences) qui sont étudiées pour tenter de caractériser les spams. Ces variables sont toutes transformées selon les remarques de la première partie. \n",
    "\n",
    "Une première ACP est calculée."
   ]
  },
  {
   "cell_type": "code",
   "execution_count": null,
   "metadata": {
    "collapsed": false
   },
   "outputs": [],
   "source": [
    "library(FactoMineR)\n",
    "res.pca=PCA(Lspam,scale.unit = FALSE,quali.sup=1, graph=F)\n",
    "options(repr.plot.width=5, repr.plot.height=5)\n",
    "plot(res.pca,choix=\"var\")"
   ]
  },
  {
   "cell_type": "markdown",
   "metadata": {},
   "source": [
    "**Q** Que dire de cette représentation? Quel est le problème rencontré? Quelle est la matrice diagonalisée? Que serait-il préférable de faire?\n",
    "\n",
    "En conséquence, une autre ACP est calculée fournissant un début de tableau ci-dessous. "
   ]
  },
  {
   "cell_type": "code",
   "execution_count": null,
   "metadata": {
    "collapsed": false
   },
   "outputs": [],
   "source": [
    "res.pca=PCA(Lspam,scale.unit = TRUE,quali.sup=1, graph=F)\n",
    "summary(res.pca)"
   ]
  },
  {
   "cell_type": "markdown",
   "metadata": {},
   "source": [
    "**Q** Comment s'interprètent les *eignevalues*? Quel choix de dimension ou nombre de composantes retenues, donnerait la règle dite de Kaiser? Cette règle est-elle raisonnablement applicable?\n",
    "\n",
    "**Q** Que sont les graphiques ci-dessous? Quel choix de dimension suggèrent-ils?"
   ]
  },
  {
   "cell_type": "code",
   "execution_count": null,
   "metadata": {
    "collapsed": false
   },
   "outputs": [],
   "source": [
    "par(mfrow=c(1,2))\n",
    "options(repr.plot.width=8, repr.plot.height=3)\n",
    "barplot(res.pca$eig[,1],main=\"Eigenvalues\",names.arg=1:nrow(res.pca$eig))\n",
    "boxplot(res.pca$ind$coord)"
   ]
  },
  {
   "cell_type": "markdown",
   "metadata": {},
   "source": [
    "**Q** Le graphique ci-dessous des variables est difficile à lire. Identifier néanmoins quelques variables permettant une première interprétation élémentaire des axes."
   ]
  },
  {
   "cell_type": "code",
   "execution_count": null,
   "metadata": {
    "collapsed": false
   },
   "outputs": [],
   "source": [
    "options(repr.plot.width=5, repr.plot.height=5)\n",
    "plot(res.pca,choix=\"var\",cex=0.6)"
   ]
  },
  {
   "cell_type": "markdown",
   "metadata": {},
   "source": [
    "**Q** Le graphique suivant représente les \"individus\"; les points rouges identifient les pourriels. Caractérisez sommairement les deux types de messages. A la vue de ce graphique, pensez vous facile de discriminer linéairement les deux groupes?"
   ]
  },
  {
   "cell_type": "code",
   "execution_count": null,
   "metadata": {
    "collapsed": false
   },
   "outputs": [],
   "source": [
    "plot(res.pca,choix=\"ind\",habillage=1,cex=0.3)"
   ]
  },
  {
   "cell_type": "markdown",
   "metadata": {},
   "source": [
    "**Q** Complétrer l'interprétation des axes et la caractérisation des variables vis-à-vis du type de message."
   ]
  },
  {
   "cell_type": "code",
   "execution_count": null,
   "metadata": {
    "collapsed": true
   },
   "outputs": [],
   "source": [
    "res.pca=PCA(Lspam,scale.unit = FALSE, quali.sup=1, graph=F)"
   ]
  },
  {
   "cell_type": "code",
   "execution_count": null,
   "metadata": {
    "collapsed": false
   },
   "outputs": [],
   "source": [
    "dimdesc(res.pca,axes=c(1,2))"
   ]
  },
  {
   "cell_type": "markdown",
   "metadata": {},
   "source": [
    "### Classification des variables\n",
    "Ces résultat ne sont pas satisfaisants, notamment à cause du nombre de variables. Une classification de celles-ci pourrait aider à l'interprétation.\n",
    "#### [Classification ascendante hiérarchique](http://wikistat.fr/pdf/st-m-explo-classif.pdf)\n",
    "\n",
    "**Q** Quelles est, ci-dessous, la distance calculée entre les \"variables\"? Est-elle euclidienne? Quelle autre distance aurait pu être utilisée?"
   ]
  },
  {
   "cell_type": "code",
   "execution_count": null,
   "metadata": {
    "collapsed": true
   },
   "outputs": [],
   "source": [
    "dist.var<-as.dist(1-cor(Lspam[2:58])**2)"
   ]
  },
  {
   "cell_type": "markdown",
   "metadata": {},
   "source": [
    "**Q** Quelle est la méthode utilisée ci-dessous et avec quelle option? Quelles autres options sont disponibles?"
   ]
  },
  {
   "cell_type": "code",
   "execution_count": null,
   "metadata": {
    "collapsed": true
   },
   "outputs": [],
   "source": [
    "clas.var<-hclust(dist.var,method=\"ward.D\")"
   ]
  },
  {
   "cell_type": "markdown",
   "metadata": {},
   "source": [
    "**Q** Comment choisir le nombre de classes? Jusifier."
   ]
  },
  {
   "cell_type": "code",
   "execution_count": null,
   "metadata": {
    "collapsed": false
   },
   "outputs": [],
   "source": [
    "options(repr.plot.width=3, repr.plot.height=3)\n",
    "plot(clas.var$height[56:40])"
   ]
  },
  {
   "cell_type": "markdown",
   "metadata": {},
   "source": [
    "**Q** Comment sont mesurées les distances entre sous-groupes de variables ? Retrouvez dans le dendrogramme les deux classes de variables les plus explicites pour caractériser les messages."
   ]
  },
  {
   "cell_type": "code",
   "execution_count": null,
   "metadata": {
    "collapsed": false
   },
   "outputs": [],
   "source": [
    "options(repr.plot.width=8, repr.plot.height=5)\n",
    "plot(clas.var)"
   ]
  },
  {
   "cell_type": "markdown",
   "metadata": {},
   "source": [
    "#### Repésentation par positionnement multidimensionnel ([MDS](http://wikistat.fr/pdf/st-m-explo-mds.pdf))\n",
    "\n",
    "Représentation des classes dans le premier plan du MDS. \n",
    "\n",
    "**Q** La représentation obtenue ci-dessous est assez similaire à celle de l’ACP. Pourquoi selon-vous ?"
   ]
  },
  {
   "cell_type": "code",
   "execution_count": null,
   "metadata": {
    "collapsed": false
   },
   "outputs": [],
   "source": [
    "rS = cor(Lspam[2:58])\n",
    "dS2=sqrt(1-rS**2)\n",
    "dN=dimnames(Lspam[2:58])[[2]]\n",
    "mdspam= cmdscale(dS2, k=2)\n",
    "options(repr.plot.width=6, repr.plot.height=6)\n",
    "plot(mdspam, type=\"n\", xlab=\"\", ylab=\"\",main=\"\")\n",
    "text(mdspam,dN)\n",
    "abline(v=0,h=0)"
   ]
  },
  {
   "cell_type": "markdown",
   "metadata": {},
   "source": [
    "Représentation de 4 classes de variables dans les coordonnées du MDS"
   ]
  },
  {
   "cell_type": "code",
   "execution_count": null,
   "metadata": {
    "collapsed": false
   },
   "outputs": [],
   "source": [
    "classes <- cutree(clas.var,k=4)\n",
    "#sort(classes)\n",
    "names(classes[classes==2]) #variables de la classe 2\n",
    "coul = classes\n",
    "plot(mdspam, type=\"n\", xlab=\"Dimension 1\",ylab=\"Dimension 2\", main=\"CAH euclid\")\n",
    "text(mdspam,dN,col=coul)"
   ]
  },
  {
   "cell_type": "markdown",
   "metadata": {},
   "source": [
    "**Q** Retrouve-t-on des éléments d'interprétation des variables dans l'ACP?\n",
    "\n",
    "## Approche \"qualitative\" par Analyse des Correspondances Multiple ([AFCM](http://wikistat.fr/pdf/st-m-explo-afcm.pdf))\n",
    "Les distributions des variables les rendent peu adaptées à une ACP. La matrice des données est en fait très creuse (beaucoup de 0). Une autre piste est suivie en considérant les variables qualitatives : présence / absence, d’un mot ou caractère. \n",
    "### Recodage\n",
    "C'est souvent la partie la plus fastidieuse du travail: recoder en classe, c'est-à-dire transformer en facteur, chaque variable. Le point important est de donner à chaque modalité un identificateur suffisamment explicite pour que les sorties graphiques soient lisibles et ce d'autant plus qu'il y a de variables à traiter. \n",
    "\n",
    "Les commandes suivantes on été utilisées pour l'obtention du fichier `spamq.dat`. Elles sont données à titre d'exemple.\n",
    "\n",
    "Recodage en présence / absence des variables ou mots."
   ]
  },
  {
   "cell_type": "markdown",
   "metadata": {
    "collapsed": true
   },
   "source": [
    "`spamq=data.frame(matrix(as.factor(as.matrix(spam[,2:55]>0)),ncol=54))`"
   ]
  },
  {
   "cell_type": "markdown",
   "metadata": {},
   "source": [
    "Les niveaux des facteurs sont renommés. Voici un exemple désignant la présente`make` et sont absence `Nmk` de la variable `make`.\n",
    "\n",
    "`make=factor(spamq[,\"make\"], c(TRUE, FALSE),labels=c(\"make\", \"Nmk\"))`\n",
    " \n",
    "Les variales dénombrant les lesttres majuscules sont traitées à part avec la commande suivante. \n",
    "\n",
    "**Q** Quelles sont les bornes des classes, que peut-on dire des effectifs de chacune d’elles ?\n",
    "\n",
    "``` \n",
    "CapLMq=cut(spam[,\"CapLM\"],breaks=quantile\n",
    "      (spam[,\"CapLM\"], probs = seq(0, 1, 1/3)), \n",
    "      labels = c(\"Mm1\",\"Mm2\",\"Mm3\"),\n",
    "      include.lowest = TRUE)\n",
    "```\n",
    "Enfin, toutes variables sont regoupées dans la même base et sauvegardées. \n",
    "\n",
    "Il suffit de relire le fichier:"
   ]
  },
  {
   "cell_type": "code",
   "execution_count": null,
   "metadata": {
    "collapsed": false
   },
   "outputs": [],
   "source": [
    "spam.quali=read.table(\"spamq.dat\")\n",
    "summary(spam.quali)"
   ]
  },
  {
   "cell_type": "markdown",
   "metadata": {},
   "source": [
    "### [Analyse Factorielle des Correspondances Multiple](http://wikistat.fr/pdf/st-m-explo-afcm.pdf)\n",
    "Après le calcul de l'AFCM, une kyrielle de graphiques peuvent être construits. Certains sont proposés mais d'autres sont sans doute plus pertinents pour arriver à représenter au mieux la structure des données et expliquer les caractéristiques des spams.\n",
    "\n",
    "**Q** L’analyse factorielle des correspondances multiple est exécutée dans FactoMineR avec la commande suivante. Que signifie l’option quali.sup ?"
   ]
  },
  {
   "cell_type": "code",
   "execution_count": null,
   "metadata": {
    "collapsed": false
   },
   "outputs": [],
   "source": [
    "afc=MCA(spam.quali,quali.sup=c(32,34,58))\n",
    "summary(afc)"
   ]
  },
  {
   "cell_type": "markdown",
   "metadata": {},
   "source": [
    "**Q** Que sont les *eigenvalues* du tableau précédents? Comment s'interprètent ces valeurs ?\n",
    "\n",
    "**Q** Quelle AFC a été calculée ou quelle tableau a été décomposé (SVD) pour obtenir le graphe ci-dessous? Que dire de la représentation des individus de l’AFC par rapport à celle de l’ACP ?"
   ]
  },
  {
   "cell_type": "code",
   "execution_count": null,
   "metadata": {
    "collapsed": false
   },
   "outputs": [],
   "source": [
    "options(repr.plot.width=5, repr.plot.height=5)\n",
    "plot(afc$ind$coord,type=\"p\",pch=\".\",cex=2,col=as.integer(spam.quali[,58]))"
   ]
  },
  {
   "cell_type": "markdown",
   "metadata": {},
   "source": [
    "**Q** Comment le graphique de droite ci-dessous a-t-il été obtenu à partir de celui de gauche? En quoi celui-ci aide-t-il à caractériser un peu mieux les pourriels des autres messages ?"
   ]
  },
  {
   "cell_type": "code",
   "execution_count": null,
   "metadata": {
    "collapsed": false
   },
   "outputs": [],
   "source": [
    "par(mfrow=c(1,2))\n",
    "options(repr.plot.width=10, repr.plot.height=5)\n",
    "plot.MCA(afc,invisible=c(\"ind\"),col.var=\"blue\",cex=0.6)\n",
    "plot.MCA(afc,invisible=c(\"ind\"),col.var=\"blue\",xlim=c(-1,1),ylim=c(-1,1),cex=0.6)"
   ]
  },
  {
   "cell_type": "markdown",
   "metadata": {},
   "source": [
    "La dispersion des message est plus encourageante qu'avec l'ACP mais que dire d'une possible discrimination linéaire entre pourriels et courriels?\n",
    "\n",
    "### Classification des modalités\n",
    "Comme les modalités sont très nombreuses, une classification de celles-ci va aider à l'interprétation.\n",
    "#### Par CAH puis [*k-means*](http://wikistat.fr/pdf/st-m-explo-classif.pdf)\n",
    "**Q** Quelle est la matrice qui est construite ci-dessous ? A partir de quelles \"composantes\"?"
   ]
  },
  {
   "cell_type": "code",
   "execution_count": null,
   "metadata": {
    "collapsed": true
   },
   "outputs": [],
   "source": [
    "dist.mod=dist(afc$var$coord, method=\"euclidean\")"
   ]
  },
  {
   "cell_type": "markdown",
   "metadata": {},
   "source": [
    "**Q** La fonction R produit le graphe ci-dessous. Justifier le nombre de classes à retenir (4)."
   ]
  },
  {
   "cell_type": "code",
   "execution_count": null,
   "metadata": {
    "collapsed": false
   },
   "outputs": [],
   "source": [
    "hclusmod=hclust(dist.mod,method=\"ward.D\")\n",
    "options(repr.plot.width=4, repr.plot.height=4)\n",
    "plot(hclusmod$height[112:100])"
   ]
  },
  {
   "cell_type": "code",
   "execution_count": null,
   "metadata": {
    "collapsed": false
   },
   "outputs": [],
   "source": [
    "options(repr.plot.width=12, repr.plot.height=4)\n",
    "plot(hclusmod)"
   ]
  },
  {
   "cell_type": "code",
   "execution_count": null,
   "metadata": {
    "collapsed": false
   },
   "outputs": [],
   "source": [
    "hclasmod = cutree(hclusmod,k=4)\n",
    "clas.mod=kmeans(afc$var$coord, 4)\n",
    "kclasmod=clas.mod$cluster\n",
    "# comparaison des classes entre CAH et k-means\n",
    "table(hclasmod,kclasmod)"
   ]
  },
  {
   "cell_type": "markdown",
   "metadata": {},
   "source": [
    "**Q** Quel autre algorithme est utilisé ci-dessus? Que fournit-il comme résultat ? Que dire des deux classifications obtenues et donc de leur \"robustesse\"? \n",
    "#### Représentation des classes dans l'[AFCM](http://wikistat.fr/pdf/st-m-explo-afcm.pdf)\n",
    "\n",
    "**Q** Comment le graphe ci-dessous a-t-il été obtenu?"
   ]
  },
  {
   "cell_type": "code",
   "execution_count": null,
   "metadata": {
    "collapsed": false
   },
   "outputs": [],
   "source": [
    "options(repr.plot.width=6, repr.plot.height=6)\n",
    "plot.MCA(afc,invisible=c(\"ind\"),col.var=as.integer(clas.mod$cluster),cex=0.6)"
   ]
  },
  {
   "cell_type": "markdown",
   "metadata": {},
   "source": [
    "Lister les modalités des variables par classe. "
   ]
  },
  {
   "cell_type": "code",
   "execution_count": null,
   "metadata": {
    "collapsed": false
   },
   "outputs": [],
   "source": [
    "names(hclasmod)[hclasmod==1]\n",
    "names(hclasmod)[hclasmod==2]\n",
    "names(hclasmod)[hclasmod==3]\n",
    "names(hclasmod)[hclasmod==4]"
   ]
  },
  {
   "cell_type": "markdown",
   "metadata": {},
   "source": [
    "**Q** Quelles co-occurrences de quels mots/caractères caractérisent principalement les spams? \n",
    "\n",
    "**Q** Quels sont les messages indifférentiables? Que suggérer à Georges pour améliorer son détecteur de pourriel? "
   ]
  },
  {
   "cell_type": "markdown",
   "metadata": {},
   "source": [
    "## Approche par [Factorisation non négative](http://wikistat.fr/pdf/st-m-explo-nmf.pdf)\n",
    "Les données quantitatives sont reconsidérées mais en intégrant le caractère essentiellement non négatif de la matrice des données ainsi que sa parcinomie (matrice très creuse). Cette situation couramment répandue a suscité une nouvelle forme d'analyse dite Non Negativ Matrix Factorization ([NMF](http://wikistat.fr/pdf/st-m-explo-nmf.pdf)) dont le principe est de rechercher deux matrices de faible rang *r* de telle sorte que leur produit approche au mieux les valeurs observées. Cette méthode très utilisée pour la recommandation de produits par filtrage collaboratif est illustré sur ces données.\n",
    "\n",
    "**Q** Quelles différences majeurs entre une NMF et une SVD?\n",
    "\n",
    "Les matrices de faible rang ou les facteurs ne permettent plus de représentation comme en ACP mais au moins une classification non supervisée des objets lignes et colonnes de la matrice décomposée.\n",
    "\n",
    "Cette approche est testée sur les données de spam pour en comparer les résultats obtenus. \n",
    "\n",
    "### `NMF` de R\n",
    "La librairie `NMF` ([Gaujoux et Seoighe, 2010](https://bmcbioinformatics.biomedcentral.com/articles/10.1186/1471-2105-11-367)) de R propose plusieurs versions de l'algorithme de factorisation dont principalement *Multiplicative update algorithms* et *Alternate least Square* (ALS), adaptées à deux fonctions perte possibles: divergence de Kullback-Leibler (KL) ou moindres carrés. \n",
    "\n",
    "**Attention**, les choix: fonction objectif, algorithme, rang des matrices, influencent fortement les résultats obtenus qui se résument principalement à des classifications construites sur les facteurs de la décomposition. "
   ]
  },
  {
   "cell_type": "code",
   "execution_count": null,
   "metadata": {
    "collapsed": false
   },
   "outputs": [],
   "source": [
    "library(NMF)\n",
    "nmfAlgorithm()"
   ]
  },
  {
   "cell_type": "markdown",
   "metadata": {},
   "source": [
    "**Q** Identifier les algorithmes disponibles ainsi que la fonction objectif associée. . Plusieurs initialisation sont possibles; seule celle aléatoire est utilisée."
   ]
  },
  {
   "cell_type": "code",
   "execution_count": null,
   "metadata": {
    "collapsed": false
   },
   "outputs": [],
   "source": [
    "nmfAlgorithm(\"brunet\")"
   ]
  },
  {
   "cell_type": "code",
   "execution_count": null,
   "metadata": {
    "collapsed": false
   },
   "outputs": [],
   "source": [
    "nmfAlgorithm(\"lee\")"
   ]
  },
  {
   "cell_type": "code",
   "execution_count": null,
   "metadata": {
    "collapsed": false
   },
   "outputs": [],
   "source": [
    "nmfAlgorithm(\"snmf/l\")"
   ]
  },
  {
   "cell_type": "code",
   "execution_count": null,
   "metadata": {
    "collapsed": false
   },
   "outputs": [],
   "source": [
    "nmfAlgorithm(\"snmf/r\")"
   ]
  },
  {
   "cell_type": "markdown",
   "metadata": {},
   "source": [
    "Les données quantitatives initiales (comptages \"non négatifs\") sont reprises en compte. \n",
    "\n",
    "**Attention**, les données sont bien creuses et non négatives, mais les variables s'expriment dans des unités et donc avec des variances très différentes. Une forme de normalisation est nécessaire. "
   ]
  },
  {
   "cell_type": "code",
   "execution_count": null,
   "metadata": {
    "collapsed": false
   },
   "outputs": [],
   "source": [
    "summary(spam)"
   ]
  },
  {
   "cell_type": "markdown",
   "metadata": {},
   "source": [
    "Les données doivent être sous la forme d'une matyrice non négative:"
   ]
  },
  {
   "cell_type": "code",
   "execution_count": null,
   "metadata": {
    "collapsed": true
   },
   "outputs": [],
   "source": [
    "creux=as.matrix(spam[,2:58])\n",
    "classe=spam[,1]"
   ]
  },
  {
   "cell_type": "markdown",
   "metadata": {},
   "source": [
    "**Q** Justifiez la transformaiton suivante:"
   ]
  },
  {
   "cell_type": "code",
   "execution_count": null,
   "metadata": {
    "collapsed": false
   },
   "outputs": [],
   "source": [
    "creux=cbind(log(1+creux[,1:54]),log(creux[,55:57])/2)\n",
    "boxplot(creux)"
   ]
  },
  {
   "cell_type": "markdown",
   "metadata": {},
   "source": [
    "Souci: quelques lignes (messages) se trouvent avec uniquement des 0; Celles-ci sont supprimées. "
   ]
  },
  {
   "cell_type": "code",
   "execution_count": null,
   "metadata": {
    "collapsed": false
   },
   "outputs": [],
   "source": [
    "sum(apply(creux,1,sum)==0)\n",
    "# 3 messages sont devenus tout à 0\n",
    "# suppression\n",
    "ident=apply(creux,1,sum)!=0\n",
    "creux=creux[ident,]\n",
    "classe=classe[ident]"
   ]
  },
  {
   "cell_type": "markdown",
   "metadata": {},
   "source": [
    "Recherche d'une \"meilleure\" méthode en exécutant, pour chacune d'entre elles, 10 factorisations de rang 5. Les exécutions sont répétées car la convergence locale dépend de l'initialisation aléatoire."
   ]
  },
  {
   "cell_type": "code",
   "execution_count": null,
   "metadata": {
    "collapsed": true
   },
   "outputs": [],
   "source": [
    "res.multi.method=nmf(creux, 5,nrun=10,list(\"brunet\",\"lee\",\"snmf/l\",\"snmf/r\"),seed = 111, .options =\"t\")\n",
    "compare(res.multi.method)"
   ]
  },
  {
   "cell_type": "markdown",
   "metadata": {},
   "source": [
    "**Q** Les comparaisons sont reproduites dans le graphe ci-dessous. Expliquer comment est obtenu ce graphe. Quelle méthode retenir."
   ]
  },
  {
   "cell_type": "code",
   "execution_count": null,
   "metadata": {
    "collapsed": false
   },
   "outputs": [],
   "source": [
    "consensusmap(res.multi.method,hclustfun=\"ward\") "
   ]
  },
  {
   "cell_type": "markdown",
   "metadata": {},
   "source": [
    "De façon analogue, plusieurs 10 décompositons sont calculées pour défférentes valeurs de rang."
   ]
  },
  {
   "cell_type": "code",
   "execution_count": null,
   "metadata": {
    "collapsed": false
   },
   "outputs": [],
   "source": [
    "estim.r=nmf(creux,2:7,method=\"snmf/l\",nrun=10,seed=111)\n",
    "plot(estim.r)  "
   ]
  },
  {
   "cell_type": "code",
   "execution_count": null,
   "metadata": {
    "collapsed": false
   },
   "outputs": [],
   "source": [
    "consensusmap(estim.r) "
   ]
  },
  {
   "cell_type": "markdown",
   "metadata": {},
   "source": [
    "**Q** Utiliser les résultats précédents pour justifier le choix d'un rang \"optimal\". \n",
    "\n",
    "Une fois méthode et rang déterminés, itérer plusieurs fois l'exécution (30) pour en déterminer une \"meilleure\". "
   ]
  },
  {
   "cell_type": "code",
   "execution_count": null,
   "metadata": {
    "collapsed": true
   },
   "outputs": [],
   "source": [
    "nmf.spam=nmf(creux,5,method=\"snmf/l\",nrun=30,seed=111)"
   ]
  },
  {
   "cell_type": "markdown",
   "metadata": {},
   "source": [
    "Remarquer la complexité de la procédure mise en oeuvre et le temps de calcul nettemnte supérieurs à la recherche d'une simple décomposition en valeurs singulières. (SVD)\n",
    "\n",
    "Extraction des résulats numériques."
   ]
  },
  {
   "cell_type": "code",
   "execution_count": null,
   "metadata": {
    "collapsed": false
   },
   "outputs": [],
   "source": [
    "summary(nmf.spam)"
   ]
  },
  {
   "cell_type": "markdown",
   "metadata": {},
   "source": [
    "Extraction des matrices de la décompositon."
   ]
  },
  {
   "cell_type": "code",
   "execution_count": null,
   "metadata": {
    "collapsed": true
   },
   "outputs": [],
   "source": [
    "w=basis(nmf.spam)\n",
    "h=coef(nmf.spam)"
   ]
  },
  {
   "cell_type": "markdown",
   "metadata": {},
   "source": [
    "Production des graphiques associés aux matrices `w` et `h` de la factorisation. La classe des messages (spam ou pas spam) est ajoutée dans la représentation des lignes: couleur de la première colonne de légende X2 (0 ou 1). La deuxième colone (basis) indique le numéro du facteur qui représente le mieux le message ou le mot."
   ]
  },
  {
   "cell_type": "code",
   "execution_count": null,
   "metadata": {
    "collapsed": false
   },
   "outputs": [],
   "source": [
    "basismap(nmf.spam,annRow=classe,hclustfun=\"ward\")"
   ]
  },
  {
   "cell_type": "code",
   "execution_count": null,
   "metadata": {
    "collapsed": false
   },
   "outputs": [],
   "source": [
    "coefmap(nmf.spam,hclustfun=\"ward\")"
   ]
  },
  {
   "cell_type": "markdown",
   "metadata": {},
   "source": [
    "Remarquer la plus ou moins bonne séparation des pourriels et courriels dans les classes de la CAH ainsi que les regropements de mots / variables.\n",
    "\n",
    "Il est possible de calculer des distances entre lignes (messages) d'une part et entre colonnes (mots) d'autres part à partir de chacune des matrices `w` et `h` puis de faire des représentations de chacun de ces ensembles par un positionnement multidiemnsionnel (MDS) comme dans la section ACP. Mais, il n'est pas possible, comme en comme en ACP ou AFCM de mettre en relation les deux représentations des lignes et colonnes, individus et variables de la matrice factorisée. \n",
    "\n",
    "Cela peut être fait de façon détournée à l'aide d'une *heatmap* qui représente la matrice des données initiales en permutant lignes et colonnes comme conséquence des classifications hiérarchiques. La librairie `NMF` (Gaujoux et Seoighe, 2010) a été réalisée et publiée avec pour premier objectif le traitement des données génomiques dans l'environnement de Bioconductor, donc de la Bioinformatique. C'est sans doute ce qui explique l'utilisation systématique de la classification ascendante hiérarchique et des représentations graphiques par *heatmap*."
   ]
  },
  {
   "cell_type": "code",
   "execution_count": null,
   "metadata": {
    "collapsed": false
   },
   "outputs": [],
   "source": [
    "dist.mod=dist(scale(w), method=\"euclidean\")\n",
    "hclusmod.w=hclust(dist.mod,method=\"ward\")\n",
    "dist.mod=dist(t(h), method=\"euclidean\")\n",
    "hclusmod.h=hclust(dist.mod,method=\"ward\")\n",
    "plot(hclusmod.h)\n",
    "\n",
    "aheatmap(creux,Rowv=hclusmod.w,Colv=hclusmod.h,annRow=classe)"
   ]
  },
  {
   "cell_type": "markdown",
   "metadata": {},
   "source": [
    "Repérer où se concentrent les pourriels en relation avec le plus d'occurences de certains mots ou caractères.\n",
    "\n",
    "**Q** Quelle stratégie: ACP, AFCM ou NMF vous permet de mieux analyser les caractéristiques des pourriels?"
   ]
  }
 ],
 "metadata": {
  "kernelspec": {
   "display_name": "R",
   "language": "R",
   "name": "ir"
  },
  "language_info": {
   "codemirror_mode": "r",
   "file_extension": ".r",
   "mimetype": "text/x-r-source",
   "name": "R",
   "pygments_lexer": "r",
   "version": "3.4.1"
  }
 },
 "nbformat": 4,
 "nbformat_minor": 0
}
