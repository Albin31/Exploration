{
 "cells": [
  {
   "cell_type": "markdown",
   "metadata": {},
   "source": [
    "<center>\n",
    "<a href=\"http://www.insa-toulouse.fr/\" ><img src=\"http://www.math.univ-toulouse.fr/~besse/Wikistat/Images/logo-insa.jpg\" style=\"float:left; max-width: 120px; display: inline\" alt=\"INSA\"/></a> \n",
    "\n",
    "<a href=\"http://wikistat.fr/\" ><img src=\"http://www.math.univ-toulouse.fr/~besse/Wikistat/Images/wikistat.jpg\" style=\"max-width: 250px; display: inline\"  alt=\"Wikistat\"/></a>\n",
    "\n",
    "<a href=\"http://www.math.univ-toulouse.fr/\" ><img src=\"http://www.math.univ-toulouse.fr/~besse/Wikistat/Images/logo_imt.jpg\" style=\"float:right; max-width: 250px; display: inline\" alt=\"IMT\"/> </a>\n",
    "</center>"
   ]
  },
  {
   "cell_type": "markdown",
   "metadata": {},
   "source": [
    "# [Scénarios d'Exploration Statistique](https://github.com/wikistat/Exploration)"
   ]
  },
  {
   "cell_type": "markdown",
   "metadata": {},
   "source": [
    "# Exploration, classification  en <a href=\"https://cran.r-project.org/\"><img src=\"https://cran.r-project.org/Rlogo.svg\" style=\"max-width: 40px; display: inline\" alt=\"R\"/></a> des encours boursiers parisiens\n"
   ]
  },
  {
   "cell_type": "markdown",
   "metadata": {},
   "source": [
    "### Résumé\n",
    "Scénario d'analyse d'un jeu de données : l'ensemble des séries des encours boursier à Paris. Description, lissage et classification de ces courbes. Utilisation des différentes techniques descriptives uni, bi et [multidimensionnelles](http://wikistat.fr/pdf/st-m-explo-intro.pdf): [ACP](http://wikistat.fr/pdf/st-m-explo-acp.pdf), [k-means,CAH](http://wikistat.fr/pdf/st-m-explo-classif.pdf)."
   ]
  },
  {
   "cell_type": "markdown",
   "metadata": {},
   "source": [
    "## objectif\n",
    "Le travail proposé s'intéresse aux cours des actifs boursiers sur la place de Paris de 2000 à 2009. Seuls 252 cours d'entreprises ou indices sont considérés, ceux qui ont été régulièrement cotés sur la période concernée. Les autres, présentant trop de données manquantes car introduits ou exclus au cours de la période, par exemple à la suite d'une fusion, ont été éliminées. Le travail ne se veut pas exhaustif mais illustratif. \n",
    "\n",
    "L'objectif principal est la réalisation d'une classification des entreprises au regard du comportement de leur titre au cours de la période et plus particulièrement autour des difficultés rencontrées en 2002 et 2008. Il s'agit donc de déterminer des groupes ou classes homogènes quant à ce comportement. Ce travail est relativement original car absent des analyses financières classiques qui se focalisent sur le comportement d'un titre avec des indicateurs très sophistiqués associés à une série chronologique. L'originalité vient de ce que ce sont toutes les séries qui sont simultanément étudiées. Ce pourrait être le travail préalable d'un analyste qui, voulant constituer un portefeuille *équilibré*, chercherait des classes de comportement homogènes afin de compléter une information plus spécifique sur chaque entreprise et leur secteur d'activité. Il ne s'agit donc d'une étude exploratoire sans se préoccuper des qualités prédictives de modèles. \n",
    "\n",
    "Après un descriptif de l'origine des données, la première partie décrit un traitement préalable des données, la deuxième une description multidimensionnelle par analyse en composantes principales, la troisième, la recherche d'une classification non supervisée, de sa représentation et de son interprétation. La spécificité de l'analyse est qu'il s'agit ici de données temporelles. La même variable est observée à différents instants.\n",
    "\n",
    "\n",
    "## Données\n",
    "### Présentation\n",
    "Beaucoup de sites, dont les principaux moteurs de recherche, proposent des historiques des grandes places boursières. Ces historiques fournissent, pour une action, (définie par son code), pour une période donnée et pour chaque jour : le cours d'ouverture, le maximum, le minimum, le cours de fermeture et le nombre de titres échangés. \n",
    "\n",
    "La première tâche est un travail de compilation afin de récupérer l'ensemble des titres gérés, ici par la bourse de Paris. La deuxième est un filtrage afin de ne conserver que les titres cotés sur toute une période (2000 à 2009). La troisième nécessite un choix de « granularité ». En effet, nous nous intéressons au comportement global sur la période en négligeant les fluctuations du titre à court terme ainsi que la volatilité (la variance) associée. Le choix fait est celui de la simplicité: on s'intéresse aux moyennes mensuelles des cours. Cet indicateur étant relativement grossier, il n'est plus important de savoir s'il s'agit de la moyenne du cours à l'ouverture, la  fermeture, le min ou le max, c'est le montant à l'ouverture qui a été choisi. En complément du calcul de cette moyenne mensuelle, l'opportunité d'un lissage est prise en compte afin de débruiter les données pour mieux se focaliser sur l'analyse des grandes tendances des comportements. \n",
    "\n",
    "**Répondre aux questions en s'aidant des résultats des exécutions**.\n",
    "\n",
    "### Lecture\n",
    "Les données (fichier `paris2010.text`) sont disponibles dans le répertoire de ce calepin et sont chargées simultanément. \n",
    "\n",
    "**Q** Quelles sont les dimensions de cette analyse (nombre de variables, nombre d’individus) ?"
   ]
  },
  {
   "cell_type": "code",
   "execution_count": null,
   "metadata": {},
   "outputs": [],
   "source": [
    "paris=read.table(\"paris_10.txt\",row.names=\"Nom\",header=TRUE,sep=\",\")\n",
    "isin=paris[,121] # codes des cours\n",
    "paris=paris[,-121]\n",
    "summary(paris)"
   ]
  },
  {
   "cell_type": "markdown",
   "metadata": {},
   "source": [
    "## Traitements préalables\n",
    "**Q** Quels prétraitements semblent indispensables. Les justifier en commentant les graphiques."
   ]
  },
  {
   "cell_type": "code",
   "execution_count": null,
   "metadata": {},
   "outputs": [],
   "source": [
    "ts.plot(t(paris))"
   ]
  },
  {
   "cell_type": "code",
   "execution_count": null,
   "metadata": {},
   "outputs": [],
   "source": [
    "lparis=log(paris)\n",
    "ts.plot(t(lparis))"
   ]
  },
  {
   "cell_type": "code",
   "execution_count": null,
   "metadata": {},
   "outputs": [],
   "source": [
    "lparis0=lparis-apply(lparis,1,mean)\n",
    "ts.plot(t(lparis0))"
   ]
  },
  {
   "cell_type": "markdown",
   "metadata": {},
   "source": [
    "**Q** Bref commentaire sur les trajectoires finalement obtenues\n",
    "\n",
    "Malgré le lissage opéré en calculant des moyennes mensuelles, les courbes sont très \"bruitées\". Une autre transformation est envisagée par la fonction `smooth.spline` pour différentes valeurs d’un paramètre `spar`. \n",
    "\n",
    "**Q** Quelle est cette transformation ? Quel est le rôle du paramètre spar ?"
   ]
  },
  {
   "cell_type": "code",
   "execution_count": null,
   "metadata": {
    "collapsed": true
   },
   "outputs": [],
   "source": [
    "lsm=function(y,spar) {\n",
    "n <- nrow(y)\n",
    "p <- ncol(y)\n",
    "ychap <- y\n",
    "for(i in 1:n) {\n",
    "ychap[i, ] <- smooth.spline(1:p,y[i, ],spar=spar)$y\n",
    "}\n",
    "ychap\n",
    "}"
   ]
  },
  {
   "cell_type": "markdown",
   "metadata": {},
   "source": [
    "Exécuter le lissage pour différentes valeurs du paramètres et représenter une des séries des cours pour illusrer l'effet du paramètre de lissage."
   ]
  },
  {
   "cell_type": "code",
   "execution_count": null,
   "metadata": {},
   "outputs": [],
   "source": [
    "# lissages\n",
    "sm01.lparis0=lsm(lparis0,0.1)\n",
    "sm04.lparis0=lsm(lparis0,0.4)\n",
    "sm08.lparis0=lsm(lparis0,0.8)\n",
    "sm1.lparis0=lsm(lparis0,1)\n",
    "# graphe\n",
    "ts.plot(t(rbind(lparis0[100,],sm01.lparis0[100,],sm04.lparis0[100,],sm08.lparis0[100,])),col=1:4,lwd=2)\n",
    "legend(\"bottomleft\",legend=c(\"spar=0\",\"spar=0.1\",\"spar=0.4\", \"spar=0.8\"),col=c(1:4),pch=\"_\")"
   ]
  },
  {
   "cell_type": "markdown",
   "metadata": {},
   "source": [
    "## Analyse en composantes principales\n",
    "Le calcul d’une analyse en composantes principales nécessite, ou non, une autre transformation préalable des données. Que représente le graphique ci-dessous? Jugez-vous nécessaire cette autre transformation?"
   ]
  },
  {
   "cell_type": "code",
   "execution_count": null,
   "metadata": {},
   "outputs": [],
   "source": [
    "boxplot(lparis0)"
   ]
  },
  {
   "cell_type": "markdown",
   "metadata": {},
   "source": [
    "### ACP réduite ou non ?\n",
    "Comparer les résultats ci-dessous."
   ]
  },
  {
   "cell_type": "code",
   "execution_count": null,
   "metadata": {},
   "outputs": [],
   "source": [
    "# Acp non réduite\n",
    "pca=princomp(lparis0)\n",
    "plot(pca)"
   ]
  },
  {
   "cell_type": "code",
   "execution_count": null,
   "metadata": {},
   "outputs": [],
   "source": [
    "biplot(pca)"
   ]
  },
  {
   "cell_type": "code",
   "execution_count": null,
   "metadata": {},
   "outputs": [],
   "source": [
    "# ACP réduite\n",
    "pcar=princomp(lparis0,cor=TRUE)"
   ]
  },
  {
   "cell_type": "markdown",
   "metadata": {},
   "source": [
    "**Q** La fonction `princomp` de R fournit les résultats ci-dessous. Que valent les 3 premières valeurs propres de l’ACP des séries boursières?"
   ]
  },
  {
   "cell_type": "code",
   "execution_count": null,
   "metadata": {},
   "outputs": [],
   "source": [
    "print(pcar)"
   ]
  },
  {
   "cell_type": "code",
   "execution_count": null,
   "metadata": {},
   "outputs": [],
   "source": [
    "plot(pcar)"
   ]
  },
  {
   "cell_type": "code",
   "execution_count": null,
   "metadata": {},
   "outputs": [],
   "source": [
    "biplot(pcar)"
   ]
  },
  {
   "cell_type": "markdown",
   "metadata": {},
   "source": [
    "**Q** A l'aide des deux *biplots* des ACP réduites et non réduites, expliquer la grande similitude entre les deux représentations des individus et la différence entre celles des variables ?"
   ]
  },
  {
   "cell_type": "code",
   "execution_count": null,
   "metadata": {},
   "outputs": [],
   "source": []
  },
  {
   "cell_type": "markdown",
   "metadata": {},
   "source": [
    "### Quel lissage?\n",
    "Le choix du paramètre de lissage est basée sur les résultats de l'analyse en composantes principales.\n",
    "\n",
    "**Q** Que représentent les graphiques ci-dessous. Quelles décisions suggèrent-ils pour le choix du nombre de composantes et celui de la valeur de spar  (justifier) ?"
   ]
  },
  {
   "cell_type": "code",
   "execution_count": null,
   "metadata": {},
   "outputs": [],
   "source": [
    "par(mfcol=c(2,2))\n",
    "plot(princomp(lparis0,cor=TRUE))\n",
    "plot(princomp(sm04.lparis0,cor=TRUE))\n",
    "plot(princomp(sm08.lparis0,cor=TRUE))\n",
    "plot(princomp(sm1.lparis0,cor=TRUE))"
   ]
  },
  {
   "cell_type": "markdown",
   "metadata": {},
   "source": [
    "**Q** Les vecteurs \"loadings\" fournis par la fonction princomp de R sont les vecteurs propres de l’ACP. Combien sont-ils? De quelle matrice sont-ils les vecteurs propres? En utilisant une valeur de spar \"optimale\". Que sont les courbes ci-dressous."
   ]
  },
  {
   "cell_type": "code",
   "execution_count": null,
   "metadata": {},
   "outputs": [],
   "source": [
    "pcars=princomp(sm08.lparis0,cor=TRUE)\n",
    "plot.ts(pcars$loadings[,1:6],main=\"Fonctions propres\")"
   ]
  },
  {
   "cell_type": "markdown",
   "metadata": {},
   "source": [
    "Tracé de 4 cours remarquables avec un lissage \"optimal\"."
   ]
  },
  {
   "cell_type": "code",
   "execution_count": null,
   "metadata": {},
   "outputs": [],
   "source": [
    "ts.plot(t(sm08.lparis0[c(\"Somfy\",\"Fala\",\"Billon\",\"Trigano\"),]),gpars=list(col=c(1:4)),lwd=2)\n",
    "legend(\"bottomleft\",legend=c(\"Somfy\",\"Fala\",\"Billon\",\"Trigano\"),col=c(1:4),pch=\"_\")"
   ]
  },
  {
   "cell_type": "markdown",
   "metadata": {},
   "source": [
    "**Q** S'aider de ces deux derniers graphes pour interpréter, ci-dessous, les 3 premiers axes factoriels de l'ACP lissée. Mettre en relation ces interprétations avec les séries des 4 cours remarquables."
   ]
  },
  {
   "cell_type": "code",
   "execution_count": null,
   "metadata": {},
   "outputs": [],
   "source": [
    "biplot(princomp(sm08.lparis0))"
   ]
  },
  {
   "cell_type": "markdown",
   "metadata": {},
   "source": [
    "**Q**\tA partir des représentations précédentes, commenter les cours des actions (sans interprétation économique) de Somfy, Fala, Billon, Trigano.\n",
    "### MDS ou ACP de distances\n",
    "**Q** Comparer la représentation de l'ACP avec celle du positionnement multidimensionnel (MDS) ou ACP du tableau des distances. Pourquoi sont-elles si comparables?"
   ]
  },
  {
   "cell_type": "code",
   "execution_count": null,
   "metadata": {},
   "outputs": [],
   "source": [
    "# centrage et réduction des variables temporelles\n",
    "actions=scale(sm08.lparis0)\n",
    "dN=dimnames(lparis0)[[1]]\n",
    "# distances euclidiennes\n",
    "d=dist(actions)\n",
    "# MDS\n",
    "mdparis= cmdscale(d, k=3)\n",
    "plot(mdparis, type=\"n\", xlab=\"\", ylab=\"\",main=\"\")\n",
    "text(mdparis,dN)\n",
    "abline(v=0,h=0)"
   ]
  },
  {
   "cell_type": "markdown",
   "metadata": {},
   "source": [
    "## Classification des cours\n",
    "### Classification ascendante hiérarchique\n",
    "Attention, il est important en classification de calculer à partir des variables réduites car cette transformation n'est pas implicite.\n",
    "\n",
    "**Q** On s’intéresse à la classification des entreprises en considérant les distances euclidiennes usuelles entre leurs cours. Quelle méthode ? Quel est le graphique ci-dessous ? Que signifie l'option `ward.D`?"
   ]
  },
  {
   "cell_type": "code",
   "execution_count": null,
   "metadata": {},
   "outputs": [],
   "source": [
    "# CAH\n",
    "hc.d = hclust(d,method=\"ward.D\")\n",
    "# dendrogramme\n",
    "plot(hc.d,main=\"\")  "
   ]
  },
  {
   "cell_type": "markdown",
   "metadata": {},
   "source": [
    "**Q** Que représente le graphe ci-dessous ? Comment l’interpréter ?"
   ]
  },
  {
   "cell_type": "code",
   "execution_count": null,
   "metadata": {},
   "outputs": [],
   "source": [
    "plot(hc.d$height[252 :240],type=\"b\")"
   ]
  },
  {
   "cell_type": "markdown",
   "metadata": {},
   "source": [
    "Fixer le nombre de classes et couper l'arbre."
   ]
  },
  {
   "cell_type": "code",
   "execution_count": null,
   "metadata": {},
   "outputs": [],
   "source": [
    "classif.6a = cutree(hc.d,k=6)\n",
    "# actions de la 2ème classe\n",
    "names(classif.6a[classif.6a==2])"
   ]
  },
  {
   "cell_type": "markdown",
   "metadata": {},
   "source": [
    "Représenter avec des couleurs dans les coordonnées du MDS."
   ]
  },
  {
   "cell_type": "code",
   "execution_count": null,
   "metadata": {},
   "outputs": [],
   "source": [
    "coul = classif.6a\n",
    "mds=cmdscale(d,k=3)\n",
    "# avec les noms des actions\n",
    "plot(mds, type=\"n\",xlab=\"Dim1\",ylab=\"Dim2\")\n",
    "text(mds,dN,col=coul)"
   ]
  },
  {
   "cell_type": "code",
   "execution_count": null,
   "metadata": {},
   "outputs": [],
   "source": [
    "# avec des points\n",
    "plot(mds, type=\"p\",col=coul,pch=19,cex=1,xlab=\"Dim1\", ylab=\"Dim2\", main=\"\")"
   ]
  },
  {
   "cell_type": "markdown",
   "metadata": {},
   "source": [
    "### Algorithme de réallocation\n",
    "**Q** Que réalise la commande ci-desosus?"
   ]
  },
  {
   "cell_type": "code",
   "execution_count": null,
   "metadata": {
    "collapsed": true
   },
   "outputs": [],
   "source": [
    "km.actions=kmeans(actions,centers=6)"
   ]
  },
  {
   "cell_type": "markdown",
   "metadata": {},
   "source": [
    "**Q** La table ci-dessous croise (table de contingence) les classes obtenues par la commande précédente avec celle précédente. Que dire de la comparaison entre ces deux typologies?"
   ]
  },
  {
   "cell_type": "code",
   "execution_count": null,
   "metadata": {},
   "outputs": [],
   "source": [
    "table(classif.6a,km.actions$cluster,dnn=c(\"cah\",\"kmeans\"))"
   ]
  },
  {
   "cell_type": "markdown",
   "metadata": {},
   "source": [
    "**Q** Au lieu d’être initialisé de façon aléatoire, l’algorithme `kmeans` est initialisé à partir des barycentres des classes de la classification précédente. La comparaison de cette nouvelle classification donne le résultat ci-dessous. Commentaire. Que dire de la convergence de l’algorithme `kmeans`?"
   ]
  },
  {
   "cell_type": "code",
   "execution_count": null,
   "metadata": {},
   "outputs": [],
   "source": [
    "# matrice nulle\n",
    "mat.init.km.actions=matrix(nrow=6,ncol=120)\n",
    "# calcul des barycentres des classes \n",
    "for (i in 1 :6) \n",
    "   mat.init.km.actions[i,]=apply(actions[classif.6a==i,],2,mean)\n",
    "# kmeans après initialisation \n",
    "# par les barycentres\n",
    "km.actions.init=kmeans(actions,centers=mat.init.km.actions)\n",
    "# comparaisons des classifications\n",
    "table(classif.6a,km.actions.init$cluster,dnn=c(\"cah\",\"kmeans2\"))"
   ]
  },
  {
   "cell_type": "markdown",
   "metadata": {},
   "source": [
    "**Q** Comparer le graphe ci-dessous avec celui précédent. Pourquoi cette dernière classification est retenue."
   ]
  },
  {
   "cell_type": "code",
   "execution_count": null,
   "metadata": {},
   "outputs": [],
   "source": [
    "coul1 = km.actions.init$cluster\n",
    "plot(mds, type=\"n\", xlab=\"Dim1\",ylab=\"Dim2\", main=\"\")\n",
    "text(mds,dN,col=coul1)"
   ]
  },
  {
   "cell_type": "markdown",
   "metadata": {},
   "source": [
    "Il est possible d'obtenir les représentations dans les autres plans : "
   ]
  },
  {
   "cell_type": "code",
   "execution_count": null,
   "metadata": {},
   "outputs": [],
   "source": [
    "plot(mds[,c(1,3)], type=\"p\",col=coul1,cex=1, xlab=\"Dim1\", ylab=\"Dim3\", main=\"\")"
   ]
  },
  {
   "cell_type": "markdown",
   "metadata": {},
   "source": [
    "Mais celle-ci n'apporte pas grand chose pour la représentation des classes qui se discriminent bien dans le premier plan.\n",
    "\n",
    "Un graphique permet de représenter la bonne homogénéité des classes de courbes."
   ]
  },
  {
   "cell_type": "code",
   "execution_count": null,
   "metadata": {},
   "outputs": [],
   "source": [
    "klasse=km.actions.init$cluster\n",
    "par(mfcol=c(2,3))\n",
    "ts.plot(t(sm08.lparis0[klasse==1,]),ylim=c(-3,3),col=1)\n",
    "ts.plot(t(sm08.lparis0[klasse==2,]),ylim=c(-3,3),col=2)\n",
    "ts.plot(t(sm08.lparis0[klasse==3,]),ylim=c(-3,3),col=3)\n",
    "ts.plot(t(sm08.lparis0[klasse==4,]),ylim=c(-3,3),col=4)\n",
    "ts.plot(t(sm08.lparis0[klasse==5,]),ylim=c(-3,3),col=5)\n",
    "ts.plot(t(sm08.lparis0[klasse==6,]),ylim=c(-3,3),col=6)"
   ]
  },
  {
   "cell_type": "markdown",
   "metadata": {},
   "source": [
    "Ainsi que les moyennes des classes."
   ]
  },
  {
   "cell_type": "code",
   "execution_count": null,
   "metadata": {},
   "outputs": [],
   "source": [
    "ts.plot(cbind(apply(sm08.lparis0[klasse==1,],2,mean),\n",
    "   apply(sm08.lparis0[klasse==2,],2,mean),\n",
    "   apply(sm08.lparis0[klasse==3,],2,mean),\n",
    "   apply(sm08.lparis0[klasse==4,],2,mean),\n",
    "   apply(sm08.lparis0[klasse==5,],2,mean),\n",
    "   apply(sm08.lparis0[klasse==6,],2,mean)),\n",
    "   ylim=c(-2,2),col=1:6,lwd=2)"
   ]
  },
  {
   "cell_type": "markdown",
   "metadata": {},
   "source": [
    "**Q** Interpréter les classes obtenues."
   ]
  }
 ],
 "metadata": {
  "kernelspec": {
   "display_name": "R",
   "language": "R",
   "name": "ir"
  },
  "language_info": {
   "codemirror_mode": "r",
   "file_extension": ".r",
   "mimetype": "text/x-r-source",
   "name": "R",
   "pygments_lexer": "r",
   "version": "3.4.3"
  }
 },
 "nbformat": 4,
 "nbformat_minor": 1
}
