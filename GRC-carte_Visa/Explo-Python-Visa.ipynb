{
 "cells": [
  {
   "cell_type": "markdown",
   "metadata": {},
   "source": [
    "<center>\n",
    "<a href=\"http://www.insa-toulouse.fr/\" ><img src=\"http://www.math.univ-toulouse.fr/~besse/Wikistat/Images/logo-insa.jpg\" style=\"float:left; max-width: 120px; display: inline\" alt=\"INSA\"/></a> \n",
    "\n",
    "<a href=\"http://wikistat.fr/\" ><img src=\"http://www.math.univ-toulouse.fr/~besse/Wikistat/Images/wikistat.jpg\" style=\"max-width: 250px; display: inline\"  alt=\"Wikistat\"/></a>\n",
    "\n",
    "<a href=\"http://www.math.univ-toulouse.fr/\" ><img src=\"http://www.math.univ-toulouse.fr/~besse/Wikistat/Images/logo_imt.jpg\" style=\"float:right; max-width: 250px; display: inline\" alt=\"IMT\"/> </a>\n",
    "</center>"
   ]
  },
  {
   "cell_type": "markdown",
   "metadata": {},
   "source": [
    "# [Scénarios d'Exploration Statistique](https://github.com/wikistat/Exploration)"
   ]
  },
  {
   "cell_type": "markdown",
   "metadata": {},
   "source": [
    "# GRC: Segmentation d'une clientèle bancaire en <a href=\"https://www.python.org/\"><img src=\"https://upload.wikimedia.org/wikipedia/commons/thumb/f/f8/Python_logo_and_wordmark.svg/390px-Python_logo_and_wordmark.svg.png\" style=\"max-width: 120px; display: inline\" alt=\"R\"/></a> avec <a href=\"http://scikit-learn.org/stable/#\"><img src=\"http://scikit-learn.org/stable/_static/scikit-learn-logo-small.png\" style=\"max-width: 100px; display: inline\" alt=\"R\"/></a>"
   ]
  },
  {
   "cell_type": "markdown",
   "metadata": {},
   "source": [
    "**Résumé**\n",
    "Ce scénario décrit le traitement classique, la fouille, de données pour la gestion de la relation client (GRC); exploration de données bancaires par des méthodes uni, bi et [multidimensionnelles](http://wikistat.fr/pdf/st-m-explo-intro.pdf): [ACP](http://wikistat.fr/pdf/st-m-explo-acp.pdf), [AFCM](http://wikistat.fr/pdf/st-m-explo-afcm.pdf) puis segmentation de clientèle par classification non-supervisée [k-means, CAH](http://wikistat.fr/pdf/st-m-explo-classif.pdf) et représentation, interprétation des classes.\n",
    "\n",
    "## Introduction\n",
    "### Objectif\n",
    "Ce scénatio propose  de décrire un jeu de données bancaires  en utilisant les principales méthodes de statistique exploratoire multidimensionnelle: analyse en composantes principales, analyse des correspondances simple et multiple, classification non supervisée. L'objectif principal, classqiue en marketing, est de produire une *segmentation* de clientèle, c'est-à-dire une répartition en classes homogènes des clients en fonction de leur comportement bancaire. C'est aussi la mise en oeuvre d'une démarche classique permettant d'affiner sa compréhension des données dans l'idée de construire un [score d'appétence](http://www.math.univ-toulouse.fr/~besse/Wikistat/pdf/st-scenar-app-visa.pdf) pour la carte visa premier. Ce deuxième objectif est intégré à la saison 3 ([Apprentissage Statistique](https://github.com/wikistat/Apprentissage)). Il s'agit du score d'appétence de la carte Visa Premier mais ce pourrait être un score d'attrition ({\\it churn}) d'un opérateur téléphonique ou encore un score de défaillance d'un emprunteur ou de faillite d'une entreprise; les outils de modélisation sont les mêmes et sont très largement utilisés dans tout le secteur tertiaire pour l'aide à la décision.\n",
    "\n",
    "\n",
    "Une [autre version](http://www.math.univ-toulouse.fr/~besse/Wikistat/pdf/st-scenar-explo-spam.pdf) du même scénario  propose d'utiliser le logiciel SAS alors que ce calepin propose une solution en Python utilisant la librairie *Scikit-learn*.\n",
    "\n",
    "### Présentation des données\n",
    "#### Les variables\n",
    "La liste des variables est issue d'une base de données retraçant l'historique mensuel bancaire et les caractéristiques de tous les clients. Un sondage a été réalisé afin d'alléger les traitements ainsi qu'une première sélection de variables. Les variables contenues dans le fichier initial sont décrites dans le tableau ci-dessous. Elles sont observées sur 1425 clients.\n",
    "\n",
    "*Tableau: Liste des variables et de leur libellé* Attention, ils sont finalement écrits en majuscules dans les programmes.\n",
    "\n",
    "**Identifiant** | **Libellé**\n",
    "           --|--\n",
    "`matric` | Matricule (identifiant client)\n",
    "`depts` | Département de résidence\n",
    "`pvs` | Point de vente\n",
    "`sexeq` | Sexe (qualitatif) \n",
    "`ager` | Age en années\n",
    "`famiq` | Situation familiale: `Fmar Fcel Fdiv Fuli Fsep Fveu`\n",
    "`relat` | Ancienneté de relation en mois\n",
    "`pcspq` | Catégorie socio-professionnelle (code num)\n",
    "`quals` | Code \"qualité\" client évalué par la banque\n",
    "`GxxGxxS` | plusieurs variables caractérisant les interdits bancaires\n",
    "`impnbs` | Nombre d'impayés en cours\n",
    "`rejets` | Montant total des rejets en francs\n",
    "`opgnb` | Nombre d'opérations par guichet dans le mois\n",
    "`moyrv` | Moyenne des mouvements nets créditeurs des 3 mois en Kf\n",
    "`tavep` | Total des avoirs épargne monétaire en francs\n",
    "`endet` | Taux d'endettement\n",
    "`gaget` | Total des engagements en francs\n",
    "`gagec` | Total des engagements court terme en francs\n",
    "`gagem` | Total des engagements moyen terme en francs\n",
    "`kvunb` | Nombre de comptes à vue\n",
    "`qsmoy` | Moyenne des soldes moyens sur 3 mois\n",
    "`qcred` | Moyenne des mouvements créditeurs en Kf\n",
    "`dmvtp` | Age du dernier mouvement (en jours)\\hline\n",
    "`boppn` | Nombre d'opérations à M-1\n",
    "`facan` | Montant facturé dans l'année en francs\n",
    "`lgagt` | Engagement long terme\n",
    "`vienb` | Nombre de produits contrats vie\n",
    "`viemt` | Montant des produits contrats vie en francs\n",
    "`uemnb` | Nombre de produits épargne monétaire\n",
    "`uemmts` | Montant des produits d'épargne monétaire en francs\n",
    "`xlgnb` | Nombre de produits d'épargne logement\n",
    "`xlgmt` | Montant des produits d'épargne logement en francs\n",
    "`ylvnb` | Nombre de comptes sur livret\n",
    "`ylvmt` | Montant des comptes sur livret en francs\n",
    "`nbelts` | Nombre de produits d'épargne long terme\n",
    "`mtelts` | Montant des produits d'épargne long terme en francs\n",
    "`nbcats` | Nombre de produits épargne à terme\n",
    "`mtcats` | Montant des produits épargne à terme\n",
    "`nbbecs` | Nombre de produits bons et certificats\n",
    "`mtbecs` | Montant des produits bons et certificats en francs\n",
    "`rocnb` | Nombre de paiements par carte bancaire à M-1\n",
    "`ntcas` | Nombre total de cartes\n",
    "`nptag` | Nombre de cartes point argent\n",
    "`segv2s` | Segmentation version 2\n",
    "`itavc` | Total des avoirs sur tous les comptes\n",
    "`havef` | Total des avoirs épargne financière en francs\n",
    "`jnbjd1s` | Nombre de jours à débit à M\n",
    "`jnbjd2s` | Nombre de jours à débit à M-1\n",
    "`jnbjd3s` | Nombre de jours à débit à M-2\n",
    "**`carvp`** | **Possession de la carte VISA Premier}**\n",
    "\n",
    "\n",
    "**Réponde aux questions en s'aidant des résultats des exécutions**"
   ]
  },
  {
   "cell_type": "markdown",
   "metadata": {},
   "source": [
    "## Lecture et prétraitement  des données\n",
    "Les données sont disponibles dans le répertoire de ce calepin et chargées en même temps.\n",
    "\n",
    "Même si les données sont déjà extraites par échantillonnage d'une très grande base, elles nécessitent un travail prémiminaire (*data munging*) pour détecter, corriger les erreurs et incohérences, éliminer des redondances, traiter les données manquantes, transformer certaines variables.  Ce travail préliminaire, souvent long et fastidieux, nécessite d'y consacer beaucoup de temps et de rigueur afin de s'assurer de la qualité finale des résultats. \n",
    "\n",
    "Il fait appel à des outils classiques de statistique descriptive. \n",
    "\n",
    "Les données sont anonymisées et datent du siècle dernier, elles n'ont plus d'intérêt \"commercial\". De façon générale, plutôt que de conserver tous les fichiers de données intermédiaires à une étude, ce qui peut nécessiter beaucoup d'espace disque, il est important, voire crucial, d'archiver *tous* les programmes intermédiaires de saisie, sélection, transformation des données. En effet, en cas de problème ou même simplement d'un mauvais choix méthodologique, il faut pouvoir rapidement repartir d'une étape précédente. \n",
    "\n",
    "La production d'un calepin aide à cette mémoire lors de l'analyse préliminaire mais ne constitue pas un code opérationnel.\n",
    "\n",
    "### Lecture des données"
   ]
  },
  {
   "cell_type": "code",
   "execution_count": null,
   "metadata": {
    "collapsed": true
   },
   "outputs": [],
   "source": [
    "%matplotlib inline\n",
    "import pylab as P\n",
    "import pandas as pd\n",
    "import numpy as np\n",
    "pd.options.mode.chained_assignment = None  # default='warn'"
   ]
  },
  {
   "cell_type": "code",
   "execution_count": null,
   "metadata": {
    "collapsed": false
   },
   "outputs": [],
   "source": [
    "#Lecture\n",
    "listeVar=['MATRIC','DEPTS','PVS','SEXEQ','AGER','FAMIQ', \n",
    " 'RELAT','PCSPQ','QUALS','G03G04S','G25G26S', \n",
    " 'G29G30S','G35G36S','G37G38S','G45G46S','G47G48S',\n",
    " 'IMPNBS','REJETS','OPGNB','MOYRV','TAVEP','ENDET','GAGET',\n",
    " 'GAGEC','GAGEM','KVUNB','QSMOY','QCRED','DMVTP','BOPPN',\n",
    " 'FACAN','LGAGT','VIENB','VIEMT','UEMNB','UEMMTS','XLGNB',\n",
    " 'XLGMT','YLVNB','YLVMT','NBELTS','MTELTS','NBCATS','MTCATS',\n",
    " 'NBBECS','MTBECS','ZOCNB','NTCAS','NPTAG','SEGV2S','ITAVC',\n",
    " 'HAVEF','JNBJD1S','JNBJD2S','JNBJD3S','CARVP']\n",
    "path=\"\"\n",
    "visaraw = pd.read_table(path+'visa_raw.dat',\n",
    "                        sep=';',header=None, index_col=0, names=listeVar)"
   ]
  },
  {
   "cell_type": "markdown",
   "metadata": {},
   "source": [
    "Une fonction permet de définir le bon type \"categorical\" des variables qualitatives  en utilisant un dictionnaire des modalités pour le recodage."
   ]
  },
  {
   "cell_type": "code",
   "execution_count": null,
   "metadata": {
    "collapsed": true
   },
   "outputs": [],
   "source": [
    "def create_categorical_data(df,column_name, cat_name_dic):\n",
    "    cat_columns = pd.Categorical(df[column_name],ordered=False)\n",
    "    new_categorie = [cat_name_dic[old_name] for old_name in cat_columns.categories]\n",
    "    return cat_columns.rename_categories(new_categorie)"
   ]
  },
  {
   "cell_type": "code",
   "execution_count": null,
   "metadata": {
    "collapsed": true
   },
   "outputs": [],
   "source": [
    "#FAMIQ\n",
    "cat_name_dic = {'C':'Fcel','D':'Fdiv','M':'Fmar','S':'Fsep','U':'Fuli','V':'Fveu','inc':'Finc'}\n",
    "visaraw[\"FAMIQ\"]=create_categorical_data(visaraw,\"FAMIQ\", cat_name_dic)\n",
    "#SEXEQ\n",
    "cat_name_dic = {'1':'Shom','2':'Sfem','inc':'Sinc'}\n",
    "visaraw[\"SEXEQ\"]=create_categorical_data(visaraw,\"SEXEQ\", cat_name_dic)\n",
    "#CARVP\n",
    "cat_name_dic = {'non':'Cnon','oui':'Coui'}\n",
    "visaraw[\"CARVP\"]=create_categorical_data(visaraw,\"CARVP\", cat_name_dic)\n",
    "#PCSPQ\n",
    "visaraw[\"PCSPQ\"] = visaraw[\"PCSPQ\"].str.get(0).replace(\"0\",\"i\")\n",
    "cat_name_dic = {'1':'Pagr', '2':'Part', '3':'Pcad', '4':'Pint', '5':'Pemp','6':'Pouv',\n",
    "                '7':'Pret', '8':'Psan', 'i':'Pinc'}\n",
    "visaraw[\"PCSPQ\"]=create_categorical_data(visaraw,\"PCSPQ\", cat_name_dic)"
   ]
  },
  {
   "cell_type": "markdown",
   "metadata": {},
   "source": [
    "####  Premiers nettoyages\n",
    "Suppression d'observations non pertinentes:interdits bancaires et comptes professionnels."
   ]
  },
  {
   "cell_type": "code",
   "execution_count": null,
   "metadata": {
    "collapsed": false
   },
   "outputs": [],
   "source": [
    "visaraw = visaraw[visaraw.NBCATS!= \"1\"]\n",
    "visaraw = visaraw[visaraw.NBBECS!= \"1\"]\n",
    "\n",
    "visaraw= visaraw[np.logical_not(visaraw.G29G30S.isin(['B','X']))] \n",
    "visaraw= visaraw[np.logical_not(visaraw.G03G04S.isin(['B','X']))] \n",
    "visaraw= visaraw[np.logical_not(visaraw.G45G46S.isin(['A','B','X']))] \n",
    "visaraw= visaraw[np.logical_not(visaraw.G37G38S.isin(['A']))] \n",
    "visaraw= visaraw[np.logical_not(visaraw.G25G26S.isin(['A','B','X']))] \n",
    "visaraw= visaraw[np.logical_not(visaraw.G47G48S.isin(['B']))] "
   ]
  },
  {
   "cell_type": "markdown",
   "metadata": {},
   "source": [
    "Suppression d'observations avec données manquantes de la variable `AGER`"
   ]
  },
  {
   "cell_type": "code",
   "execution_count": null,
   "metadata": {
    "collapsed": true
   },
   "outputs": [],
   "source": [
    "visaraw = visaraw[visaraw.AGER!='.']"
   ]
  },
  {
   "cell_type": "markdown",
   "metadata": {},
   "source": [
    "Seulement les clients de 18 à 65 ans"
   ]
  },
  {
   "cell_type": "code",
   "execution_count": null,
   "metadata": {
    "collapsed": true
   },
   "outputs": [],
   "source": [
    "visaraw[\"AGER\"]=visaraw[\"AGER\"].astype(int)\n",
    "visaraw=visaraw[np.logical_and(visaraw[\"AGER\"]<66,visaraw[\"AGER\"]>17)]"
   ]
  },
  {
   "cell_type": "markdown",
   "metadata": {},
   "source": [
    "Recodage des données manquantes"
   ]
  },
  {
   "cell_type": "code",
   "execution_count": null,
   "metadata": {
    "collapsed": false
   },
   "outputs": [],
   "source": [
    "visaraw[\"ZOCNB\"]=visaraw[\"ZOCNB\"].replace(\".\",np.nan)\n",
    "visaraw[\"DMVTP\"]=visaraw[\"DMVTP\"].replace(\".\",np.nan)"
   ]
  },
  {
   "cell_type": "markdown",
   "metadata": {},
   "source": [
    "Corection des types des variables "
   ]
  },
  {
   "cell_type": "code",
   "execution_count": null,
   "metadata": {
    "collapsed": false
   },
   "outputs": [],
   "source": [
    "listeVarFl=['RELAT','IMPNBS','REJETS','OPGNB','MOYRV',\n",
    "'TAVEP','ENDET','GAGET','GAGEC','GAGEM','KVUNB','QSMOY','QCRED',\n",
    "'DMVTP','BOPPN','FACAN','LGAGT','VIENB','VIEMT','UEMNB','UEMMTS','XLGNB',\n",
    " 'XLGMT','YLVNB','YLVMT','NBELTS','MTELTS','NBCATS','MTCATS',\n",
    " 'NBBECS','MTBECS','ZOCNB','NTCAS','NPTAG','ITAVC',\n",
    " 'HAVEF','JNBJD1S','JNBJD2S','JNBJD3S']\n",
    "visaraw[listeVarFl]=visaraw[listeVarFl].astype(float)"
   ]
  },
  {
   "cell_type": "markdown",
   "metadata": {},
   "source": [
    "Un seule variable nombre de jours de débit cumulé"
   ]
  },
  {
   "cell_type": "code",
   "execution_count": null,
   "metadata": {
    "collapsed": false
   },
   "outputs": [],
   "source": [
    "visaraw[\"JNBJD\"]=visaraw[\"JNBJD1S\"]+visaraw[\"JNBJD2S\"]+visaraw[\"JNBJD3S\"] "
   ]
  },
  {
   "cell_type": "markdown",
   "metadata": {},
   "source": [
    "Suppression des variables devenues inutiles"
   ]
  },
  {
   "cell_type": "code",
   "execution_count": null,
   "metadata": {
    "collapsed": false
   },
   "outputs": [],
   "source": [
    "listeVarSup=[\"DEPTS\",\"QUALS\",\"G03G04S\",\"G25G26S\",\"G29G30S\",\"G35G36S\",\n",
    "            \"G37G38S\",\"G45G46S\",\"G47G48S\",\"SEGV2S\",\"PVS\",\"JNBJD1S\",\"JNBJD2S\",\"JNBJD3S\"]\n",
    "visaraw.drop(listeVarSup,inplace=True,axis=1)"
   ]
  },
  {
   "cell_type": "markdown",
   "metadata": {},
   "source": [
    "Mise à jour de la liste des variables"
   ]
  },
  {
   "cell_type": "code",
   "execution_count": null,
   "metadata": {
    "collapsed": false
   },
   "outputs": [],
   "source": [
    "listeVar = [x for x in listeVar if x not in listeVarSup]"
   ]
  },
  {
   "cell_type": "markdown",
   "metadata": {},
   "source": [
    "### Desciption univariée et bivariée"
   ]
  },
  {
   "cell_type": "code",
   "execution_count": null,
   "metadata": {
    "collapsed": false
   },
   "outputs": [],
   "source": [
    "# Moyennes\n",
    "visaprem=visaraw\n",
    "visaprem.mean()"
   ]
  },
  {
   "cell_type": "markdown",
   "metadata": {},
   "source": [
    "**Q** Quel problème révèle la distribution ci-dessous de la variable  « ancienneté dans la banque », exprimée en mois?"
   ]
  },
  {
   "cell_type": "code",
   "execution_count": null,
   "metadata": {
    "collapsed": false
   },
   "outputs": [],
   "source": [
    "visaprem[\"RELAT\"].hist(bins=20)"
   ]
  },
  {
   "cell_type": "markdown",
   "metadata": {},
   "source": [
    "**Q** Que dire de la distribution de la variable ci-dessous? Quelle transformaiton proposer?"
   ]
  },
  {
   "cell_type": "code",
   "execution_count": null,
   "metadata": {
    "collapsed": false
   },
   "outputs": [],
   "source": [
    "visaprem[\"TAVEP\"].hist(bins=20)\n",
    "P.show()"
   ]
  },
  {
   "cell_type": "code",
   "execution_count": null,
   "metadata": {
    "collapsed": false
   },
   "outputs": [],
   "source": [
    "visaprem[\"QSMOY\"].hist(bins=20)"
   ]
  },
  {
   "cell_type": "code",
   "execution_count": null,
   "metadata": {
    "collapsed": false
   },
   "outputs": [],
   "source": [
    "import scipy.stats as stats\n",
    "stats.probplot(visaprem[\"QSMOY\"], dist=\"norm\", plot=P)"
   ]
  },
  {
   "cell_type": "markdown",
   "metadata": {},
   "source": [
    "**Q**  Quel problème pose les deux variables ci-dessous? Quelle correction proposer?"
   ]
  },
  {
   "cell_type": "code",
   "execution_count": null,
   "metadata": {
    "collapsed": false
   },
   "outputs": [],
   "source": [
    "visaprem[\"PCSPQ\"].value_counts()"
   ]
  },
  {
   "cell_type": "code",
   "execution_count": null,
   "metadata": {
    "collapsed": false
   },
   "outputs": [],
   "source": [
    "visaprem[\"FAMIQ\"].value_counts()"
   ]
  },
  {
   "cell_type": "markdown",
   "metadata": {},
   "source": [
    "**Q** Quel est le graphe ci-dessous? Les variables vous semblent-elles liées?"
   ]
  },
  {
   "cell_type": "code",
   "execution_count": null,
   "metadata": {
    "collapsed": false
   },
   "outputs": [],
   "source": [
    "visaprem.boxplot('QSMOY','CARVP')"
   ]
  },
  {
   "cell_type": "markdown",
   "metadata": {},
   "source": [
    "La moyenne des soldes moyens sur trois mois `QSMOY` pose un problème mais elle semble peu discriminante, elle est conservée en l'état. Sinon une transformation par la fonction \"argument sinus hyperbolique\" peut être utilisée avec ce type de distribution mais ce n'est pas indispensable.\n",
    "\n",
    "**Q** Que représente le graphique ci-dessous? Interprétation en quelques lignes. Ces variables semblent-elles liées ? "
   ]
  },
  {
   "cell_type": "code",
   "execution_count": null,
   "metadata": {
    "collapsed": false
   },
   "outputs": [],
   "source": [
    "from statsmodels.graphics.mosaicplot import mosaic\n",
    "visaprem[\"SEXEQ\"]=visaprem[\"SEXEQ\"].cat.remove_unused_categories()\n",
    "table=pd.crosstab(visaprem[\"SEXEQ\"],visaprem[\"CARVP\"])\n",
    "print(table)\n",
    "mosaic(table.stack())\n",
    "P.show()"
   ]
  },
  {
   "cell_type": "markdown",
   "metadata": {},
   "source": [
    "**Q** Quel problème révèle le tableau ci-dessous? Comment le régler?"
   ]
  },
  {
   "cell_type": "code",
   "execution_count": null,
   "metadata": {
    "collapsed": false
   },
   "outputs": [],
   "source": [
    "table=pd.crosstab(visaprem[\"NTCAS\"],visaprem[\"CARVP\"])\n",
    "print(table)"
   ]
  },
  {
   "cell_type": "markdown",
   "metadata": {},
   "source": [
    "**Q** Ce graphique représente la variable « ancienneté dans la banque », exprimée en mois, en fonction de l’âge du client en années. Quelle incohérence montre ce graphique ? Quelles en est la raison?."
   ]
  },
  {
   "cell_type": "code",
   "execution_count": null,
   "metadata": {
    "collapsed": false
   },
   "outputs": [],
   "source": [
    "visaprem.plot('AGER','RELAT',kind='scatter')\n",
    "P.show()"
   ]
  },
  {
   "cell_type": "markdown",
   "metadata": {},
   "source": [
    "**Q** Quel problème révèle le tableau ci-dessous? Comment le résoudre?"
   ]
  },
  {
   "cell_type": "code",
   "execution_count": null,
   "metadata": {
    "collapsed": false
   },
   "outputs": [],
   "source": [
    "table=pd.crosstab(visaprem[\"NTCAS\"],visaprem[\"ZOCNB\"].isnull())\n",
    "print(table)"
   ]
  },
  {
   "cell_type": "code",
   "execution_count": null,
   "metadata": {
    "collapsed": true
   },
   "outputs": [],
   "source": [
    "#Transformations des variables \n",
    "## regroupements de modalités\n",
    "visatrans=visaprem\n",
    "FAMIQ_DIC = {\"Fmar\":'Fcou',\"Fuli\":'Fcou',\"Fdiv\":'Fseu','Fveu':'Fseu',\n",
    "                        \"Fsep\":'Fseu',\"Fcel\":'Fseu'}\n",
    "PCSPQ_DIC = {\"Pagr\":\"Pint\",'Part':\"Pint\",\"Pret\":\"Psan\",\"Pinc\":\"Psan\"}\n",
    "\n",
    "visatrans[\"PCSPQ\"]=visatrans[\"PCSPQ\"].astype(str).replace(PCSPQ_DIC)\n",
    "visatrans[\"FAMIQ\"]=visatrans[\"FAMIQ\"].astype(str).replace(FAMIQ_DIC)"
   ]
  },
  {
   "cell_type": "code",
   "execution_count": null,
   "metadata": {
    "collapsed": false
   },
   "outputs": [],
   "source": [
    "# complétion de valeurs\n",
    "visatrans[\"ZOCNB\"].fillna(0, inplace=True)\n",
    "visatrans[\"ZOCNB\"]\n",
    "visatrans = visatrans[visatrans.DMVTP.notnull()]\n",
    "# Correction ancienneté relation\n",
    "visatrans[\"RELAT\"]= [x-720 if x>600 else x for x in visatrans[\"RELAT\"]]"
   ]
  },
  {
   "cell_type": "code",
   "execution_count": null,
   "metadata": {
    "collapsed": false
   },
   "outputs": [],
   "source": [
    "# log des variables de distribution dissymétrique \n",
    "def log1(x):\n",
    "    return np.log(1+x)\n",
    "listeVarLog=['OPGNB','MOYRV','TAVEP','ENDET','GAGET','GAGEC',\n",
    "'GAGEM','QCRED','DMVTP','BOPPN','FACAN','LGAGT',\n",
    "'VIEMT','XLGMT','YLVMT','ITAVC','HAVEF','JNBJD']\n",
    "visatrans[listeVarLog]=log1(visatrans[listeVarLog])\n",
    "visatrans[\"ZOCNB\"]=np.sqrt(visatrans[\"ZOCNB\"])"
   ]
  },
  {
   "cell_type": "markdown",
   "metadata": {},
   "source": [
    "**Vérifier** lesdistributions des variables transformées."
   ]
  },
  {
   "cell_type": "code",
   "execution_count": null,
   "metadata": {
    "collapsed": false
   },
   "outputs": [],
   "source": [
    "visatrans2 = visatrans[[\"SEXEQ\",\"AGER\",\"FAMIQ\",\"RELAT\",\"PCSPQ\",\"OPGNB\", \"MOYRV\",\"TAVEP\", \"ENDET\", \"GAGET\",\"GAGEC\", \"GAGEM\", \"KVUNB\",\"QSMOY\", \"QCRED\", \"DMVTP\",\"BOPPN\", \"FACAN\", \"LGAGT\",\"VIENB\", \"VIEMT\", \"UEMNB\",\"XLGNB\", \"XLGMT\", \"YLVNB\",\"YLVMT\", \"ZOCNB\", \"NPTAG\",\"ITAVC\", \"HAVEF\",\"JNBJD\", \"CARVP\"]]\n",
    "visatrans2.head()"
   ]
  },
  {
   "cell_type": "markdown",
   "metadata": {},
   "source": [
    "**Q** Comment interpréter le graphe ci-dessous?"
   ]
  },
  {
   "cell_type": "code",
   "execution_count": null,
   "metadata": {
    "collapsed": false,
    "scrolled": true
   },
   "outputs": [],
   "source": [
    "from pandas.tools.plotting import scatter_matrix\n",
    "scatter_matrix(visatrans[[\"AGER\", \"RELAT\",\"QSMOY\", \"OPGNB\", \"MOYRV\",\"TAVEP\", \"ENDET\", \"GAGET\",\"GAGEC\",\"GAGEM\", \"QCRED\", \"DMVTP\",\"BOPPN\",\"FACAN\",\"LGAGT\",\"VIENB\",\"VIEMT\",\"UEMNB\",\"XLGNB\",\"XLGMT\",\"YLVNB\",\"YLVMT\",\"ZOCNB\"]], alpha=0.2, figsize=(15, 15), diagonal='kde')\n",
    "P.show()"
   ]
  },
  {
   "cell_type": "markdown",
   "metadata": {},
   "source": [
    "## Analyse en composantes principales\n",
    "Cette phase de l'analyse permet de mieux comprendre la structure de corrélation des variables afin de d'appréhender ce que seront les grandes classes de comportement des clients."
   ]
  },
  {
   "cell_type": "markdown",
   "metadata": {},
   "source": [
    "**Q** L'ACP calculée ci-dessous est-elle réduite ? Pourquoi?"
   ]
  },
  {
   "cell_type": "code",
   "execution_count": null,
   "metadata": {
    "collapsed": false
   },
   "outputs": [],
   "source": [
    "from sklearn.decomposition import PCA\n",
    "import matplotlib.pyplot as plt\n",
    "# définition de la commande\n",
    "pca = PCA()\n",
    "# Sélection des variables quantitatives\n",
    "dat=visatrans[[\"AGER\",\"RELAT\",\"KVUNB\", \"OPGNB\", \"MOYRV\",\"TAVEP\",\"ENDET\",\"GAGET\",\"GAGEC\",\"GAGEM\",\"QCRED\",\"DMVTP\",\"BOPPN\",\"FACAN\",\"LGAGT\",\"VIEMT\",\"XLGMT\",\"YLVMT\",\"ITAVC\",\"HAVEF\",\"JNBJD\",\"ZOCNB\"]]\n",
    "data = (dat - dat.mean()) / dat.std()\n",
    "# composantes principales\n",
    "C = pca.fit(data).transform(data)"
   ]
  },
  {
   "cell_type": "markdown",
   "metadata": {},
   "source": [
    "### Choix de dimension"
   ]
  },
  {
   "cell_type": "code",
   "execution_count": null,
   "metadata": {
    "collapsed": false
   },
   "outputs": [],
   "source": [
    "# Eboulis des valeurs propres\n",
    "plt.figure()\n",
    "plt.plot(pca.explained_variance_ratio_)\n",
    "plt.show()"
   ]
  },
  {
   "cell_type": "markdown",
   "metadata": {},
   "source": [
    "**Q** Que représente le graphe ci-dessous? Quelle information en tirer?"
   ]
  },
  {
   "cell_type": "code",
   "execution_count": null,
   "metadata": {
    "collapsed": false
   },
   "outputs": [],
   "source": [
    "# Diagrammes boîte des composantes principales\n",
    "plt.figure()\n",
    "plt.boxplot(C[:,0:20])\n",
    "plt.show()"
   ]
  },
  {
   "cell_type": "markdown",
   "metadata": {},
   "source": [
    "### Représentation des individus"
   ]
  },
  {
   "cell_type": "markdown",
   "metadata": {},
   "source": [
    "Quel est le graphe ci-dessous? Quelle information en retenir?"
   ]
  },
  {
   "cell_type": "code",
   "execution_count": null,
   "metadata": {
    "collapsed": false
   },
   "outputs": [],
   "source": [
    "plt.figure(figsize=(10,8))\n",
    "for i, j, nom in zip(C[:,0], C[:,1], visatrans['CARVP']):\n",
    "    color = \"red\" if nom == \"Coui\" else \"blue\"\n",
    "    plt.text(i, j, nom, color=color)\n",
    "plt.axis((-6,7.5,-5,6))  \n",
    "P.show()"
   ]
  },
  {
   "cell_type": "markdown",
   "metadata": {},
   "source": [
    "### Variables et cercle des corrélations\n",
    "**Q** Que représent le graphe ci-dessous? Donner en une ligne une interprétation de l'axe 1 puis de l'axe2."
   ]
  },
  {
   "cell_type": "code",
   "execution_count": null,
   "metadata": {
    "collapsed": false
   },
   "outputs": [],
   "source": [
    "# coordonnées des variables\n",
    "coord1=pca.components_[0]*np.sqrt(pca.explained_variance_[0])\n",
    "coord2=pca.components_[1]*np.sqrt(pca.explained_variance_[1])\n",
    "fig = plt.figure(figsize=(8,8))\n",
    "ax = fig.add_subplot(1, 1, 1)\n",
    "for i, j, nom in zip(coord1,coord2, data.columns):\n",
    "    plt.text(i, j, nom)\n",
    "    plt.arrow(0,0,i,j,color='r')\n",
    "plt.axis((-1.2,1.2,-1.2,1.2))\n",
    "# cercle\n",
    "c=plt.Circle((0,0), radius=1, color='b', fill=False)\n",
    "ax.add_patch(c)\n",
    "P.show()"
   ]
  },
  {
   "cell_type": "markdown",
   "metadata": {},
   "source": [
    "### Classification des variables\n",
    "**Q** Les classes de variables sont-elles cohérentes avec l'interprétataion des axes?"
   ]
  },
  {
   "cell_type": "code",
   "execution_count": null,
   "metadata": {
    "collapsed": false
   },
   "outputs": [],
   "source": [
    "# Stratégie utilisée pour aider à l'interprétation du plan principal \n",
    "# lorsque le nombre de variables est important\n",
    "from scipy.cluster.hierarchy import dendrogram, linkage\n",
    "Z = linkage(data.T, 'ward')\n",
    "plt.figure(figsize=(15, 8))\n",
    "plt.title('Hierarchical Clustering Dendrogram')\n",
    "plt.xlabel('Variable')\n",
    "plt.ylabel('Distance')\n",
    "dendrogram(Z,leaf_font_size=8.,labels=data.columns)\n",
    "plt.show()"
   ]
  },
  {
   "cell_type": "markdown",
   "metadata": {},
   "source": [
    "## Analyse multiple des correspondances \n",
    "Afin d'intégrer toutes les variables et pas seulement celles quantitatives, un recodage de ces dernières variables, permet de toutes les intégrer dans une analyse multiple des correspondances. \n",
    "\n",
    "**Remarques**\n",
    "- Le nombre de classes doit être relativement restreint pour limiter les dimensions et faciliter les interprétations, \n",
    "- il est préférable de choisir, pour des variables distribuées \"normalement\", des classes d'effectifs égaux: les bornes sont des quantiles.\n",
    "- Dans le cas des données bancaires, les variables présentant une distribution très asymétrique se résument souvent en une variable dichotomique: présence ou absence d'un produit financier donné. Dans ce dernier cas, il est inutile de conserver à la fois une variable \"nombre\" et une variable \"montant\" du même produit financier.\n",
    "- Enfin, pour des raisons techniques de lisibilité des graphiques en SAS, les codes des modalités associés à une même variable commencent par la même lettre. Les programmes ci-dessous devraient être adaptés afin d'utiliser cette convention pour améliorer la lisibilité des graphiques.\n",
    "\n",
    "**Q** Commenter succinctement chacune des étapes nécessaires à la transformation des variables pour réaliser une analyse multiple des correspondances."
   ]
  },
  {
   "cell_type": "code",
   "execution_count": null,
   "metadata": {
    "collapsed": true
   },
   "outputs": [],
   "source": [
    "#Recodage des variables \n",
    "import random\n",
    "visapremv=visatrans2"
   ]
  },
  {
   "cell_type": "code",
   "execution_count": null,
   "metadata": {
    "collapsed": false
   },
   "outputs": [],
   "source": [
    "# regroupement de classes et recodages\n",
    "def rep_fami(x):\n",
    "    if random.random()<0.45:\n",
    "        x=\"Fseu\"\n",
    "    else:\n",
    "        x=\"Fcou\"\n",
    "    return x\n",
    "visapremv[\"FAMIQ\"]=[x if x!=\"Finc\" else rep_fami(x) for x in visapremv[\"FAMIQ\"]]"
   ]
  },
  {
   "cell_type": "code",
   "execution_count": null,
   "metadata": {
    "collapsed": false
   },
   "outputs": [],
   "source": [
    "kvunbq = [\"K0\" if x in [0,1] else \"K1\" for x in visapremv[\"KVUNB\"] ]\n",
    "visapremv[\"KVUNBQ\"]=pd.Categorical(kvunbq,ordered=False)\n",
    "\n",
    "vienbq = [\"V0\" if x==0 else \"V1\" for x in visapremv[\"VIENB\"]]\n",
    "visapremv[\"VIENBQ\"]=pd.Categorical(vienbq,ordered=False)\n",
    "\n",
    "uemnbq = [\"U0\" if x==0 else \"U1\" if x==1 else \"U2\" for x in visapremv[\"UEMNB\"] ]\n",
    "visapremv[\"UEMNBQ\"]=pd.Categorical(uemnbq,ordered=False)\n",
    "\n",
    "xlgnbq = [\"X0\" if x==0 else \"X1\" if x==1 else \"X2\" for x in visapremv[\"XLGNB\"] ]\n",
    "visapremv[\"XLGNBQ\"]=pd.Categorical(xlgnbq,ordered=False)\n",
    "\n",
    "ylvnbq = [\"Y0\" if x==0 else \"Y1\" if x==1 else \"Y2\" for x in visapremv[\"YLVNB\"] ]\n",
    "visapremv[\"YLVNBQ\"]=pd.Categorical(ylvnbq,ordered=False)\n",
    "\n",
    "zocnbq = [\"Z0\" if x ==0 else \"Z1\" for x in visapremv[\"ZOCNB\"] ]\n",
    "visapremv[\"ZOCNBQ\"]=pd.Categorical(zocnbq,ordered=False)\n",
    "\n",
    "nptagq = [\"N0\" if x ==0 else \"N1\" for x in visapremv[\"NPTAG\"] ]\n",
    "visapremv[\"NPTAGQ\"]=pd.Categorical(nptagq,ordered=False)"
   ]
  },
  {
   "cell_type": "code",
   "execution_count": null,
   "metadata": {
    "collapsed": false
   },
   "outputs": [],
   "source": [
    "def rec(df,col_name,a,b):\n",
    "    colq = [b if x>0 else a for x in df[col_name]]\n",
    "    return colq\n",
    "\n",
    "visapremv[\"ENDETQ\"]=pd.Categorical(rec(visapremv,\"ENDET\",\"E0\",\"E1\"),ordered=False)\n",
    "visapremv[\"GAGETQ\"]=pd.Categorical(rec(visapremv,\"GAGET\",\"G0\",\"G1\"),ordered=False)\n",
    "visapremv[\"FACANQ\"]=pd.Categorical(rec(visapremv,\"FACAN\",\"F0\",\"F1\"),ordered=False)\n",
    "visapremv[\"LGAGTQ\"]=pd.Categorical(rec(visapremv,\"LGAGT\",\"L0\",\"L1\"),ordered=False)\n",
    "visapremv[\"HAVEFQ\"]=pd.Categorical(rec(visapremv,\"HAVEF\",\"H0\",\"H1\"),ordered=False)"
   ]
  },
  {
   "cell_type": "code",
   "execution_count": null,
   "metadata": {
    "collapsed": true
   },
   "outputs": [],
   "source": [
    "visapremw=visapremv[[\"AGER\",\"RELAT\",\"QSMOY\",\"OPGNB\",\"MOYRV\",\"TAVEP\",\"DMVTP\",\"BOPPN\",\"ITAVC\",\"JNBJD\"]]"
   ]
  },
  {
   "cell_type": "code",
   "execution_count": null,
   "metadata": {
    "collapsed": false
   },
   "outputs": [],
   "source": [
    "visapremw[\"AGEQ\"]=pd.qcut(visapremw.AGER,3,labels=[\"A0\",\"A1\",\"A2\"])\n",
    "visapremw[\"RELATQ\"]=pd.qcut(visapremw.RELAT,3,labels=[\"R0\",\"R1\",\"R2\"])\n",
    "visapremw[\"QSMOYQ\"]=pd.qcut(visapremw.QSMOY,3,labels=[\"Q0\",\"Q1\",\"Q2\"])\n",
    "visapremw[\"MOYRVQ\"]=pd.qcut(visapremw.MOYRV,3,labels=[\"M0\",\"M1\",\"M2\"])\n",
    "visapremw[\"TAVEPQ\"]=pd.qcut(visapremw.TAVEP,3,labels=[\"T0\",\"T1\",\"T2\"])\n",
    "visapremw[\"DMVTPQ\"]=pd.qcut(visapremw.DMVTP,3,labels=[\"D0\",\"D1\",\"D2\"])\n",
    "visapremw[\"BOPPNQ\"]=pd.qcut(visapremw.BOPPN,3,labels=[\"B0\",\"B1\",\"B2\"])\n",
    "visapremw[\"ITAVCQ\"]=pd.qcut(visapremw.ITAVC,3,labels=[\"I0\",\"I1\",\"I2\"])\n",
    "\n",
    "# suppression des variables devenues inutiles\n",
    "listeVarSup=[\"AGER\",\"RELAT\",\"QSMOY\",\"MOYRV\",\"TAVEP\",\"DMVTP\",\"BOPPN\",\"ITAVC\"]\n",
    "visapremw.drop(listeVarSup,inplace=True,axis=1)"
   ]
  },
  {
   "cell_type": "code",
   "execution_count": null,
   "metadata": {
    "collapsed": false
   },
   "outputs": [],
   "source": [
    "visapremw[\"JNBJD\"].hist(bins=20)\n",
    "P.show()"
   ]
  },
  {
   "cell_type": "code",
   "execution_count": null,
   "metadata": {
    "collapsed": false
   },
   "outputs": [],
   "source": [
    "# Problème pour deux variables avec beaucoup de 0\n",
    "#Source : http://stackoverflow.com/questions/20158597/how-to-qcut-with-non-unique-bin-edges\n",
    "import pandas.core.algorithms as algos\n",
    "mx = np.ma.masked_equal(visapremw.JNBJD.as_matrix(), 0, copy=True)\n",
    "bina = algos.quantile(visapremw.JNBJD.as_matrix()[~mx.mask], np.linspace(0, 1, 3))\n",
    "bina = np.insert(bina, 0, 0)\n",
    "bina[1] = bina[1]-(bina[1]/2)\n",
    "result = pd.tools.tile._bins_to_cuts(visapremw.JNBJD.as_matrix(), bina, include_lowest=True)\n",
    "visapremw[\"JNBJDQ\"]=pd.cut(visapremw.JNBJD,bins=bina,labels=[\"J0\",\"J1\",\"J2\"])\n",
    "visapremw[\"JNBJDQ\"]=visapremw[\"JNBJDQ\"].fillna('J0')\n",
    "\n",
    "mx = np.ma.masked_equal(visapremw.OPGNB.as_matrix(), 0, copy=True)\n",
    "bina = algos.quantile(visapremw.OPGNB.as_matrix()[~mx.mask], np.linspace(0, 1, 3))\n",
    "bina = np.insert(bina, 0, 0)\n",
    "bina[1] = bina[1]-(bina[1]/2)\n",
    "result = pd.tools.tile._bins_to_cuts(visapremw.JNBJD.as_matrix(), bina, include_lowest=True)\n",
    "visapremw[\"OPGNBQ\"]=pd.cut(visapremw.OPGNB,bins=bina,labels=[\"O0\",\"O1\",\"O2\"])\n",
    "visapremw[\"OPGNBQ\"]=visapremw[\"OPGNBQ\"].fillna('O0')\n",
    "\n",
    "del visapremw[\"OPGNB\"]\n",
    "del visapremw[\"JNBJD\"]"
   ]
  },
  {
   "cell_type": "code",
   "execution_count": null,
   "metadata": {
    "collapsed": false
   },
   "outputs": [],
   "source": [
    "visapremw[\"JNBJDQ\"].value_counts()"
   ]
  },
  {
   "cell_type": "code",
   "execution_count": null,
   "metadata": {
    "collapsed": true
   },
   "outputs": [],
   "source": [
    "fram=[visapremv,visapremw]\n",
    "visapremvw=pd.concat(fram,1)"
   ]
  },
  {
   "cell_type": "code",
   "execution_count": null,
   "metadata": {
    "collapsed": false,
    "scrolled": true
   },
   "outputs": [],
   "source": [
    "visapremvw.head()"
   ]
  },
  {
   "cell_type": "markdown",
   "metadata": {},
   "source": [
    "Il est classique de rechercher une première AFCM n'utilisant que les variables résumant les caractéristiques sociales (signalétique) des clients en variables principales. afin de détecter d'éventuelles incohérences. Les variables bancaires sont projetées en tant que variables supplémentaires. "
   ]
  },
  {
   "cell_type": "code",
   "execution_count": null,
   "metadata": {
    "collapsed": false
   },
   "outputs": [],
   "source": [
    "import mca\n",
    "# tableau disjonctif complet des variables qualitatives\n",
    "D=mca.dummy(visapremvw.select_dtypes(include=[pd.Categorical,\"object\"]))\n",
    "mct=mca.mca(D,cols=[\"FAMIQ\",\"SEXEQ\",\"PCSPQ\",\"AGEQ\",\"RELATQ\"],benzecri=False)\n",
    "DD=D.drop([\"FAMIQ\",\"SEXEQ\",\"PCSPQ\",\"AGEQ\",\"RELATQ\"],axis=1)"
   ]
  },
  {
   "cell_type": "markdown",
   "metadata": {},
   "source": [
    "**Q** Commenter le graphique ci-dessous. Présente-t-il des incohérences particulières ?"
   ]
  },
  {
   "cell_type": "code",
   "execution_count": null,
   "metadata": {
    "collapsed": false
   },
   "outputs": [],
   "source": [
    "fig = plt.figure(1, figsize=(10, 8))\n",
    "l=np.shape(mca.dummy(DD).columns.levels[0])[0]\n",
    "\n",
    "for i, j, nom in zip(mct.fs_c()[:, 0],-mct.fs_c()[:, 1], [\"Fcou\",\"Fseu\",\"Shom\",\"Sfem\",\"Pcad\",\"Pemp\" ,\"Pint\",\"Pouv\",\"Psan\",\"A0\",\"A1\",\"A2\",\"R0\",\"R1\",\"R2\"]):\n",
    "    plt.text(i, j, nom,color='b')\n",
    "plt.scatter(mct.fs_c()[:, 0],-mct.fs_c()[:, 1],marker='1',c='r')\n",
    "idx=0\n",
    "for i in mca.dummy(DD).columns.levels[0]:\n",
    "    a=mct.fs_c_sup(DD[i],ncols=2)\n",
    "    for k,l,nom in zip(-a[:,0],a[:,1],mca.dummy(DD).columns.levels[1][idx:idx+np.shape(a)[0]]):\n",
    "        plt.text(k,l, nom,color='g')\n",
    "    idx=idx+np.shape(a)[0]    \n",
    "    plt.scatter(-a[:,0],a[:,1],marker='.')\n",
    "plt.axis((-1.5,1.5,-1.5,1.5))\n",
    "P.show()"
   ]
  },
  {
   "cell_type": "markdown",
   "metadata": {},
   "source": [
    "L'objectif de cette exploration est de construire la représentation la plus explicite pour bien appréhender les structures des données. Les fonctions de python sont bien moins élaborées que celles des librairies de R. Il manque dans le graphe ci-dessous une utilisation habile des couleurs pour distinguer les modalités d'une même variable (même première lettre).\n",
    "\n",
    "**Q** Remarquant que la plupart des modalités \"0\" se trouvent à gauche du graphique suivant, quelle interprétation donner du premier axe? \n",
    "\n",
    "*Rappel*: le premier caractère de chaque libellé de modalité identifie la variable.\n",
    "\n",
    "**Q** Identifier quelques variables et modalités caractéristiques et donnez une interprétation du 2ème axe.\n",
    "\n",
    "**Exo:** Représenter les plans *(1,3)* et *(2,3)*. Une interprétation de l'axe 3 est-elle possible?\n",
    "\n",
    "**Q** Qu’est-ce qui caractérise principalement les porteurs de la carte visa premier (variable CARVP) ?"
   ]
  },
  {
   "cell_type": "code",
   "execution_count": null,
   "metadata": {
    "collapsed": false
   },
   "outputs": [],
   "source": [
    "# AFCM de toutes les variables qualitatives\n",
    "mca_comp=mca.mca(D,benzecri=False)\n",
    "fig = plt.figure(1, figsize=(10, 8))\n",
    "# graphe des modalités\n",
    "for i, j, nom in zip(mca_comp.fs_c()[:, 0],-mca_comp.fs_c()[:, 1],D.columns.get_level_values(1)):\n",
    "    plt.text(i, j, nom,color='b')\n",
    "plt.scatter(mca_comp.fs_c()[:, 0],-mca_comp.fs_c()[:, 1],marker='1',c='r')\n",
    "P.show()"
   ]
  },
  {
   "cell_type": "markdown",
   "metadata": {},
   "source": [
    "**Q** Le graphe ci-dessous représente également les clients dans le plan (1,2). L’AFC de quelle matrice a été calculée pour aboutir à ce résultat ? "
   ]
  },
  {
   "cell_type": "code",
   "execution_count": null,
   "metadata": {
    "collapsed": false,
    "scrolled": false
   },
   "outputs": [],
   "source": [
    "mca_comp=mca.mca(D,benzecri=False)\n",
    "fig = plt.figure(1, figsize=(15, 13))\n",
    "# graphe des individus et des modalités\n",
    "for i, j, nom in zip(mca_comp.fs_c()[:, 0],-mca_comp.fs_c()[:, 1],D.columns.get_level_values(1)):\n",
    "    #print(nom,i,j)\n",
    "    plt.text(i, j, nom,color='g')\n",
    "plt.scatter(mca_comp.fs_c()[:, 0],-mca_comp.fs_c()[:, 1],marker='1',c='g')\n",
    "plt.scatter(mca_comp.fs_r()[:, 0],-mca_comp.fs_r()[:, 1],marker='+',c='b')\n",
    "P.show()"
   ]
  },
  {
   "cell_type": "markdown",
   "metadata": {},
   "source": [
    "## Segmentation ou *clustering* des clients\n",
    "L'objectif principal, lors de cette première étude des données, est de fournir une typologie ou segmentation des clients. C'est-à-dire de définir des classes les plus homogènes au regard des comportements bancaires. Les algorithmes de classification étudiés sont adaptés à des variables {\\em quantitatives} ou des matrices de distances. L'intégration d'informations qualitatives peut se faire par un recodage préalable (scoring) à l'aide d'une analyse des correspondances multiples. Ce scénatio se propose donc de comparer deux approches: classification à partir des seules variables quantitatives ou classification à partir des scores issues d'une afcm. D'autres approches sont envisageables sur des variables qualitatives qui nécessitent la définition d'une distance ou dissimilarité entre individus adaptée aux variables qualitatives. Mais, nécessitant la construction de la matrice *n x n* des distances des individus deux à deux, elles ne sont pas adaptées aux très grands tableaux.\n",
    "\n",
    "### Sur les seules variables quantitatives\n",
    "A titre d'exemple, voici comment obtenir une typologie à partir des seules variables quantitatives. La stratégie est adaptée à des gros fichiers. \n",
    "\n",
    "**Q** Quel problème peut poser la CAH (classification ascendante hiérérchique)) pour de très gros fichiers?\n",
    "\n",
    "**Q** Résumer la stratégie développée ci-dessous pour pouvoir appliquer la CAH à un gros fichier. Quel est l'avantage, que cette stratégie utilise, de la CAH sur les algortihmes par réallocation dynamique de type $k-means$?"
   ]
  },
  {
   "cell_type": "code",
   "execution_count": null,
   "metadata": {
    "collapsed": true
   },
   "outputs": [],
   "source": [
    "# Sélection des variables quantitatives\n",
    "visaprems=visapremvw.select_dtypes(include=[\"int32\",\"float\",\"int64\"])\n",
    "# Centrage et réduction\n",
    "visaprems = (visaprems - visaprems.mean()) / visaprems.std()"
   ]
  },
  {
   "cell_type": "code",
   "execution_count": null,
   "metadata": {
    "collapsed": false
   },
   "outputs": [],
   "source": [
    "# Classification d'un grand tableau par k-means puis CAH\n",
    "## k-means avec 100 classes\n",
    "from sklearn.cluster import *\n",
    "T=k_means(visaprems,100)\n",
    "poids=np.zeros((100,))\n",
    "for i in T[1]:\n",
    "    poids[i]=1./np.size(T[1])\n",
    "np.sum(poids)"
   ]
  },
  {
   "cell_type": "code",
   "execution_count": null,
   "metadata": {
    "collapsed": false
   },
   "outputs": [],
   "source": [
    "## CAH des barycentres des classes\n",
    "## Calcul de la matrices des distances pondérées\n",
    "def weightedL2(a,b,wa,wb):\n",
    "    q = wa*a-wb*b\n",
    "    return np.sqrt((q*q).sum())\n",
    "dist=np.zeros((100,100))\n",
    "for i in range(dist.shape[0]):\n",
    "    for j in range(dist.shape[1]):\n",
    "        dist[i,j]=weightedL2(T[0][i],T[0][j],poids[i],poids[j])\n",
    "from scipy.cluster.hierarchy import *\n",
    "Q= linkage(dist, 'ward')        \n",
    "        "
   ]
  },
  {
   "cell_type": "code",
   "execution_count": null,
   "metadata": {
    "collapsed": false
   },
   "outputs": [],
   "source": [
    "## Dendrogramme des barycentres des classes\n",
    "plt.figure(figsize=(20, 10))\n",
    "plt.title('Hierarchical Clustering Dendrogram')\n",
    "plt.xlabel('sample index')\n",
    "plt.ylabel('distance')\n",
    "dendrogram(Q,leaf_font_size=8.)\n",
    "plt.show()"
   ]
  },
  {
   "cell_type": "markdown",
   "metadata": {},
   "source": [
    "**Q** Quel est le graphique ci-dessus? Quel est le graphique ci-dessous? Quelle conclusion en tirer?"
   ]
  },
  {
   "cell_type": "code",
   "execution_count": null,
   "metadata": {
    "collapsed": false
   },
   "outputs": [],
   "source": [
    "plt.figure(figsize=(20, 10))\n",
    "plt.plot(maxdists(Q)[::-1][0:10])\n",
    "plt.show()"
   ]
  },
  {
   "cell_type": "code",
   "execution_count": null,
   "metadata": {
    "collapsed": true
   },
   "outputs": [],
   "source": [
    "## k-means avec le nombre choisi de classes \n",
    "Z=k_means(visaprems,5)\n",
    "visaprems['Classe']=Z[1]\n",
    "pca=PCA()\n",
    "C = pca.fit(visaprems.drop('Classe',axis=1)).transform(visaprems.drop('Classe',axis=1))"
   ]
  },
  {
   "cell_type": "code",
   "execution_count": null,
   "metadata": {
    "collapsed": false
   },
   "outputs": [],
   "source": [
    "## représentation des classes dans l'ACP\n",
    "plt.figure(figsize=(20, 10))\n",
    "plt.scatter(C[:,0], C[:,1],marker='1',c=visaprems[\"Classe\"],cmap=plt.cm.Set1)\n",
    "plt.show()"
   ]
  },
  {
   "cell_type": "markdown",
   "metadata": {},
   "source": [
    "### *Clustering* sur composantes de l'AFCM\n",
    "\n",
    "**Q** Préciser la démarche permettant d'obtenir une typologie des clients décrits par des variables à la fois quantitatives et qualitatives."
   ]
  },
  {
   "cell_type": "code",
   "execution_count": null,
   "metadata": {
    "collapsed": false
   },
   "outputs": [],
   "source": [
    "import mca\n",
    "# Calcul des coordonnées des individus dans l'AFCM\n",
    "D=mca.dummy(visapremvw.select_dtypes(include=[pd.Categorical,\"object\"]))\n",
    "mca_comp=mca.mca(D,benzecri=False)"
   ]
  },
  {
   "cell_type": "code",
   "execution_count": null,
   "metadata": {
    "collapsed": false
   },
   "outputs": [],
   "source": [
    "mca_comp.fs_r().shape"
   ]
  },
  {
   "cell_type": "markdown",
   "metadata": {},
   "source": [
    "**Q** Quelles sont les options disponibles de la méthode mise en oeuvre ci-dessous?"
   ]
  },
  {
   "cell_type": "code",
   "execution_count": null,
   "metadata": {
    "collapsed": false
   },
   "outputs": [],
   "source": [
    "# Avec n grand, il faudrait suivre la même stratégie que pour \n",
    "# l'acp: k-means puis CAH sur barycentres puis re-k-means. \n",
    "# On fait directement la CAH \n",
    "# data = (dat - dat.mean()) / dat.std()\n",
    "ZZ = linkage(mca_comp.fs_r(), 'ward')\n",
    "plt.figure(figsize=(15, 8))\n",
    "plt.title('Hierarchical Clustering Dendrogram')\n",
    "plt.xlabel('sample index')\n",
    "plt.ylabel('distance')\n",
    "dendrogram(ZZ,leaf_font_size=8.)\n",
    "plt.show()"
   ]
  },
  {
   "cell_type": "markdown",
   "metadata": {},
   "source": [
    "**Q** Justifier le choix du nombre de classes."
   ]
  },
  {
   "cell_type": "code",
   "execution_count": null,
   "metadata": {
    "collapsed": false
   },
   "outputs": [],
   "source": [
    "plt.figure(figsize=(20, 10))\n",
    "plt.plot(maxdists(ZZ)[::-1][0:10])\n",
    "plt.show()"
   ]
  },
  {
   "cell_type": "code",
   "execution_count": null,
   "metadata": {
    "collapsed": false
   },
   "outputs": [],
   "source": [
    "# k-means des composantes de l'AFCM avec 4 classes\n",
    "KL=k_means(mca_comp.fs_r(),4)\n",
    "visaprems[\"Klasse\"]=KL[1]\n",
    "fig = plt.figure(1, figsize=(15, 13))\n",
    "# Représentation des classes dans les composantes de l'AFCM\n",
    "for i, j, nom in zip(mca_comp.fs_c()[:, 0],-mca_comp.fs_c()[:, 1],D.columns.get_level_values(1)):\n",
    "    plt.text(i, j, nom,color='g')\n",
    "plt.scatter(mca_comp.fs_c()[:, 0],-mca_comp.fs_c()[:, 1],marker='1',c='g')\n",
    "plt.scatter(mca_comp.fs_r()[:, 0],-mca_comp.fs_r()[:, 1],marker='+',c=visaprems[\"Klasse\"])\n",
    "plt.show()"
   ]
  },
  {
   "cell_type": "code",
   "execution_count": null,
   "metadata": {
    "collapsed": false
   },
   "outputs": [],
   "source": [
    "# Ajout de la variable Classe dans la table\n",
    "visapremvw[\"Klasse\"]=KL[1]\n",
    "visapremvw[\"Klasse\"]=pd.Categorical(visapremvw[\"Klasse\"],ordered=False)\n",
    "visapremvw[\"Klasse\"]=visapremvw[\"Klasse\"].cat.rename_categories(['KL2','KL1','KL0','KL3'])\n",
    "visapremvw[\"Klasse\"].value_counts()"
   ]
  },
  {
   "cell_type": "markdown",
   "metadata": {},
   "source": [
    "**Q** Les classes obtenues sont représentées dans une AFCM comme les modalités KL0, KL1, KL2, KL3 d’une variable qualitative. A partir du graphe ci-dessous, résumer quelques caractéristiques des classes de client kL1, KL2, KL3.\n",
    "\n",
    "**Exo** Représenter le plan (1,3). Interprétation de KL0."
   ]
  },
  {
   "cell_type": "code",
   "execution_count": null,
   "metadata": {
    "collapsed": false
   },
   "outputs": [],
   "source": [
    "# AFCM avec la variable Classe\n",
    "Data=mca.dummy(visapremvw.select_dtypes(include=[pd.Categorical,\"object\"]))\n",
    "mca_class=mca.mca(Data,benzecri=False)\n",
    "fig = plt.figure(1, figsize=(15, 13))\n",
    "# Graphe des modalités\n",
    "for i, j, nom in zip(mca_class.fs_c()[:, 0],-mca_class.fs_c()[:, 1],Data.columns.get_level_values(1)):\n",
    "    if nom=='KL0' or nom=='KL1' or nom=='KL2' or nom=='KL3':\n",
    "        plt.text(i, j, nom,color='r') \n",
    "    else:    \n",
    "        plt.text(i, j, nom,color='g')\n",
    "plt.scatter(mca_class.fs_c()[:, 0],-mca_class.fs_c()[:, 1],marker='1',c='g')\n",
    "plt.show()"
   ]
  },
  {
   "cell_type": "code",
   "execution_count": null,
   "metadata": {
    "collapsed": false
   },
   "outputs": [],
   "source": [
    "# représentation des classes ou segments de clientèles\n",
    "fig = plt.figure(1, figsize=(20, 10))\n",
    "\n",
    "for i, j, nom in zip(mca_class.fs_c()[:, 0],-mca_class.fs_c()[:, 1],Data.columns.get_level_values(1)):\n",
    "    if nom=='KL0' or nom=='KL1' or nom=='KL2' or nom=='KL3':\n",
    "        plt.text(i, j, nom,color='r')\n",
    "    elif nom=='Coui' or nom=='Cnon':\n",
    "        plt.text(i, j, nom,color='m')\n",
    "    else:    \n",
    "        plt.text(i, j, nom,color='g')\n",
    "plt.scatter(mca_class.fs_c()[:, 0],-mca_class.fs_c()[:, 1],marker='1',c='g')\n",
    "plt.scatter(mca_class.fs_r()[:, 0],-mca_class.fs_r()[:, 1],marker='+',c=visaprems[\"Klasse\"])\n",
    "plt.show()"
   ]
  },
  {
   "cell_type": "markdown",
   "metadata": {},
   "source": [
    "**Exo** Améliorer la lisibilité de ces graphiques."
   ]
  }
 ],
 "metadata": {
  "kernelspec": {
   "display_name": "Python 2",
   "language": "python",
   "name": "python2"
  },
  "language_info": {
   "codemirror_mode": {
    "name": "ipython",
    "version": 2
   },
   "file_extension": ".py",
   "mimetype": "text/x-python",
   "name": "python",
   "nbconvert_exporter": "python",
   "pygments_lexer": "ipython2",
   "version": "2.7.11"
  }
 },
 "nbformat": 4,
 "nbformat_minor": 0
}
