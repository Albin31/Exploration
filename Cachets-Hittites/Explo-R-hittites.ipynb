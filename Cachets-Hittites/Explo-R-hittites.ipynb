{
 "cells": [
  {
   "cell_type": "markdown",
   "metadata": {},
   "source": [
    "<center>\n",
    "<a href=\"http://www.insa-toulouse.fr/\" ><img src=\"http://www.math.univ-toulouse.fr/~besse/Wikistat/Images/logo-insa.jpg\" style=\"float:left; max-width: 120px; display: inline\" alt=\"INSA\"/></a> \n",
    "\n",
    "<a href=\"http://wikistat.fr/\" ><img src=\"http://www.math.univ-toulouse.fr/~besse/Wikistat/Images/wikistat.jpg\" style=\"max-width: 250px; display: inline\"  alt=\"Wikistat\"/></a>\n",
    "\n",
    "<a href=\"http://www.math.univ-toulouse.fr/\" ><img src=\"http://www.math.univ-toulouse.fr/~besse/Wikistat/Images/logo_imt.jpg\" style=\"float:right; max-width: 250px; display: inline\" alt=\"IMT\"/> </a>\n",
    "</center>"
   ]
  },
  {
   "cell_type": "markdown",
   "metadata": {},
   "source": [
    "# [Scénarios d'Exploration Statistique](https://github.com/wikistat/Exploration)"
   ]
  },
  {
   "cell_type": "markdown",
   "metadata": {},
   "source": [
    "# Exploration de données archéologiques en <a href=\"https://cran.r-project.org/\"><img src=\"https://cran.r-project.org/Rlogo.svg\" style=\"max-width: 40px; display: inline\" alt=\"R\"/></a>:  datation de Cachets Hittites"
   ]
  },
  {
   "cell_type": "markdown",
   "metadata": {},
   "source": [
    "**Résumé** \n",
    "\n",
    "## Introduction\n",
    "La civilisation hittite s'est développée à partir du XVIIème siècle av. J.-C. sur un vieux fond anatolien lorsqu'une dynastie rassemble sous son autorité la mosaïque de petits états d'Anatolie centrale, installe sa capitale à Hattusa et cherche à pousser son extension jusqu'en Babylonie. Entre 1650 et 1180 av. J.-C. les rois de Hattusa ont dirigé un royaume qui s'étendait sur les plateaux de l'Anatolie centrale et, à plusieurs reprise, jusqu'au nord de la Syrie. Aux côtés de l'Égypte ou de l'Assyrie/Babylonie, les Hittites appartenaient aux grands empires du Proche-Orient. Les Hittites rivalisèrent avec l'Égypte pour la possession de la Syrie: la bataille de Qadesh (vers 1285) entre Muwatalli II et Ramsès II aboutit au statu quo. C'est dans les ruines de leur capitale, Hattusa, qu'ont été découverts des milliers de textes cunéiformes qui constituent une mine d'informations pour reconstruire l'histoire de la deuxième moitié du IIème millénaire av. J.-C.\n",
    "\n",
    "Les données proviennent d'un corpus d'objets archéologiques datés de la période du Bronze récent (1650-1180 av. J.-C.) et découverts dans la capitale de l'Empire hittite, Hattusa, en Anatolie centrale. Il s'agit de la description de cachets qui ont appartenu aux fonctionnaires et aux princes du royaume. Les cachets gravés en creux du nom, des titres et d'emblèmes servent à sceller des objets pour en attester l'authenticité et en contrôler l'ouverture. Chaque cachet est unique, identifiable par sa légende et son iconographie. Le corpus est constitué des cachets non royaux et circulaires découverts dans la capitale.\n",
    "\n",
    "Tous les cachets circulaires ont été réalisés selon le même modèle avec une plage centrale et des bordures circulaires. La plage centrale se compose d'une inscription en louvite hiéroglyphique mentionnant le nom puis éventuellement le titre du propriétaire accompagné de divers motifs. Les bordures circulaires, simples ou concentriques peuvent être garnies de hiéroglyphes, de représentations humaines ou bien de motifs décoratifs. Seul un échantillon du corpus (118 individus) a été sélectionné et compilé. Les objets archéologiques, lorsqu'ils sont découverts dans un contexte dit \"fermé\" peuvent être datés à l'aide des autres objets associés ou bien, par exemple, grâce à une datation radiocarbone. On peut ordonner chronologiquement les objets qui ne sont pas datés par leur contexte de découvertes en les comparant aux objets dont on connait la datation à l'aide d'une typologie. Parmi les cachets du corpus, un premier groupe représente les sceaux appartenant à la période de l'Ancien royaume hittite (16ème-15ème siècle av. J.-C.), un groupe intermédiaire correspond au début de l'Empire hittite (14ème siècle av. J.-C.), un troisième groupe correspond à la fin de l'Empire hittite (13ème siècle av. J.-C.). Enfin un dernier groupe comprend les sceaux de datation inconnue.\n",
    "\n",
    "![Cachet](cachet.PNG)\n",
    "\n",
    "La figure ci-dessus donne un exemple de la prise en compte de certaines observations recueillies lors de quatre campagnes de fouilles. Ce sceau G.57, à la surface convexe, possède une plage centrale délimitée par une ligne simple ainsi qu'une plage extérieure décorée de symboles. Les quatre hiéroglyphes du nom sont encadrés du titre (organisation \"T-N-T\"). Le propriétaire est un fonctionnaire (scribe).\n",
    "\n",
    "L’objectif de ce travail exploratoire est d’étudié la capacité de datation des cachets à partir de quelques variables observées sur les cachets dont seuls 60 sont datés sur les 118. Sera-t-il possible de dater des 58 restants ? Et donc d’utiliser pas la suite ces informations pour mieux dater les différentes strates des fouilles. Un modèle simple d'[arbre de décision](http://wikistat.fr/pdf/st-m-app-cart.pdf) est estimé sur ces données \n",
    "\n",
    "Une première étape de préparation des données a permis d’extraire un nombre réduit de variables en regroupant « au mieux » les caractéristiques de certaines modalités. Par souci de simplification, des variables (hiéroglyphe, hiéroglyphe titre, symbole) ont été traduites en variables dichotomiques de présence / absence de 106 hiéroglyphes et symboles parmi ceux identifiables. Les cachets sont finalement décrits par les variables du tableau ci-dessous:\n",
    "\n",
    "\n",
    "Libellé  |  Ensemble de valeurs \n",
    "-------- | --------------------\n",
    "Label | Identifiant du cachet\n",
    "Mission | Origine, lieu et date de la découverte. Cette variable n’est pas utilisée.\n",
    "orgaH | Organisation: `Atyp`, `Centre`, `Doubl`, `Quinc`, `OrTNT`\n",
    "nbPlExt | Nombre de plages extérieures: 0 à 2\n",
    "Deco | Type de décor de la plage extérieure : `DecNo`, `Ornem`, `HierSym`, `Figur`, `Anim` \n",
    "delCentre | Délimitation: `Aucune`, `Ligne`, `FrisRec`, `FrisTor` \n",
    "Datation | `DatInc`, `16-15e`, `14e`, `13e`\n",
    "diamExt | `ext1, ext2, ext3` (classes d’effectifs égaux)\n",
    "diamInt | `int1, int2, int3` (classes d’effectifs égaux)\n",
    "Titre | `TitrNo, TitrInc, Prince, Fonct` (fonctionnaire ou scribe)\n",
    "nbHier | Nombre de hiéroglyphes 1 à 9\n",
    "nbSymb | Nombre de symboles de 1 à 9\n",
    "Surface | `Plate, Convexe, Etage` (étagée) \n",
    "\n",
    "A ces variables s’ajoutent les 106 de présences / absence des symboles ou hiéroglyphes identifiés.\n",
    "\n",
    "Aidez-vous des résultats et figures pour répondre aux questions **Q**.\n"
   ]
  },
  {
   "cell_type": "markdown",
   "metadata": {},
   "source": [
    "## Lecture des données "
   ]
  },
  {
   "cell_type": "code",
   "execution_count": 1,
   "metadata": {
    "collapsed": true
   },
   "outputs": [],
   "source": [
    "cachetsModif <- read.table(\"Cachets.dat\")\n",
    "cachetsModif <- as.data.frame(lapply(cachetsModif, as.factor))"
   ]
  },
  {
   "cell_type": "code",
   "execution_count": 2,
   "metadata": {
    "collapsed": false
   },
   "outputs": [
    {
     "data": {
      "text/html": [
       "<ol class=list-inline>\n",
       "\t<li>118</li>\n",
       "\t<li>178</li>\n",
       "</ol>\n"
      ],
      "text/latex": [
       "\\begin{enumerate*}\n",
       "\\item 118\n",
       "\\item 178\n",
       "\\end{enumerate*}\n"
      ],
      "text/markdown": [
       "1. 118\n",
       "2. 178\n",
       "\n",
       "\n"
      ],
      "text/plain": [
       "[1] 118 178"
      ]
     },
     "metadata": {},
     "output_type": "display_data"
    }
   ],
   "source": [
    "dim(cachetsModif)"
   ]
  },
  {
   "cell_type": "code",
   "execution_count": 3,
   "metadata": {
    "collapsed": false
   },
   "outputs": [],
   "source": [
    "cachDat=cachetsModif[cachetsModif[,7]!=\"DatInc\",3:13]"
   ]
  },
  {
   "cell_type": "code",
   "execution_count": 4,
   "metadata": {
    "collapsed": false
   },
   "outputs": [
    {
     "data": {
      "text/plain": [
       "    orgaH    nbPlExt      Deco      delCentre    Datation  diamExt   diamInt  \n",
       " Atyp  :38   0:10    Anim   : 0   DelNo  :11   13e   :18   ext1:19   int1:35  \n",
       " Centre: 1   1:44    DecNo  :10   FrisRec: 2   14e   :12   ext2:19   int2: 8  \n",
       " Doubl : 3   2: 6    Figur  : 2   FrisTor: 1   16-15e:30   ext3:22   int3:17  \n",
       " OrTNT :13           HierSym:21   Ligne  :46   DatInc: 0                      \n",
       " Quinc : 5           Ornem  :27                                               \n",
       "                                                                              \n",
       "                                                                              \n",
       "     Titre        nbHier   nbSym     Surface  \n",
       " Fonct  :34   3      :19   0:14   Convexe:18  \n",
       " Prince : 8   2      :11   1:10   Etage  : 0  \n",
       " TitrInc: 8   5      : 9   2:29   Plate  :42  \n",
       " TitrNo :10   4      : 8   3: 6               \n",
       "              6      : 7   4: 1               \n",
       "              1      : 2   5: 0               \n",
       "              (Other): 4                      "
      ]
     },
     "metadata": {},
     "output_type": "display_data"
    }
   ],
   "source": [
    "summary(cachDat)"
   ]
  },
  {
   "cell_type": "code",
   "execution_count": 36,
   "metadata": {
    "collapsed": false
   },
   "outputs": [
    {
     "data": {
      "text/plain": [
       "    orgaH    nbPlExt      Deco      delCentre    Datation  diamExt   diamInt  \n",
       " Atyp  :54   0:26    Anim   : 3   DelNo  :13   13e   :18   ext1:45   int1:47  \n",
       " Centre: 9   1:79    DecNo  :26   FrisRec: 5   14e   :12   ext2:36   int2:34  \n",
       " Doubl :12   2:13    Figur  : 3   FrisTor: 1   16-15e:30   ext3:37   int3:37  \n",
       " OrTNT :38           HierSym:51   Ligne  :99   DatInc:58                      \n",
       " Quinc : 5           Ornem  :35                                               \n",
       "                                                                              \n",
       "                                                                              \n",
       "     Titre        nbHier   nbSym     Surface  \n",
       " Fonct  :76   3      :28   0:23   Convexe:57  \n",
       " Prince :17   5      :27   1:18   Etage  : 2  \n",
       " TitrInc: 9   4      :18   2:51   Plate  :59  \n",
       " TitrNo :16   2      :17   3:19               \n",
       "              6      :12   4: 6               \n",
       "              7      : 7   5: 1               \n",
       "              (Other): 9                      "
      ]
     },
     "metadata": {},
     "output_type": "display_data"
    }
   ],
   "source": [
    "summary(cachetsModif[cachetsModif[,7]!=\"Inconnue\",3:13])"
   ]
  },
  {
   "cell_type": "code",
   "execution_count": 37,
   "metadata": {
    "collapsed": true
   },
   "outputs": [],
   "source": [
    "library(FactoMineR)"
   ]
  },
  {
   "cell_type": "markdown",
   "metadata": {},
   "source": [
    "## AFCM \n",
    "### Sans les symboles  "
   ]
  },
  {
   "cell_type": "code",
   "execution_count": 47,
   "metadata": {
    "collapsed": true
   },
   "outputs": [],
   "source": [
    "afcm=MCA(cachDat,quali.sup =5,  graph= F)"
   ]
  },
  {
   "cell_type": "markdown",
   "metadata": {},
   "source": [
    "### Representation des variables"
   ]
  },
  {
   "cell_type": "code",
   "execution_count": 48,
   "metadata": {
    "collapsed": false
   },
   "outputs": [
    {
     "data": {
      "image/png": "[encoded data removed]",
      "text/plain": [
       "Plot with title \"MCA factor map\""
      ]
     },
     "metadata": {},
     "output_type": "display_data"
    }
   ],
   "source": [
    "plot(afcm,invisible =\"ind\", habillage=\"quali\")"
   ]
  },
  {
   "cell_type": "markdown",
   "metadata": {},
   "source": [
    "### Représentation que des individus"
   ]
  },
  {
   "cell_type": "code",
   "execution_count": 49,
   "metadata": {
    "collapsed": false
   },
   "outputs": [
    {
     "data": {
      "image/png": "[encoded data removed]",
      "text/plain": [
       "Plot with title \"MCA factor map\""
      ]
     },
     "metadata": {},
     "output_type": "display_data"
    }
   ],
   "source": [
    "plot(afcm, choix=\"ind\", invisible = \"var\", habillage=\"quali\",col.ind=as.factor(cachDat$Datation))"
   ]
  },
  {
   "cell_type": "markdown",
   "metadata": {},
   "source": [
    "### Individus et variables "
   ]
  },
  {
   "cell_type": "code",
   "execution_count": 50,
   "metadata": {
    "collapsed": false
   },
   "outputs": [
    {
     "data": {
      "image/png": "[encoded data removed]",
      "text/plain": [
       "Plot with title \"MCA factor map\""
      ]
     },
     "metadata": {},
     "output_type": "display_data"
    }
   ],
   "source": [
    "#plan factoriel (2,3)\n",
    "plot(afcm, choix=\"ind\", invisible = \"var\", habillage=\"quali\",col.ind=as.factor(cachDat$Datation),axes=3:4)"
   ]
  },
  {
   "cell_type": "markdown",
   "metadata": {},
   "source": [
    "## Classification non supervisee\n",
    "\n",
    "### Sans les dates "
   ]
  },
  {
   "cell_type": "code",
   "execution_count": 54,
   "metadata": {
    "collapsed": false
   },
   "outputs": [
    {
     "name": "stdout",
     "output_type": "stream",
     "text": [
      "\n",
      "Call:\n",
      "MCA(X = cachDat, quali.sup = 5, graph = F) \n",
      "\n",
      "\n",
      "Eigenvalues\n",
      "                       Dim.1   Dim.2   Dim.3   Dim.4   Dim.5   Dim.6   Dim.7\n",
      "Variance               0.492   0.296   0.238   0.218   0.201   0.171   0.157\n",
      "% of var.             15.389   9.245   7.442   6.810   6.267   5.348   4.897\n",
      "Cumulative % of var.  15.389  24.635  32.076  38.886  45.154  50.502  55.399\n",
      "                       Dim.8   Dim.9  Dim.10  Dim.11  Dim.12  Dim.13  Dim.14\n",
      "Variance               0.144   0.135   0.113   0.105   0.102   0.098   0.096\n",
      "% of var.              4.508   4.217   3.532   3.284   3.181   3.066   3.000\n",
      "Cumulative % of var.  59.907  64.123  67.655  70.938  74.120  77.186  80.185\n",
      "                      Dim.15  Dim.16  Dim.17  Dim.18  Dim.19  Dim.20  Dim.21\n",
      "Variance               0.081   0.079   0.070   0.062   0.058   0.049   0.045\n",
      "% of var.              2.535   2.458   2.172   1.945   1.807   1.535   1.411\n",
      "Cumulative % of var.  82.720  85.178  87.350  89.295  91.102  92.636  94.047\n",
      "                      Dim.22  Dim.23  Dim.24  Dim.25  Dim.26  Dim.27  Dim.28\n",
      "Variance               0.040   0.037   0.034   0.020   0.018   0.017   0.011\n",
      "% of var.              1.262   1.156   1.053   0.617   0.548   0.537   0.345\n",
      "Cumulative % of var.  95.309  96.465  97.518  98.135  98.683  99.220  99.565\n",
      "                      Dim.29  Dim.30  Dim.31  Dim.32\n",
      "Variance               0.008   0.006   0.000   0.000\n",
      "% of var.              0.260   0.175   0.000   0.000\n",
      "Cumulative % of var.  99.825 100.000 100.000 100.000\n",
      "\n",
      "Individuals (the 10 first)\n",
      "             Dim.1    ctr   cos2    Dim.2    ctr   cos2    Dim.3    ctr   cos2\n",
      "1         | -0.164  0.091  0.024 |  0.057  0.018  0.003 | -0.409  1.170  0.150\n",
      "2         | -0.416  0.585  0.185 |  0.006  0.000  0.000 | -0.339  0.806  0.123\n",
      "3         | -0.354  0.425  0.095 | -0.166  0.154  0.021 | -0.031  0.007  0.001\n",
      "4         | -0.674  1.536  0.209 | -0.030  0.005  0.000 |  0.456  1.452  0.096\n",
      "5         | -0.523  0.926  0.280 |  0.160  0.144  0.026 | -0.228  0.363  0.053\n",
      "6         | -0.588  1.169  0.286 |  0.154  0.134  0.020 | -0.112  0.088  0.010\n",
      "7         | -0.662  1.483  0.270 |  0.317  0.567  0.062 |  0.126  0.111  0.010\n",
      "8         | -0.748  1.894  0.216 |  0.133  0.100  0.007 |  0.693  3.365  0.186\n",
      "9         | -0.480  0.781  0.199 |  0.000  0.000  0.000 | -0.224  0.350  0.043\n",
      "10        | -0.597  1.207  0.256 |  0.323  0.587  0.075 |  0.010  0.001  0.000\n",
      "           \n",
      "1         |\n",
      "2         |\n",
      "3         |\n",
      "4         |\n",
      "5         |\n",
      "6         |\n",
      "7         |\n",
      "8         |\n",
      "9         |\n",
      "10        |\n",
      "\n",
      "Categories (the 10 first)\n",
      "             Dim.1    ctr   cos2 v.test    Dim.2    ctr   cos2 v.test    Dim.3\n",
      "Atyp      | -0.485  3.022  0.406 -4.894 |  0.370  2.934  0.237  3.737 | -0.103\n",
      "Centre    | -1.094  0.405  0.020 -1.094 |  0.462  0.120  0.004  0.462 |  0.960\n",
      "Doubl     |  1.239  1.559  0.081  2.184 | -0.429  0.311  0.010 -0.756 |  0.194\n",
      "OrTNT     |  1.145  5.767  0.363  4.625 | -0.567  2.350  0.089 -2.289 |  0.811\n",
      "Quinc     |  0.183  0.056  0.003  0.423 | -1.175  3.892  0.126 -2.722 | -1.635\n",
      "nbPlExt_0 |  1.535  7.979  0.472  5.274 |  1.318  9.781  0.347  4.526 | -0.034\n",
      "nbPlExt_1 | -0.358  1.906  0.352 -4.557 | -0.217  1.166  0.129 -2.763 |  0.100\n",
      "nbPlExt_2 |  0.064  0.008  0.000  0.165 | -0.605  1.238  0.041 -1.550 | -0.675\n",
      "DecNo     |  1.535  7.979  0.472  5.274 |  1.318  9.781  0.347  4.526 | -0.034\n",
      "Figur     | -0.756  0.387  0.020 -1.079 |  0.013  0.000  0.000  0.018 | -1.884\n",
      "             ctr   cos2 v.test  \n",
      "Atyp       0.282  0.018 -1.040 |\n",
      "Centre     0.646  0.016  0.960 |\n",
      "Doubl      0.079  0.002  0.343 |\n",
      "OrTNT      5.988  0.182  3.277 |\n",
      "Quinc      9.358  0.243 -3.787 |\n",
      "nbPlExt_0  0.008  0.000 -0.118 |\n",
      "nbPlExt_1  0.307  0.027  1.271 |\n",
      "nbPlExt_2  1.911  0.051 -1.727 |\n",
      "DecNo      0.008  0.000 -0.118 |\n",
      "Figur      4.967  0.122 -2.687 |\n",
      "\n",
      "Categorical variables (eta2)\n",
      "            Dim.1 Dim.2 Dim.3  \n",
      "orgaH     | 0.532 0.284 0.389 |\n",
      "nbPlExt   | 0.487 0.361 0.053 |\n",
      "Deco      | 0.769 0.730 0.140 |\n",
      "delCentre | 0.174 0.203 0.315 |\n",
      "diamExt   | 0.134 0.124 0.077 |\n",
      "diamInt   | 0.610 0.163 0.025 |\n",
      "Titre     | 0.629 0.048 0.411 |\n",
      "nbHier    | 0.664 0.524 0.455 |\n",
      "nbSym     | 0.212 0.483 0.498 |\n",
      "Surface   | 0.713 0.039 0.019 |\n",
      "\n",
      "Supplementary categories\n",
      "             Dim.1   cos2 v.test    Dim.2   cos2 v.test    Dim.3   cos2 v.test\n",
      "13e       |  1.290  0.713  6.485 |  0.302  0.039  1.518 |  0.209  0.019  1.052\n",
      "14e       |  0.120  0.004  0.461 | -1.155  0.334 -4.436 | -0.585  0.086 -2.248\n",
      "16-15e    | -0.822  0.675 -6.312 |  0.281  0.079  2.158 |  0.109  0.012  0.834\n",
      "           \n",
      "13e       |\n",
      "14e       |\n",
      "16-15e    |\n",
      "\n",
      "Supplementary categorical variables (eta2)\n",
      "            Dim.1 Dim.2 Dim.3  \n",
      "Datation  | 0.839 0.334 0.088 |\n"
     ]
    }
   ],
   "source": [
    "summary(afcm)"
   ]
  },
  {
   "cell_type": "code",
   "execution_count": 52,
   "metadata": {
    "collapsed": false
   },
   "outputs": [
    {
     "ename": "ERROR",
     "evalue": "Error in while (coupe$y < min(t$tree$height)) {: l'argument est de longueur nulle\n",
     "output_type": "error",
     "traceback": [
      "Error in while (coupe$y < min(t$tree$height)) {: l'argument est de longueur nulle\nTraceback:\n",
      "1. HCPC(afcm)"
     ]
    }
   ],
   "source": [
    "#le nombre de classes = 3 (comme les 3 classes de la datation) \n",
    "res.hcpc <- HCPC(afcm, graph=F)"
   ]
  },
  {
   "cell_type": "markdown",
   "metadata": {},
   "source": [
    "La ligne suivante permet de croiser la variable classe avec chacune des variables"
   ]
  },
  {
   "cell_type": "code",
   "execution_count": null,
   "metadata": {
    "collapsed": false
   },
   "outputs": [],
   "source": [
    "res.hcpc$desc.var$test.chi2"
   ]
  },
  {
   "cell_type": "markdown",
   "metadata": {},
   "source": [
    "Et de connaitre les modalites les plus presentes dans chaque classe"
   ]
  },
  {
   "cell_type": "code",
   "execution_count": null,
   "metadata": {
    "collapsed": false
   },
   "outputs": [],
   "source": [
    "res.hcpc$desc.var$category"
   ]
  },
  {
   "cell_type": "code",
   "execution_count": null,
   "metadata": {
    "collapsed": false
   },
   "outputs": [],
   "source": [
    "#croisement des variables quelques exemples\n",
    "table(res.hcpc$data.clust$clust, res.hcpc$data.clust[,1])"
   ]
  },
  {
   "cell_type": "code",
   "execution_count": null,
   "metadata": {
    "collapsed": false
   },
   "outputs": [],
   "source": [
    "table(res.hcpc$data.clust$clust, res.hcpc$data.clust[,2])"
   ]
  },
  {
   "cell_type": "code",
   "execution_count": null,
   "metadata": {
    "collapsed": false
   },
   "outputs": [],
   "source": [
    "table(res.hcpc$data.clust$clust, res.hcpc$data.clust[,3])"
   ]
  },
  {
   "cell_type": "code",
   "execution_count": null,
   "metadata": {
    "collapsed": false
   },
   "outputs": [],
   "source": [
    "table(res.hcpc$data.clust$clust, res.hcpc$data.clust[,4])"
   ]
  },
  {
   "cell_type": "code",
   "execution_count": null,
   "metadata": {
    "collapsed": false
   },
   "outputs": [],
   "source": [
    "table(res.hcpc$data.clust$clust, res.hcpc$data.clust[,5])"
   ]
  },
  {
   "cell_type": "code",
   "execution_count": null,
   "metadata": {
    "collapsed": false
   },
   "outputs": [],
   "source": [
    "table(res.hcpc$data.clust$clust, res.hcpc$data.clust[,6])"
   ]
  },
  {
   "cell_type": "code",
   "execution_count": null,
   "metadata": {
    "collapsed": false
   },
   "outputs": [],
   "source": [
    "#interpretation des classes\n",
    "color=as.integer(res.hcpc$data.clust$clust)\n",
    "# sur plan(1,2)\n",
    "plot(afcm, choix=\"ind\",invisible =\"var\",habillage=\"quali\", col.ind=color)"
   ]
  },
  {
   "cell_type": "code",
   "execution_count": null,
   "metadata": {
    "collapsed": false
   },
   "outputs": [],
   "source": [
    "# sur plan(2,3)\n",
    "plot(afcm, choix=\"ind\",invisible =\"var\",axes= 2:3, habillage=\"quali\", col.ind=color)"
   ]
  },
  {
   "cell_type": "code",
   "execution_count": null,
   "metadata": {
    "collapsed": false
   },
   "outputs": [],
   "source": [
    "# sur plan(3,4)\n",
    "plot(afcm, choix=\"ind\",invisible =\"var\",axes=3:4, habillage=\"quali\", col.ind=color)"
   ]
  },
  {
   "cell_type": "markdown",
   "metadata": {},
   "source": [
    "Il y a du rouge partout car dans cette classe il y a les inconnus  et ils sont dispersés dans toutes les classes. On essaie de representer les classes avec nos cachets qu'on a daté\n",
    "\n",
    "### Création de la table avec  les seuls cachets datés"
   ]
  },
  {
   "cell_type": "code",
   "execution_count": null,
   "metadata": {
    "collapsed": false
   },
   "outputs": [],
   "source": [
    "cachetsfin <- rbind(cachetsDate, cachets.pred)\n",
    "color = as.integer(cachetsfin$Datation)\n",
    "plot(afcm, choix=\"ind\", habillage=\"quali\", invisible=\"var\", col.ind=color)"
   ]
  },
  {
   "cell_type": "code",
   "execution_count": null,
   "metadata": {
    "collapsed": true
   },
   "outputs": [],
   "source": [
    "#comparaison des deux classifications : (on remarque qu'elles sont assez differentes)\n",
    "table(color, res.hcpc$data.clust$clust)\n",
    "\n",
    "## Classif non supervisée SANS les inconnus (tous les cachets sont datés)\n",
    "afcm.date=MCA(cachetsfin, graph= F)"
   ]
  },
  {
   "cell_type": "code",
   "execution_count": null,
   "metadata": {
    "collapsed": true
   },
   "outputs": [],
   "source": [
    "#representation que des variables\n",
    "plot(afcm.date,invisible =\"ind\", habillage=\"quali\")"
   ]
  },
  {
   "cell_type": "code",
   "execution_count": null,
   "metadata": {
    "collapsed": true
   },
   "outputs": [],
   "source": [
    "#plan factoriel (2,3)\n",
    "plot(afcm.date,invisible =\"ind\", habillage=\"quali\",axes=2:3)"
   ]
  },
  {
   "cell_type": "code",
   "execution_count": null,
   "metadata": {
    "collapsed": true
   },
   "outputs": [],
   "source": [
    "#plan factoriel (3,4)\n",
    "plot(afcm.date,invisible =\"ind\", habillage=\"quali\",axes=3:4)"
   ]
  },
  {
   "cell_type": "code",
   "execution_count": null,
   "metadata": {
    "collapsed": true
   },
   "outputs": [],
   "source": [
    "# representation que des individus\n",
    "plot(afcm.date, choix=\"ind\", invisible = \"var\", habillage=\"quali\")"
   ]
  },
  {
   "cell_type": "code",
   "execution_count": null,
   "metadata": {
    "collapsed": true
   },
   "outputs": [],
   "source": [
    "HCPC(afcm)\n",
    "res.hcpc <- HCPC(afcm.date, graph=F, nb.clust=3)\n",
    "res.hcpc$desc.var$test.chi2"
   ]
  },
  {
   "cell_type": "code",
   "execution_count": null,
   "metadata": {
    "collapsed": true
   },
   "outputs": [],
   "source": [
    "res.hcpc$desc.var$category"
   ]
  },
  {
   "cell_type": "code",
   "execution_count": null,
   "metadata": {
    "collapsed": true
   },
   "outputs": [],
   "source": [
    "#croisement des variables quelques exemples\n",
    "table(res.hcpc$data.clust$clust, res.hcpc$data.clust[,7])"
   ]
  },
  {
   "cell_type": "code",
   "execution_count": null,
   "metadata": {
    "collapsed": true
   },
   "outputs": [],
   "source": [
    "#interpretation des classes\n",
    "color=as.integer(res.hcpc$data.clust$clust)"
   ]
  },
  {
   "cell_type": "code",
   "execution_count": null,
   "metadata": {
    "collapsed": true
   },
   "outputs": [],
   "source": [
    "# sur plan(1,2)\n",
    "plot(afcm.date, choix=\"ind\",invisible =\"var\",habillage=\"quali\", col.ind=color)"
   ]
  },
  {
   "cell_type": "code",
   "execution_count": null,
   "metadata": {
    "collapsed": true
   },
   "outputs": [],
   "source": [
    "# sur plan(2,3)\n",
    "plot(afcm.date, choix=\"ind\",invisible =\"var\",axes= 2:3, habillage=\"quali\", col.ind=color)"
   ]
  },
  {
   "cell_type": "code",
   "execution_count": null,
   "metadata": {
    "collapsed": true
   },
   "outputs": [],
   "source": [
    "# sur plan(3,4)\n",
    "plot(afcm.date, choix=\"ind\",invisible =\"var\",axes=3:4, habillage=\"quali\", col.ind=color)"
   ]
  },
  {
   "cell_type": "code",
   "execution_count": null,
   "metadata": {
    "collapsed": true
   },
   "outputs": [],
   "source": [
    "#coloration de cette afcm avec les dates\n",
    "color = as.integer(cachetsfin$Datation)\n",
    "plot(afcm.date, choix=\"ind\", habillage=\"quali\", invisible=\"var\", col.ind=color)"
   ]
  },
  {
   "cell_type": "code",
   "execution_count": null,
   "metadata": {
    "collapsed": true
   },
   "outputs": [],
   "source": [
    "table(res.hcpc$)"
   ]
  },
  {
   "cell_type": "code",
   "execution_count": null,
   "metadata": {
    "collapsed": true
   },
   "outputs": [],
   "source": [
    "## Classification non supervisee des symboles\n",
    "\n",
    "afcm.symb=MCA(cachetsSymbSelec[,14:39], graph= T)\n",
    "plot(afcm.symb, choix=\"ind\", habillage=\"quali\", invisible=\"ind\")\n",
    "plot(afcm.symb, choix=\"ind\", habillage=\"quali\", invisible=\"var\")\n",
    "HCPC(afcm.symb)\n",
    "res.symb <- HCPC(afcm.symb, method=\"single\", graph=F, nb.clust=6)\n",
    "#la ligne suivante permet de croiser la variable classe avec chacune des variables\n",
    "res.symb$desc.var$test.chi2\n",
    "#et de connaitre les modalit?s les plus pr?sentes dans chaque classe\n",
    "res.symb$desc.var$category\n",
    "\n",
    "#interprétation des classes\n",
    "color=as.integer(res.symb$data.clust$clust)\n",
    "par(mfcol=c(1,1))\n",
    "# sur plan(1,2)\n",
    "plot(afcm.symb, choix=\"ind\",invisible =\"var\",habillage=\"quali\", col.ind=color)\n",
    "# sur plan(2,3)\n",
    "plot(afcm.symb, choix=\"ind\",invisible =\"var\",axes= 2:3, habillage=\"quali\", col.ind=color)\n",
    "# sur plan(3,4)\n",
    "plot(afcm.symb, choix=\"ind\",invisible =\"var\",axes=3:4, habillage=\"quali\", col.ind=color)\n",
    "##########################\n",
    "cachetsModif <- read.table(\"donnees.txt\")\n",
    "cachetsModif <- as.data.frame(lapply(cachetsModif, as.factor))\n",
    "\n",
    "# La méthode de factorisaito en produits de matrices non négatives \n",
    "# conduit principalement à graphes de bi-clustering\n",
    "# voila les commandes appliquées sur les symboles de données hitittes \n",
    "############################\n",
    "### factorisation matrice creuse\n",
    "data.symb=cachetsModif[,17:176]\n",
    "creux=matrix(as.integer(as.matrix(data.symb)),nrow=118,ncol=160)\n",
    "dimnames(creux)[[2]]=dimnames(data.symb)[[2]]\n",
    "dimnames(creux)[[1]]=as.character(1:118)\n",
    "# par habitude des données génomiques, les \"variables\" ou \"features\" ou \"gènes\"\n",
    "# sont rangées en lignes tandis que les \"samples\" ou individus sont en ligne\n",
    "# c'est donc t(creux) qui est étudiée\n",
    "library(NMF)\n",
    "# choix du rang\n",
    "estim.r=nmf(t(creux),1:4,nrun=10,seed=111)\n",
    "# messages d'erreur ! mais des résultats\n",
    "plot(estim.r) # problème au delà de r=4 !!\n",
    "# la commande suivante ne marche pas ?\n",
    "consensusmap(estim.r, annCol = creux, labCol = NA, labRow = NA)\n",
    "# Que choisir : r=3 ou r=4 ?\n",
    "# 50 exécutions pour prendre la meilleure\n",
    "nmf.cachet=nmf(t(creux),3,nrun=50)\n",
    "\n",
    "# comparer différentes méthodes \n",
    "res.multi.method=nmf(t(creux), 3,list(\"brunet\",\"lee\",\"ns\"),seed = 111, .options =\"t\")\n",
    "compare(res.multi.method)\n",
    "# comment choisir la meilleure ?\n",
    "       method   seed rng    metric rank sparseness.basis sparseness.coef silhouette.coef silhouette.basis residuals niter\n",
    "brunet brunet random   1        KL    3        0.6072550       0.8387022       0.9107442        0.8916420 1705.1541   550\n",
    "lee       lee random   1 euclidean    3        0.6886838       0.6738105       0.8217347        0.8126766  326.3325   460\n",
    "nsNMF   nsNMF random   1        KL    3        0.6605538       0.8670054       0.9125095        0.9384022 1865.2819   700\n",
    "\n",
    "# quel choix de méthode ??? minimise les résidus donc lee ou plus grande sparseness.basis donc brunet\n",
    "\n",
    "# Comment interpréter ce graphe ?\n",
    "plot(res.multi.method)\n",
    "# il faudrait aussi choisir le mode d'initialisation\n",
    "# seed=\"nndsvd\" ne marche pas \n",
    "summary(nmf.cachet)\n",
    "s=featureScore(nmf.cachet)\n",
    "summary(s)\n",
    "s=extractFeatures(nmf.cachet)\n",
    "# même type de problème non identifié\n",
    "str(s) # problème\n",
    "# les matrices de facteurs\n",
    "w=basis(nmf.cachet)\n",
    "h=coef(nmf.cachet)\n",
    "# comment s'interprète les graphiques ci-dessous ?\n",
    "consensusmap(res,annCol=classe)\n",
    "basismap(res)\n",
    "coefmap(res,annCol=classe)\n",
    "\n",
    "# méthode lee conduit à des résultats très différents \n",
    "res.lee=nmf(t(creux),3,\"lee\",nrun=50)\n",
    "summary(res.lee)\n",
    "s=featureScore(res.lee)\n",
    "summary(s)\n",
    "s=extractFeatures(res)\n",
    "str(s) # problème\n",
    "\n",
    "w.lee=basis(res.lee)\n",
    "h.lee=coef(res.lee)\n",
    "\n",
    "consensusmap(res.lee,annCol=classe)\n",
    "basismap(res.lee)\n",
    "coefmap(res.lee,annCol=classe)"
   ]
  }
 ],
 "metadata": {
  "kernelspec": {
   "display_name": "R",
   "language": "R",
   "name": "ir"
  },
  "language_info": {
   "codemirror_mode": "r",
   "file_extension": ".r",
   "mimetype": "text/x-r-source",
   "name": "R",
   "pygments_lexer": "r",
   "version": "3.3.3"
  }
 },
 "nbformat": 4,
 "nbformat_minor": 0
}
