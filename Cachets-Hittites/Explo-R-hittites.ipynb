{
 "cells": [
  {
   "cell_type": "markdown",
   "metadata": {},
   "source": [
    "<center>\n",
    "<a href=\"http://www.insa-toulouse.fr/\" ><img src=\"http://www.math.univ-toulouse.fr/~besse/Wikistat/Images/logo-insa.jpg\" style=\"float:left; max-width: 120px; display: inline\" alt=\"INSA\"/></a> \n",
    "\n",
    "<a href=\"http://wikistat.fr/\" ><img src=\"http://www.math.univ-toulouse.fr/~besse/Wikistat/Images/wikistat.jpg\" style=\"max-width: 250px; display: inline\"  alt=\"Wikistat\"/></a>\n",
    "\n",
    "<a href=\"http://www.math.univ-toulouse.fr/\" ><img src=\"http://www.math.univ-toulouse.fr/~besse/Wikistat/Images/logo_imt.jpg\" style=\"float:right; max-width: 250px; display: inline\" alt=\"IMT\"/> </a>\n",
    "</center>"
   ]
  },
  {
   "cell_type": "markdown",
   "metadata": {},
   "source": [
    "# [Scénarios d'Exploration Statistique](https://github.com/wikistat/Exploration)"
   ]
  },
  {
   "cell_type": "markdown",
   "metadata": {},
   "source": [
    "# Exploration de données archéologiques en <a href=\"https://cran.r-project.org/\"><img src=\"https://cran.r-project.org/Rlogo.svg\" style=\"max-width: 40px; display: inline\" alt=\"R\"/></a>:  datation de Cachets Hittites"
   ]
  },
  {
   "cell_type": "markdown",
   "metadata": {},
   "source": [
    "**Résumé** \n",
    "\n",
    "## Introduction\n",
    "La civilisation hittite s'est développée à partir du XVIIème siècle av. J.-C. sur un vieux fond anatolien lorsqu'une dynastie rassemble sous son autorité la mosaïque de petits états d'Anatolie centrale, installe sa capitale à Hattusa et cherche à pousser son extension jusqu'en Babylonie. Entre 1650 et 1180 av. J.-C. les rois de Hattusa ont dirigé un royaume qui s'étendait sur les plateaux de l'Anatolie centrale et, à plusieurs reprise, jusqu'au nord de la Syrie. Aux côtés de l'Égypte ou de l'Assyrie/Babylonie, les Hittites appartenaient aux grands empires du Proche-Orient. Les Hittites rivalisèrent avec l'Égypte pour la possession de la Syrie: la bataille de Qadesh (vers 1285) entre Muwatalli II et Ramsès II aboutit au statu quo. C'est dans les ruines de leur capitale, Hattusa, qu'ont été découverts des milliers de textes cunéiformes qui constituent une mine d'informations pour reconstruire l'histoire de la deuxième moitié du IIème millénaire av. J.-C.\n",
    "\n",
    "Les données proviennent d'un corpus d'objets archéologiques datés de la période du Bronze récent (1650-1180 av. J.-C.) et découverts dans la capitale de l'Empire hittite, Hattusa, en Anatolie centrale. Il s'agit de la description de cachets qui ont appartenu aux fonctionnaires et aux princes du royaume. Les cachets gravés en creux du nom, des titres et d'emblèmes servent à sceller des objets pour en attester l'authenticité et en contrôler l'ouverture. Chaque cachet est unique, identifiable par sa légende et son iconographie. Le corpus est constitué des cachets non royaux et circulaires découverts dans la capitale.\n",
    "\n",
    "Tous les cachets circulaires ont été réalisés selon le même modèle avec une plage centrale et des bordures circulaires. La plage centrale se compose d'une inscription en louvite hiéroglyphique mentionnant le nom puis éventuellement le titre du propriétaire accompagné de divers motifs. Les bordures circulaires, simples ou concentriques peuvent être garnies de hiéroglyphes, de représentations humaines ou bien de motifs décoratifs. Seul un échantillon du corpus (118 individus) a été sélectionné et compilé. Les objets archéologiques, lorsqu'ils sont découverts dans un contexte dit \"fermé\" peuvent être datés à l'aide des autres objets associés ou bien, par exemple, grâce à une datation radiocarbone. On peut ordonner chronologiquement les objets qui ne sont pas datés par leur contexte de découvertes en les comparant aux objets dont on connait la datation à l'aide d'une typologie. Parmi les cachets du corpus, un premier groupe représente les sceaux appartenant à la période de l'Ancien royaume hittite (16ème-15ème siècle av. J.-C.), un groupe intermédiaire correspond au début de l'Empire hittite (14ème siècle av. J.-C.), un troisième groupe correspond à la fin de l'Empire hittite (13ème siècle av. J.-C.). Enfin un dernier groupe comprend les sceaux de datation inconnue.\n",
    "\n",
    "![Cachet](cachet.PNG)\n",
    "\n",
    "La figure ci-dessus donne un exemple de la prise en compte de certaines observations recueillies lors de quatre campagnes de fouilles. Ce sceau G.57, à la surface convexe, possède une plage centrale délimitée par une ligne simple ainsi qu'une plage extérieure décorée de symboles. Les quatre hiéroglyphes du nom sont encadrés du titre (organisation \"T-N-T\"). Le propriétaire est un fonctionnaire (scribe).\n",
    "\n",
    "L’objectif de ce travail exploratoire est d’étudié la capacité de datation des cachets à partir de quelques variables observées sur les cachets dont seuls 60 sont datés sur les 118. Sera-t-il possible de dater des 58 restants ? Et donc d’utiliser pas la suite ces informations pour mieux dater les différentes strates des fouilles. Un modèle simple d'[arbre de décision](http://wikistat.fr/pdf/st-m-app-cart.pdf) est estimé sur ces données \n",
    "\n",
    "Une première étape de préparation des données a permis d’extraire un nombre réduit de variables en regroupant « au mieux » les caractéristiques de certaines modalités. Par souci de simplification, des variables (hiéroglyphe, hiéroglyphe titre, symbole) ont été traduites en variables dichotomiques de présence / absence de 106 hiéroglyphes et symboles parmi ceux identifiables. Les cachets sont finalement décrits par les variables du tableau ci-dessous:\n",
    "\n",
    "\n",
    "Libellé  |  Ensemble de valeurs \n",
    "-------- | --------------------\n",
    "Label | Identifiant du cachet\n",
    "Mission | Origine, lieu et date de la découverte. Cette variable n’est pas utilisée.\n",
    "orgaH | Organisation: `Atyp`, `Centre`, `Doubl`, `Quinc`, `OrTNT`\n",
    "nbPlExt | Nombre de plages extérieures: 0 à 2\n",
    "Deco | Type de décor de la plage extérieure : `DecNo`, `Ornem`, `HierSym`, `Figur`, `Anim` \n",
    "delCentre | Délimitation: `Aucune`, `Ligne`, `FrisRec`, `FrisTor` \n",
    "Datation | `DatInc`, `16-15e`, `14e`, `13e`\n",
    "diamExt | `ext1, ext2, ext3` (classes d’effectifs égaux)\n",
    "diamInt | `int1, int2, int3` (classes d’effectifs égaux)\n",
    "Titre | `TitrNo, TitrInc, Prince, Fonct` (fonctionnaire ou scribe)\n",
    "nbHier | Nombre de hiéroglyphes 1 à 9\n",
    "nbSymb | Nombre de symboles de 1 à 9\n",
    "Surface | `Plate, Convexe, Etage` (étagée) \n",
    "\n",
    "A ces variables s’ajoutent les 106 de présences / absence des symboles ou hiéroglyphes identifiés.\n",
    "\n",
    "Aidez-vous des résultats et figures pour répondre aux questions **Q**.\n"
   ]
  },
  {
   "cell_type": "markdown",
   "metadata": {},
   "source": [
    "## Lecture des données "
   ]
  },
  {
   "cell_type": "code",
   "execution_count": 1,
   "metadata": {
    "collapsed": true
   },
   "outputs": [],
   "source": [
    "cachetsModif <- read.table(\"Cachets.dat\")\n",
    "cachetsModif <- as.data.frame(lapply(cachetsModif, as.factor))"
   ]
  },
  {
   "cell_type": "code",
   "execution_count": 2,
   "metadata": {
    "collapsed": false
   },
   "outputs": [
    {
     "data": {
      "text/html": [
       "<ol class=list-inline>\n",
       "\t<li>118</li>\n",
       "\t<li>178</li>\n",
       "</ol>\n"
      ],
      "text/latex": [
       "\\begin{enumerate*}\n",
       "\\item 118\n",
       "\\item 178\n",
       "\\end{enumerate*}\n"
      ],
      "text/markdown": [
       "1. 118\n",
       "2. 178\n",
       "\n",
       "\n"
      ],
      "text/plain": [
       "[1] 118 178"
      ]
     },
     "metadata": {},
     "output_type": "display_data"
    }
   ],
   "source": [
    "dim(cachetsModif)"
   ]
  },
  {
   "cell_type": "code",
   "execution_count": 3,
   "metadata": {
    "collapsed": false
   },
   "outputs": [],
   "source": [
    "cachDat=cachetsModif[cachetsModif[,7]!=\"DatInc\",3:13]"
   ]
  },
  {
   "cell_type": "code",
   "execution_count": 4,
   "metadata": {
    "collapsed": false
   },
   "outputs": [
    {
     "data": {
      "text/plain": [
       "    orgaH    nbPlExt      Deco      delCentre    Datation  diamExt   diamInt  \n",
       " Atyp  :38   0:10    Anim   : 0   DelNo  :11   13e   :18   ext1:19   int1:35  \n",
       " Centre: 1   1:44    DecNo  :10   FrisRec: 2   14e   :12   ext2:19   int2: 8  \n",
       " Doubl : 3   2: 6    Figur  : 2   FrisTor: 1   16-15e:30   ext3:22   int3:17  \n",
       " OrTNT :13           HierSym:21   Ligne  :46   DatInc: 0                      \n",
       " Quinc : 5           Ornem  :27                                               \n",
       "                                                                              \n",
       "                                                                              \n",
       "     Titre        nbHier   nbSym     Surface  \n",
       " Fonct  :34   3      :19   0:14   Convexe:18  \n",
       " Prince : 8   2      :11   1:10   Etage  : 0  \n",
       " TitrInc: 8   5      : 9   2:29   Plate  :42  \n",
       " TitrNo :10   4      : 8   3: 6               \n",
       "              6      : 7   4: 1               \n",
       "              1      : 2   5: 0               \n",
       "              (Other): 4                      "
      ]
     },
     "metadata": {},
     "output_type": "display_data"
    }
   ],
   "source": [
    "summary(cachDat)"
   ]
  },
  {
   "cell_type": "code",
   "execution_count": 5,
   "metadata": {
    "collapsed": false
   },
   "outputs": [
    {
     "data": {
      "text/plain": [
       "    orgaH    nbPlExt      Deco      delCentre    Datation  diamExt   diamInt  \n",
       " Atyp  :54   0:26    Anim   : 3   DelNo  :13   13e   :18   ext1:45   int1:47  \n",
       " Centre: 9   1:79    DecNo  :26   FrisRec: 5   14e   :12   ext2:36   int2:34  \n",
       " Doubl :12   2:13    Figur  : 3   FrisTor: 1   16-15e:30   ext3:37   int3:37  \n",
       " OrTNT :38           HierSym:51   Ligne  :99   DatInc:58                      \n",
       " Quinc : 5           Ornem  :35                                               \n",
       "                                                                              \n",
       "                                                                              \n",
       "     Titre        nbHier   nbSym     Surface  \n",
       " Fonct  :76   3      :28   0:23   Convexe:57  \n",
       " Prince :17   5      :27   1:18   Etage  : 2  \n",
       " TitrInc: 9   4      :18   2:51   Plate  :59  \n",
       " TitrNo :16   2      :17   3:19               \n",
       "              6      :12   4: 6               \n",
       "              7      : 7   5: 1               \n",
       "              (Other): 9                      "
      ]
     },
     "metadata": {},
     "output_type": "display_data"
    }
   ],
   "source": [
    "summary(cachetsModif[cachetsModif[,7]!=\"Inconnue\",3:13])"
   ]
  },
  {
   "cell_type": "code",
   "execution_count": 6,
   "metadata": {
    "collapsed": true
   },
   "outputs": [],
   "source": [
    "library(FactoMineR)"
   ]
  },
  {
   "cell_type": "markdown",
   "metadata": {},
   "source": [
    "## AFCM \n",
    "### Sans les symboles  "
   ]
  },
  {
   "cell_type": "code",
   "execution_count": 7,
   "metadata": {
    "collapsed": true
   },
   "outputs": [],
   "source": [
    "afcm=MCA(cachDat,quali.sup =5,  graph= F)"
   ]
  },
  {
   "cell_type": "markdown",
   "metadata": {},
   "source": [
    "### Representation des variables"
   ]
  },
  {
   "cell_type": "code",
   "execution_count": 8,
   "metadata": {
    "collapsed": false
   },
   "outputs": [
    {
     "data": {
      "image/png": "[encoded data removed]",
      "text/plain": [
       "Plot with title \"MCA factor map\""
      ]
     },
     "metadata": {},
     "output_type": "display_data"
    }
   ],
   "source": [
    "plot(afcm,invisible =\"ind\", habillage=\"quali\")"
   ]
  },
  {
   "cell_type": "markdown",
   "metadata": {},
   "source": [
    "### Représentation que des individus"
   ]
  },
  {
   "cell_type": "code",
   "execution_count": 9,
   "metadata": {
    "collapsed": false
   },
   "outputs": [
    {
     "data": {
      "image/png": "[encoded data removed]",
      "text/plain": [
       "Plot with title \"MCA factor map\""
      ]
     },
     "metadata": {},
     "output_type": "display_data"
    }
   ],
   "source": [
    "plot(afcm, choix=\"ind\", invisible = \"var\", habillage=\"quali\",col.ind=as.factor(cachDat$Datation))"
   ]
  },
  {
   "cell_type": "markdown",
   "metadata": {},
   "source": [
    "### Individus et variables "
   ]
  },
  {
   "cell_type": "code",
   "execution_count": 10,
   "metadata": {
    "collapsed": false
   },
   "outputs": [
    {
     "data": {
      "image/png": "[encoded data removed]",
      "text/plain": [
       "Plot with title \"MCA factor map\""
      ]
     },
     "metadata": {},
     "output_type": "display_data"
    }
   ],
   "source": [
    "#plan factoriel (2,3)\n",
    "plot(afcm, choix=\"ind\", invisible = \"var\", habillage=\"quali\",col.ind=as.factor(cachDat$Datation),axes=3:4)"
   ]
  },
  {
   "cell_type": "markdown",
   "metadata": {},
   "source": [
    "## Classification non supervisee\n",
    "\n",
    "### Sans les dates "
   ]
  },
  {
   "cell_type": "code",
   "execution_count": 11,
   "metadata": {
    "collapsed": false
   },
   "outputs": [
    {
     "name": "stdout",
     "output_type": "stream",
     "text": [
      "\n",
      "Call:\n",
      "MCA(X = cachDat, quali.sup = 5, graph = F) \n",
      "\n",
      "\n",
      "Eigenvalues\n",
      "                       Dim.1   Dim.2   Dim.3   Dim.4   Dim.5   Dim.6   Dim.7\n",
      "Variance               0.492   0.296   0.238   0.218   0.201   0.171   0.157\n",
      "% of var.             15.389   9.245   7.442   6.810   6.267   5.348   4.897\n",
      "Cumulative % of var.  15.389  24.635  32.076  38.886  45.154  50.502  55.399\n",
      "                       Dim.8   Dim.9  Dim.10  Dim.11  Dim.12  Dim.13  Dim.14\n",
      "Variance               0.144   0.135   0.113   0.105   0.102   0.098   0.096\n",
      "% of var.              4.508   4.217   3.532   3.284   3.181   3.066   3.000\n",
      "Cumulative % of var.  59.907  64.123  67.655  70.938  74.120  77.186  80.185\n",
      "                      Dim.15  Dim.16  Dim.17  Dim.18  Dim.19  Dim.20  Dim.21\n",
      "Variance               0.081   0.079   0.070   0.062   0.058   0.049   0.045\n",
      "% of var.              2.535   2.458   2.172   1.945   1.807   1.535   1.411\n",
      "Cumulative % of var.  82.720  85.178  87.350  89.295  91.102  92.636  94.047\n",
      "                      Dim.22  Dim.23  Dim.24  Dim.25  Dim.26  Dim.27  Dim.28\n",
      "Variance               0.040   0.037   0.034   0.020   0.018   0.017   0.011\n",
      "% of var.              1.262   1.156   1.053   0.617   0.548   0.537   0.345\n",
      "Cumulative % of var.  95.309  96.465  97.518  98.135  98.683  99.220  99.565\n",
      "                      Dim.29  Dim.30  Dim.31  Dim.32\n",
      "Variance               0.008   0.006   0.000   0.000\n",
      "% of var.              0.260   0.175   0.000   0.000\n",
      "Cumulative % of var.  99.825 100.000 100.000 100.000\n",
      "\n",
      "Individuals (the 10 first)\n",
      "             Dim.1    ctr   cos2    Dim.2    ctr   cos2    Dim.3    ctr   cos2\n",
      "1         | -0.164  0.091  0.024 |  0.057  0.018  0.003 | -0.409  1.170  0.150\n",
      "2         | -0.416  0.585  0.185 |  0.006  0.000  0.000 | -0.339  0.806  0.123\n",
      "3         | -0.354  0.425  0.095 | -0.166  0.154  0.021 | -0.031  0.007  0.001\n",
      "4         | -0.674  1.536  0.209 | -0.030  0.005  0.000 |  0.456  1.452  0.096\n",
      "5         | -0.523  0.926  0.280 |  0.160  0.144  0.026 | -0.228  0.363  0.053\n",
      "6         | -0.588  1.169  0.286 |  0.154  0.134  0.020 | -0.112  0.088  0.010\n",
      "7         | -0.662  1.483  0.270 |  0.317  0.567  0.062 |  0.126  0.111  0.010\n",
      "8         | -0.748  1.894  0.216 |  0.133  0.100  0.007 |  0.693  3.365  0.186\n",
      "9         | -0.480  0.781  0.199 |  0.000  0.000  0.000 | -0.224  0.350  0.043\n",
      "10        | -0.597  1.207  0.256 |  0.323  0.587  0.075 |  0.010  0.001  0.000\n",
      "           \n",
      "1         |\n",
      "2         |\n",
      "3         |\n",
      "4         |\n",
      "5         |\n",
      "6         |\n",
      "7         |\n",
      "8         |\n",
      "9         |\n",
      "10        |\n",
      "\n",
      "Categories (the 10 first)\n",
      "             Dim.1    ctr   cos2 v.test    Dim.2    ctr   cos2 v.test    Dim.3\n",
      "Atyp      | -0.485  3.022  0.406 -4.894 |  0.370  2.934  0.237  3.737 | -0.103\n",
      "Centre    | -1.094  0.405  0.020 -1.094 |  0.462  0.120  0.004  0.462 |  0.960\n",
      "Doubl     |  1.239  1.559  0.081  2.184 | -0.429  0.311  0.010 -0.756 |  0.194\n",
      "OrTNT     |  1.145  5.767  0.363  4.625 | -0.567  2.350  0.089 -2.289 |  0.811\n",
      "Quinc     |  0.183  0.056  0.003  0.423 | -1.175  3.892  0.126 -2.722 | -1.635\n",
      "nbPlExt_0 |  1.535  7.979  0.472  5.274 |  1.318  9.781  0.347  4.526 | -0.034\n",
      "nbPlExt_1 | -0.358  1.906  0.352 -4.557 | -0.217  1.166  0.129 -2.763 |  0.100\n",
      "nbPlExt_2 |  0.064  0.008  0.000  0.165 | -0.605  1.238  0.041 -1.550 | -0.675\n",
      "DecNo     |  1.535  7.979  0.472  5.274 |  1.318  9.781  0.347  4.526 | -0.034\n",
      "Figur     | -0.756  0.387  0.020 -1.079 |  0.013  0.000  0.000  0.018 | -1.884\n",
      "             ctr   cos2 v.test  \n",
      "Atyp       0.282  0.018 -1.040 |\n",
      "Centre     0.646  0.016  0.960 |\n",
      "Doubl      0.079  0.002  0.343 |\n",
      "OrTNT      5.988  0.182  3.277 |\n",
      "Quinc      9.358  0.243 -3.787 |\n",
      "nbPlExt_0  0.008  0.000 -0.118 |\n",
      "nbPlExt_1  0.307  0.027  1.271 |\n",
      "nbPlExt_2  1.911  0.051 -1.727 |\n",
      "DecNo      0.008  0.000 -0.118 |\n",
      "Figur      4.967  0.122 -2.687 |\n",
      "\n",
      "Categorical variables (eta2)\n",
      "            Dim.1 Dim.2 Dim.3  \n",
      "orgaH     | 0.532 0.284 0.389 |\n",
      "nbPlExt   | 0.487 0.361 0.053 |\n",
      "Deco      | 0.769 0.730 0.140 |\n",
      "delCentre | 0.174 0.203 0.315 |\n",
      "diamExt   | 0.134 0.124 0.077 |\n",
      "diamInt   | 0.610 0.163 0.025 |\n",
      "Titre     | 0.629 0.048 0.411 |\n",
      "nbHier    | 0.664 0.524 0.455 |\n",
      "nbSym     | 0.212 0.483 0.498 |\n",
      "Surface   | 0.713 0.039 0.019 |\n",
      "\n",
      "Supplementary categories\n",
      "             Dim.1   cos2 v.test    Dim.2   cos2 v.test    Dim.3   cos2 v.test\n",
      "13e       |  1.290  0.713  6.485 |  0.302  0.039  1.518 |  0.209  0.019  1.052\n",
      "14e       |  0.120  0.004  0.461 | -1.155  0.334 -4.436 | -0.585  0.086 -2.248\n",
      "16-15e    | -0.822  0.675 -6.312 |  0.281  0.079  2.158 |  0.109  0.012  0.834\n",
      "           \n",
      "13e       |\n",
      "14e       |\n",
      "16-15e    |\n",
      "\n",
      "Supplementary categorical variables (eta2)\n",
      "            Dim.1 Dim.2 Dim.3  \n",
      "Datation  | 0.839 0.334 0.088 |\n"
     ]
    }
   ],
   "source": [
    "summary(afcm)"
   ]
  },
  {
   "cell_type": "code",
   "execution_count": 12,
   "metadata": {
    "collapsed": false
   },
   "outputs": [],
   "source": [
    "#le nombre de classes = 3 (comme les 3 classes de la datation) \n",
    "res.hcpc <- HCPC(afcm, graph=F)"
   ]
  },
  {
   "cell_type": "markdown",
   "metadata": {},
   "source": [
    "La ligne suivante permet de croiser la variable classe avec chacune des variables"
   ]
  },
  {
   "cell_type": "code",
   "execution_count": 13,
   "metadata": {
    "collapsed": false
   },
   "outputs": [
    {
     "data": {
      "text/html": [
       "<table>\n",
       "<thead><tr><th></th><th scope=col>p.value</th><th scope=col>df</th></tr></thead>\n",
       "<tbody>\n",
       "\t<tr><th scope=row>Deco</th><td>6.339305e-26</td><td>15          </td></tr>\n",
       "\t<tr><th scope=row>nbHier</th><td>8.606884e-17</td><td>40          </td></tr>\n",
       "\t<tr><th scope=row>nbSym</th><td>2.100268e-12</td><td>20          </td></tr>\n",
       "\t<tr><th scope=row>Datation</th><td>2.658286e-12</td><td>10          </td></tr>\n",
       "\t<tr><th scope=row>nbPlExt</th><td>1.865173e-08</td><td>10          </td></tr>\n",
       "\t<tr><th scope=row>Surface</th><td>8.863245e-08</td><td> 5          </td></tr>\n",
       "\t<tr><th scope=row>orgaH</th><td>2.868143e-06</td><td>20          </td></tr>\n",
       "\t<tr><th scope=row>delCentre</th><td>2.349866e-05</td><td>15          </td></tr>\n",
       "\t<tr><th scope=row>diamInt</th><td>1.014859e-04</td><td>10          </td></tr>\n",
       "\t<tr><th scope=row>Titre</th><td>3.537403e-04</td><td>15          </td></tr>\n",
       "</tbody>\n",
       "</table>\n"
      ],
      "text/latex": [
       "\\begin{tabular}{r|ll}\n",
       "  & p.value & df\\\\\n",
       "\\hline\n",
       "\tDeco & 6.339305e-26 & 15          \\\\\n",
       "\tnbHier & 8.606884e-17 & 40          \\\\\n",
       "\tnbSym & 2.100268e-12 & 20          \\\\\n",
       "\tDatation & 2.658286e-12 & 10          \\\\\n",
       "\tnbPlExt & 1.865173e-08 & 10          \\\\\n",
       "\tSurface & 8.863245e-08 &  5          \\\\\n",
       "\torgaH & 2.868143e-06 & 20          \\\\\n",
       "\tdelCentre & 2.349866e-05 & 15          \\\\\n",
       "\tdiamInt & 1.014859e-04 & 10          \\\\\n",
       "\tTitre & 3.537403e-04 & 15          \\\\\n",
       "\\end{tabular}\n"
      ],
      "text/markdown": [
       "\n",
       "| <!--/--> | p.value | df | \n",
       "|---|---|---|---|---|---|---|---|---|---|\n",
       "| Deco | 6.339305e-26 | 15           | \n",
       "| nbHier | 8.606884e-17 | 40           | \n",
       "| nbSym | 2.100268e-12 | 20           | \n",
       "| Datation | 2.658286e-12 | 10           | \n",
       "| nbPlExt | 1.865173e-08 | 10           | \n",
       "| Surface | 8.863245e-08 |  5           | \n",
       "| orgaH | 2.868143e-06 | 20           | \n",
       "| delCentre | 2.349866e-05 | 15           | \n",
       "| diamInt | 1.014859e-04 | 10           | \n",
       "| Titre | 3.537403e-04 | 15           | \n",
       "\n",
       "\n"
      ],
      "text/plain": [
       "          p.value      df\n",
       "Deco      6.339305e-26 15\n",
       "nbHier    8.606884e-17 40\n",
       "nbSym     2.100268e-12 20\n",
       "Datation  2.658286e-12 10\n",
       "nbPlExt   1.865173e-08 10\n",
       "Surface   8.863245e-08  5\n",
       "orgaH     2.868143e-06 20\n",
       "delCentre 2.349866e-05 15\n",
       "diamInt   1.014859e-04 10\n",
       "Titre     3.537403e-04 15"
      ]
     },
     "metadata": {},
     "output_type": "display_data"
    }
   ],
   "source": [
    "res.hcpc$desc.var$test.chi2"
   ]
  },
  {
   "cell_type": "markdown",
   "metadata": {},
   "source": [
    "Et de connaitre les modalites les plus presentes dans chaque classe"
   ]
  },
  {
   "cell_type": "code",
   "execution_count": 14,
   "metadata": {
    "collapsed": false
   },
   "outputs": [
    {
     "data": {
      "text/html": [
       "<dl>\n",
       "\t<dt>$`1`</dt>\n",
       "\t\t<dd><table>\n",
       "<thead><tr><th></th><th scope=col>Cla/Mod</th><th scope=col>Mod/Cla</th><th scope=col>Global</th><th scope=col>p.value</th><th scope=col>v.test</th></tr></thead>\n",
       "<tbody>\n",
       "\t<tr><th scope=row>Deco=Ornem</th><td> 96.296296  </td><td> 92.857143  </td><td>45.000000   </td><td>1.380834e-13</td><td> 7.398161   </td></tr>\n",
       "\t<tr><th scope=row>Datation=16-15e</th><td> 90.000000  </td><td> 96.428571  </td><td>50.000000   </td><td>1.182704e-12</td><td> 7.107375   </td></tr>\n",
       "\t<tr><th scope=row>orgaH=Atyp</th><td> 71.052632  </td><td> 96.428571  </td><td>63.333333   </td><td>2.643518e-07</td><td> 5.147237   </td></tr>\n",
       "\t<tr><th scope=row>Surface=Plate</th><td> 66.666667  </td><td>100.000000  </td><td>70.000000   </td><td>5.096438e-07</td><td> 5.022646   </td></tr>\n",
       "\t<tr><th scope=row>diamInt=int1</th><td> 71.428571  </td><td> 89.285714  </td><td>58.333333   </td><td>4.490817e-06</td><td> 4.587269   </td></tr>\n",
       "\t<tr><th scope=row>nbHier=nbHier_2</th><td>100.000000  </td><td> 39.285714  </td><td>18.333333   </td><td>6.266172e-05</td><td> 4.002556   </td></tr>\n",
       "\t<tr><th scope=row>Titre=TitrInc</th><td>100.000000  </td><td> 28.571429  </td><td>13.333333   </td><td>1.214758e-03</td><td> 3.235392   </td></tr>\n",
       "\t<tr><th scope=row>nbHier=nbHier_3</th><td> 73.684211  </td><td> 50.000000  </td><td>31.666667   </td><td>5.426100e-03</td><td> 2.780585   </td></tr>\n",
       "\t<tr><th scope=row>nbPlExt=nbPlExt_1</th><td> 56.818182  </td><td> 89.285714  </td><td>73.333333   </td><td>1.020855e-02</td><td> 2.568684   </td></tr>\n",
       "\t<tr><th scope=row>delCentre=DelNo</th><td> 81.818182  </td><td> 32.142857  </td><td>18.333333   </td><td>1.257265e-02</td><td> 2.495650   </td></tr>\n",
       "\t<tr><th scope=row>Titre=TitrNo</th><td> 80.000000  </td><td> 28.571429  </td><td>16.666667   </td><td>2.665872e-02</td><td> 2.216479   </td></tr>\n",
       "\t<tr><th scope=row>nbSym=nbSym_0</th><td> 71.428571  </td><td> 35.714286  </td><td>23.333333   </td><td>4.136919e-02</td><td> 2.039811   </td></tr>\n",
       "\t<tr><th scope=row>nbHier=nbHier_4</th><td> 12.500000  </td><td>  3.571429  </td><td>13.333333   </td><td>4.505574e-02</td><td>-2.004134   </td></tr>\n",
       "\t<tr><th scope=row>diamInt=int2</th><td> 12.500000  </td><td>  3.571429  </td><td>13.333333   </td><td>4.505574e-02</td><td>-2.004134   </td></tr>\n",
       "\t<tr><th scope=row>orgaH=Quinc</th><td>  0.000000  </td><td>  0.000000  </td><td> 8.333333   </td><td>3.687184e-02</td><td>-2.087180   </td></tr>\n",
       "\t<tr><th scope=row>diamExt=ext3</th><td> 27.272727  </td><td> 21.428571  </td><td>36.666667   </td><td>2.539224e-02</td><td>-2.235383   </td></tr>\n",
       "\t<tr><th scope=row>nbHier=nbHier_6</th><td>  0.000000  </td><td>  0.000000  </td><td>11.666667   </td><td>8.715162e-03</td><td>-2.623030   </td></tr>\n",
       "\t<tr><th scope=row>Titre=Prince</th><td>  0.000000  </td><td>  0.000000  </td><td>13.333333   </td><td>4.110926e-03</td><td>-2.869522   </td></tr>\n",
       "\t<tr><th scope=row>Datation=14e</th><td>  8.333333  </td><td>  3.571429  </td><td>20.000000   </td><td>2.904381e-03</td><td>-2.977681   </td></tr>\n",
       "\t<tr><th scope=row>nbHier=nbHier_5</th><td>  0.000000  </td><td>  0.000000  </td><td>15.000000   </td><td>1.897350e-03</td><td>-3.105847   </td></tr>\n",
       "\t<tr><th scope=row>Deco=DecNo</th><td>  0.000000  </td><td>  0.000000  </td><td>16.666667   </td><td>8.556678e-04</td><td>-3.334130   </td></tr>\n",
       "\t<tr><th scope=row>nbPlExt=nbPlExt_0</th><td>  0.000000  </td><td>  0.000000  </td><td>16.666667   </td><td>8.556678e-04</td><td>-3.334130   </td></tr>\n",
       "\t<tr><th scope=row>diamInt=int3</th><td> 11.764706  </td><td>  7.142857  </td><td>28.333333   </td><td>6.421002e-04</td><td>-3.413178   </td></tr>\n",
       "\t<tr><th scope=row>orgaH=OrTNT</th><td>  0.000000  </td><td>  0.000000  </td><td>21.666667   </td><td>6.723104e-05</td><td>-3.985878   </td></tr>\n",
       "\t<tr><th scope=row>Deco=HierSym</th><td>  9.523810  </td><td>  7.142857  </td><td>35.000000   </td><td>1.806128e-05</td><td>-4.287601   </td></tr>\n",
       "\t<tr><th scope=row>Surface=Convexe</th><td>  0.000000  </td><td>  0.000000  </td><td>30.000000   </td><td>5.096438e-07</td><td>-5.022646   </td></tr>\n",
       "\t<tr><th scope=row>Datation=13e</th><td>  0.000000  </td><td>  0.000000  </td><td>30.000000   </td><td>5.096438e-07</td><td>-5.022646   </td></tr>\n",
       "</tbody>\n",
       "</table>\n",
       "</dd>\n",
       "\t<dt>$`2`</dt>\n",
       "\t\t<dd><table>\n",
       "<thead><tr><th></th><th scope=col>Cla/Mod</th><th scope=col>Mod/Cla</th><th scope=col>Global</th><th scope=col>p.value</th><th scope=col>v.test</th></tr></thead>\n",
       "<tbody>\n",
       "\t<tr><th scope=row>Deco=Figur</th><td>100         </td><td>100         </td><td>3.333333    </td><td>0.0005649718</td><td>3.447896    </td></tr>\n",
       "\t<tr><th scope=row>delCentre=FrisTor</th><td>100         </td><td> 50         </td><td>1.666667    </td><td>0.0333333333</td><td>2.128045    </td></tr>\n",
       "</tbody>\n",
       "</table>\n",
       "</dd>\n",
       "\t<dt>$`3`</dt>\n",
       "\t\t<dd><table>\n",
       "<thead><tr><th></th><th scope=col>Cla/Mod</th><th scope=col>Mod/Cla</th><th scope=col>Global</th><th scope=col>p.value</th><th scope=col>v.test</th></tr></thead>\n",
       "<tbody>\n",
       "\t<tr><th scope=row>Deco=HierSym</th><td> 52.380952  </td><td> 91.666667  </td><td>35.000000   </td><td>1.025025e-05</td><td> 4.411826   </td></tr>\n",
       "\t<tr><th scope=row>Datation=14e</th><td> 66.666667  </td><td> 66.666667  </td><td>20.000000   </td><td>7.437505e-05</td><td> 3.961838   </td></tr>\n",
       "\t<tr><th scope=row>orgaH=Quinc</th><td>100.000000  </td><td> 41.666667  </td><td> 8.333333   </td><td>1.450148e-04</td><td> 3.799455   </td></tr>\n",
       "\t<tr><th scope=row>nbHier=nbHier_4</th><td> 75.000000  </td><td> 50.000000  </td><td>13.333333   </td><td>4.374599e-04</td><td> 3.516389   </td></tr>\n",
       "\t<tr><th scope=row>Titre=Fonct</th><td> 32.352941  </td><td> 91.666667  </td><td>56.666667   </td><td>6.099400e-03</td><td> 2.742389   </td></tr>\n",
       "\t<tr><th scope=row>delCentre=Ligne</th><td> 26.086957  </td><td>100.000000  </td><td>76.666667   </td><td>2.780603e-02</td><td> 2.200012   </td></tr>\n",
       "\t<tr><th scope=row>diamInt=int2</th><td> 50.000000  </td><td> 33.333333  </td><td>13.333333   </td><td>4.919663e-02</td><td> 1.966884   </td></tr>\n",
       "\t<tr><th scope=row>orgaH=Atyp</th><td> 10.526316  </td><td> 33.333333  </td><td>63.333333   </td><td>2.355392e-02</td><td>-2.264329   </td></tr>\n",
       "\t<tr><th scope=row>Deco=Ornem</th><td>  3.703704  </td><td>  8.333333  </td><td>45.000000   </td><td>4.241318e-03</td><td>-2.859633   </td></tr>\n",
       "\t<tr><th scope=row>Datation=16-15e</th><td>  3.333333  </td><td>  8.333333  </td><td>50.000000   </td><td>1.294740e-03</td><td>-3.217143   </td></tr>\n",
       "</tbody>\n",
       "</table>\n",
       "</dd>\n",
       "\t<dt>$`4`</dt>\n",
       "\t\t<dd><table>\n",
       "<thead><tr><th></th><th scope=col>Cla/Mod</th><th scope=col>Mod/Cla</th><th scope=col>Global</th><th scope=col>p.value</th><th scope=col>v.test</th></tr></thead>\n",
       "<tbody>\n",
       "\t<tr><th scope=row>nbSym=nbSym_1</th><td> 60.00000   </td><td> 85.71429   </td><td>16.666667   </td><td>2.780893e-05</td><td> 4.190705   </td></tr>\n",
       "\t<tr><th scope=row>nbHier=nbHier_6</th><td> 71.42857   </td><td> 71.42857   </td><td>11.666667   </td><td>7.685517e-05</td><td> 3.954001   </td></tr>\n",
       "\t<tr><th scope=row>Deco=HierSym</th><td> 33.33333   </td><td>100.00000   </td><td>35.000000   </td><td>3.010821e-04</td><td> 3.614367   </td></tr>\n",
       "\t<tr><th scope=row>orgaH=OrTNT</th><td> 38.46154   </td><td> 71.42857   </td><td>21.666667   </td><td>4.028884e-03</td><td> 2.875891   </td></tr>\n",
       "\t<tr><th scope=row>nbHier=nbHier_7</th><td>100.00000   </td><td> 28.57143   </td><td> 3.333333   </td><td>1.186441e-02</td><td> 2.516152   </td></tr>\n",
       "\t<tr><th scope=row>orgaH=Doubl</th><td> 66.66667   </td><td> 28.57143   </td><td> 5.000000   </td><td>3.457043e-02</td><td> 2.113355   </td></tr>\n",
       "\t<tr><th scope=row>Titre=Prince</th><td> 37.50000   </td><td> 42.85714   </td><td>13.333333   </td><td>4.765849e-02</td><td> 1.980401   </td></tr>\n",
       "\t<tr><th scope=row>Deco=Ornem</th><td>  0.00000   </td><td>  0.00000   </td><td>45.000000   </td><td>1.106155e-02</td><td>-2.540748   </td></tr>\n",
       "\t<tr><th scope=row>Datation=16-15e</th><td>  0.00000   </td><td>  0.00000   </td><td>50.000000   </td><td>5.271268e-03</td><td>-2.789972   </td></tr>\n",
       "\t<tr><th scope=row>orgaH=Atyp</th><td>  0.00000   </td><td>  0.00000   </td><td>63.333333   </td><td>4.415871e-04</td><td>-3.513895   </td></tr>\n",
       "</tbody>\n",
       "</table>\n",
       "</dd>\n",
       "\t<dt>$`5`</dt>\n",
       "\t\t<dd><table>\n",
       "<thead><tr><th></th><th scope=col>Cla/Mod</th><th scope=col>Mod/Cla</th><th scope=col>Global</th><th scope=col>p.value</th><th scope=col>v.test</th></tr></thead>\n",
       "<tbody>\n",
       "\t<tr><th scope=row>Deco=DecNo</th><td> 90.000000  </td><td> 90         </td><td>16.666667   </td><td>6.658352e-09</td><td> 5.799322   </td></tr>\n",
       "\t<tr><th scope=row>nbPlExt=nbPlExt_0</th><td> 90.000000  </td><td> 90         </td><td>16.666667   </td><td>6.658352e-09</td><td> 5.799322   </td></tr>\n",
       "\t<tr><th scope=row>Surface=Convexe</th><td> 55.555556  </td><td>100         </td><td>30.000000   </td><td>5.803908e-07</td><td> 4.997630   </td></tr>\n",
       "\t<tr><th scope=row>Datation=13e</th><td> 55.555556  </td><td>100         </td><td>30.000000   </td><td>5.803908e-07</td><td> 4.997630   </td></tr>\n",
       "\t<tr><th scope=row>diamInt=int3</th><td> 47.058824  </td><td> 80         </td><td>28.333333   </td><td>3.194084e-04</td><td> 3.599028   </td></tr>\n",
       "\t<tr><th scope=row>Titre=Prince</th><td> 62.500000  </td><td> 50         </td><td>13.333333   </td><td>2.136225e-03</td><td> 3.070609   </td></tr>\n",
       "\t<tr><th scope=row>nbHier=nbHier_5</th><td> 55.555556  </td><td> 50         </td><td>15.000000   </td><td>4.502840e-03</td><td> 2.840603   </td></tr>\n",
       "\t<tr><th scope=row>delCentre=FrisRec</th><td>100.000000  </td><td> 20         </td><td> 3.333333   </td><td>2.542373e-02</td><td> 2.234903   </td></tr>\n",
       "\t<tr><th scope=row>orgaH=OrTNT</th><td> 38.461538  </td><td> 50         </td><td>21.666667   </td><td>3.508008e-02</td><td> 2.107433   </td></tr>\n",
       "\t<tr><th scope=row>Deco=Ornem</th><td>  0.000000  </td><td>  0         </td><td>45.000000   </td><td>1.227697e-03</td><td>-3.232366   </td></tr>\n",
       "\t<tr><th scope=row>diamInt=int1</th><td>  2.857143  </td><td> 10         </td><td>58.333333   </td><td>1.035117e-03</td><td>-3.280804   </td></tr>\n",
       "\t<tr><th scope=row>Datation=16-15e</th><td>  0.000000  </td><td>  0         </td><td>50.000000   </td><td>3.985066e-04</td><td>-3.541071   </td></tr>\n",
       "\t<tr><th scope=row>Surface=Plate</th><td>  0.000000  </td><td>  0         </td><td>70.000000   </td><td>5.803908e-07</td><td>-4.997630   </td></tr>\n",
       "\t<tr><th scope=row>nbPlExt=nbPlExt_1</th><td>  0.000000  </td><td>  0         </td><td>73.333333   </td><td>1.062153e-07</td><td>-5.315756   </td></tr>\n",
       "</tbody>\n",
       "</table>\n",
       "</dd>\n",
       "\t<dt>$`6`</dt>\n",
       "\t\t<dd><table>\n",
       "<thead><tr><th></th><th scope=col>Cla/Mod</th><th scope=col>Mod/Cla</th><th scope=col>Global</th><th scope=col>p.value</th><th scope=col>v.test</th></tr></thead>\n",
       "<tbody>\n",
       "\t<tr><th scope=row>nbSym=nbSym_4</th><td>100       </td><td>100       </td><td>1.666667  </td><td>0.01666667</td><td>2.39398   </td></tr>\n",
       "\t<tr><th scope=row>nbHier=nbHier_8</th><td>100       </td><td>100       </td><td>1.666667  </td><td>0.01666667</td><td>2.39398   </td></tr>\n",
       "</tbody>\n",
       "</table>\n",
       "</dd>\n",
       "</dl>\n"
      ],
      "text/latex": [
       "\\begin{description}\n",
       "\\item[\\$`1`] \\begin{tabular}{r|lllll}\n",
       "  & Cla/Mod & Mod/Cla & Global & p.value & v.test\\\\\n",
       "\\hline\n",
       "\tDeco=Ornem &  96.296296   &  92.857143   & 45.000000    & 1.380834e-13 &  7.398161   \\\\\n",
       "\tDatation=16-15e &  90.000000   &  96.428571   & 50.000000    & 1.182704e-12 &  7.107375   \\\\\n",
       "\torgaH=Atyp &  71.052632   &  96.428571   & 63.333333    & 2.643518e-07 &  5.147237   \\\\\n",
       "\tSurface=Plate &  66.666667   & 100.000000   & 70.000000    & 5.096438e-07 &  5.022646   \\\\\n",
       "\tdiamInt=int1 &  71.428571   &  89.285714   & 58.333333    & 4.490817e-06 &  4.587269   \\\\\n",
       "\tnbHier=nbHier\\_2 & 100.000000   &  39.285714   & 18.333333    & 6.266172e-05 &  4.002556   \\\\\n",
       "\tTitre=TitrInc & 100.000000   &  28.571429   & 13.333333    & 1.214758e-03 &  3.235392   \\\\\n",
       "\tnbHier=nbHier\\_3 &  73.684211   &  50.000000   & 31.666667    & 5.426100e-03 &  2.780585   \\\\\n",
       "\tnbPlExt=nbPlExt\\_1 &  56.818182   &  89.285714   & 73.333333    & 1.020855e-02 &  2.568684   \\\\\n",
       "\tdelCentre=DelNo &  81.818182   &  32.142857   & 18.333333    & 1.257265e-02 &  2.495650   \\\\\n",
       "\tTitre=TitrNo &  80.000000   &  28.571429   & 16.666667    & 2.665872e-02 &  2.216479   \\\\\n",
       "\tnbSym=nbSym\\_0 &  71.428571   &  35.714286   & 23.333333    & 4.136919e-02 &  2.039811   \\\\\n",
       "\tnbHier=nbHier\\_4 &  12.500000   &   3.571429   & 13.333333    & 4.505574e-02 & -2.004134   \\\\\n",
       "\tdiamInt=int2 &  12.500000   &   3.571429   & 13.333333    & 4.505574e-02 & -2.004134   \\\\\n",
       "\torgaH=Quinc &   0.000000   &   0.000000   &  8.333333    & 3.687184e-02 & -2.087180   \\\\\n",
       "\tdiamExt=ext3 &  27.272727   &  21.428571   & 36.666667    & 2.539224e-02 & -2.235383   \\\\\n",
       "\tnbHier=nbHier\\_6 &   0.000000   &   0.000000   & 11.666667    & 8.715162e-03 & -2.623030   \\\\\n",
       "\tTitre=Prince &   0.000000   &   0.000000   & 13.333333    & 4.110926e-03 & -2.869522   \\\\\n",
       "\tDatation=14e &   8.333333   &   3.571429   & 20.000000    & 2.904381e-03 & -2.977681   \\\\\n",
       "\tnbHier=nbHier\\_5 &   0.000000   &   0.000000   & 15.000000    & 1.897350e-03 & -3.105847   \\\\\n",
       "\tDeco=DecNo &   0.000000   &   0.000000   & 16.666667    & 8.556678e-04 & -3.334130   \\\\\n",
       "\tnbPlExt=nbPlExt\\_0 &   0.000000   &   0.000000   & 16.666667    & 8.556678e-04 & -3.334130   \\\\\n",
       "\tdiamInt=int3 &  11.764706   &   7.142857   & 28.333333    & 6.421002e-04 & -3.413178   \\\\\n",
       "\torgaH=OrTNT &   0.000000   &   0.000000   & 21.666667    & 6.723104e-05 & -3.985878   \\\\\n",
       "\tDeco=HierSym &   9.523810   &   7.142857   & 35.000000    & 1.806128e-05 & -4.287601   \\\\\n",
       "\tSurface=Convexe &   0.000000   &   0.000000   & 30.000000    & 5.096438e-07 & -5.022646   \\\\\n",
       "\tDatation=13e &   0.000000   &   0.000000   & 30.000000    & 5.096438e-07 & -5.022646   \\\\\n",
       "\\end{tabular}\n",
       "\n",
       "\\item[\\$`2`] \\begin{tabular}{r|lllll}\n",
       "  & Cla/Mod & Mod/Cla & Global & p.value & v.test\\\\\n",
       "\\hline\n",
       "\tDeco=Figur & 100          & 100          & 3.333333     & 0.0005649718 & 3.447896    \\\\\n",
       "\tdelCentre=FrisTor & 100          &  50          & 1.666667     & 0.0333333333 & 2.128045    \\\\\n",
       "\\end{tabular}\n",
       "\n",
       "\\item[\\$`3`] \\begin{tabular}{r|lllll}\n",
       "  & Cla/Mod & Mod/Cla & Global & p.value & v.test\\\\\n",
       "\\hline\n",
       "\tDeco=HierSym &  52.380952   &  91.666667   & 35.000000    & 1.025025e-05 &  4.411826   \\\\\n",
       "\tDatation=14e &  66.666667   &  66.666667   & 20.000000    & 7.437505e-05 &  3.961838   \\\\\n",
       "\torgaH=Quinc & 100.000000   &  41.666667   &  8.333333    & 1.450148e-04 &  3.799455   \\\\\n",
       "\tnbHier=nbHier\\_4 &  75.000000   &  50.000000   & 13.333333    & 4.374599e-04 &  3.516389   \\\\\n",
       "\tTitre=Fonct &  32.352941   &  91.666667   & 56.666667    & 6.099400e-03 &  2.742389   \\\\\n",
       "\tdelCentre=Ligne &  26.086957   & 100.000000   & 76.666667    & 2.780603e-02 &  2.200012   \\\\\n",
       "\tdiamInt=int2 &  50.000000   &  33.333333   & 13.333333    & 4.919663e-02 &  1.966884   \\\\\n",
       "\torgaH=Atyp &  10.526316   &  33.333333   & 63.333333    & 2.355392e-02 & -2.264329   \\\\\n",
       "\tDeco=Ornem &   3.703704   &   8.333333   & 45.000000    & 4.241318e-03 & -2.859633   \\\\\n",
       "\tDatation=16-15e &   3.333333   &   8.333333   & 50.000000    & 1.294740e-03 & -3.217143   \\\\\n",
       "\\end{tabular}\n",
       "\n",
       "\\item[\\$`4`] \\begin{tabular}{r|lllll}\n",
       "  & Cla/Mod & Mod/Cla & Global & p.value & v.test\\\\\n",
       "\\hline\n",
       "\tnbSym=nbSym\\_1 &  60.00000    &  85.71429    & 16.666667    & 2.780893e-05 &  4.190705   \\\\\n",
       "\tnbHier=nbHier\\_6 &  71.42857    &  71.42857    & 11.666667    & 7.685517e-05 &  3.954001   \\\\\n",
       "\tDeco=HierSym &  33.33333    & 100.00000    & 35.000000    & 3.010821e-04 &  3.614367   \\\\\n",
       "\torgaH=OrTNT &  38.46154    &  71.42857    & 21.666667    & 4.028884e-03 &  2.875891   \\\\\n",
       "\tnbHier=nbHier\\_7 & 100.00000    &  28.57143    &  3.333333    & 1.186441e-02 &  2.516152   \\\\\n",
       "\torgaH=Doubl &  66.66667    &  28.57143    &  5.000000    & 3.457043e-02 &  2.113355   \\\\\n",
       "\tTitre=Prince &  37.50000    &  42.85714    & 13.333333    & 4.765849e-02 &  1.980401   \\\\\n",
       "\tDeco=Ornem &   0.00000    &   0.00000    & 45.000000    & 1.106155e-02 & -2.540748   \\\\\n",
       "\tDatation=16-15e &   0.00000    &   0.00000    & 50.000000    & 5.271268e-03 & -2.789972   \\\\\n",
       "\torgaH=Atyp &   0.00000    &   0.00000    & 63.333333    & 4.415871e-04 & -3.513895   \\\\\n",
       "\\end{tabular}\n",
       "\n",
       "\\item[\\$`5`] \\begin{tabular}{r|lllll}\n",
       "  & Cla/Mod & Mod/Cla & Global & p.value & v.test\\\\\n",
       "\\hline\n",
       "\tDeco=DecNo &  90.000000   &  90          & 16.666667    & 6.658352e-09 &  5.799322   \\\\\n",
       "\tnbPlExt=nbPlExt\\_0 &  90.000000   &  90          & 16.666667    & 6.658352e-09 &  5.799322   \\\\\n",
       "\tSurface=Convexe &  55.555556   & 100          & 30.000000    & 5.803908e-07 &  4.997630   \\\\\n",
       "\tDatation=13e &  55.555556   & 100          & 30.000000    & 5.803908e-07 &  4.997630   \\\\\n",
       "\tdiamInt=int3 &  47.058824   &  80          & 28.333333    & 3.194084e-04 &  3.599028   \\\\\n",
       "\tTitre=Prince &  62.500000   &  50          & 13.333333    & 2.136225e-03 &  3.070609   \\\\\n",
       "\tnbHier=nbHier\\_5 &  55.555556   &  50          & 15.000000    & 4.502840e-03 &  2.840603   \\\\\n",
       "\tdelCentre=FrisRec & 100.000000   &  20          &  3.333333    & 2.542373e-02 &  2.234903   \\\\\n",
       "\torgaH=OrTNT &  38.461538   &  50          & 21.666667    & 3.508008e-02 &  2.107433   \\\\\n",
       "\tDeco=Ornem &   0.000000   &   0          & 45.000000    & 1.227697e-03 & -3.232366   \\\\\n",
       "\tdiamInt=int1 &   2.857143   &  10          & 58.333333    & 1.035117e-03 & -3.280804   \\\\\n",
       "\tDatation=16-15e &   0.000000   &   0          & 50.000000    & 3.985066e-04 & -3.541071   \\\\\n",
       "\tSurface=Plate &   0.000000   &   0          & 70.000000    & 5.803908e-07 & -4.997630   \\\\\n",
       "\tnbPlExt=nbPlExt\\_1 &   0.000000   &   0          & 73.333333    & 1.062153e-07 & -5.315756   \\\\\n",
       "\\end{tabular}\n",
       "\n",
       "\\item[\\$`6`] \\begin{tabular}{r|lllll}\n",
       "  & Cla/Mod & Mod/Cla & Global & p.value & v.test\\\\\n",
       "\\hline\n",
       "\tnbSym=nbSym\\_4 & 100        & 100        & 1.666667   & 0.01666667 & 2.39398   \\\\\n",
       "\tnbHier=nbHier\\_8 & 100        & 100        & 1.666667   & 0.01666667 & 2.39398   \\\\\n",
       "\\end{tabular}\n",
       "\n",
       "\\end{description}\n"
      ],
      "text/markdown": [
       "$`1`\n",
       ":   \n",
       "| <!--/--> | Cla/Mod | Mod/Cla | Global | p.value | v.test | \n",
       "|---|---|---|---|---|---|---|---|---|---|---|---|---|---|---|---|---|---|---|---|---|---|---|---|---|---|---|\n",
       "| Deco=Ornem |  96.296296   |  92.857143   | 45.000000    | 1.380834e-13 |  7.398161    | \n",
       "| Datation=16-15e |  90.000000   |  96.428571   | 50.000000    | 1.182704e-12 |  7.107375    | \n",
       "| orgaH=Atyp |  71.052632   |  96.428571   | 63.333333    | 2.643518e-07 |  5.147237    | \n",
       "| Surface=Plate |  66.666667   | 100.000000   | 70.000000    | 5.096438e-07 |  5.022646    | \n",
       "| diamInt=int1 |  71.428571   |  89.285714   | 58.333333    | 4.490817e-06 |  4.587269    | \n",
       "| nbHier=nbHier_2 | 100.000000   |  39.285714   | 18.333333    | 6.266172e-05 |  4.002556    | \n",
       "| Titre=TitrInc | 100.000000   |  28.571429   | 13.333333    | 1.214758e-03 |  3.235392    | \n",
       "| nbHier=nbHier_3 |  73.684211   |  50.000000   | 31.666667    | 5.426100e-03 |  2.780585    | \n",
       "| nbPlExt=nbPlExt_1 |  56.818182   |  89.285714   | 73.333333    | 1.020855e-02 |  2.568684    | \n",
       "| delCentre=DelNo |  81.818182   |  32.142857   | 18.333333    | 1.257265e-02 |  2.495650    | \n",
       "| Titre=TitrNo |  80.000000   |  28.571429   | 16.666667    | 2.665872e-02 |  2.216479    | \n",
       "| nbSym=nbSym_0 |  71.428571   |  35.714286   | 23.333333    | 4.136919e-02 |  2.039811    | \n",
       "| nbHier=nbHier_4 |  12.500000   |   3.571429   | 13.333333    | 4.505574e-02 | -2.004134    | \n",
       "| diamInt=int2 |  12.500000   |   3.571429   | 13.333333    | 4.505574e-02 | -2.004134    | \n",
       "| orgaH=Quinc |   0.000000   |   0.000000   |  8.333333    | 3.687184e-02 | -2.087180    | \n",
       "| diamExt=ext3 |  27.272727   |  21.428571   | 36.666667    | 2.539224e-02 | -2.235383    | \n",
       "| nbHier=nbHier_6 |   0.000000   |   0.000000   | 11.666667    | 8.715162e-03 | -2.623030    | \n",
       "| Titre=Prince |   0.000000   |   0.000000   | 13.333333    | 4.110926e-03 | -2.869522    | \n",
       "| Datation=14e |   8.333333   |   3.571429   | 20.000000    | 2.904381e-03 | -2.977681    | \n",
       "| nbHier=nbHier_5 |   0.000000   |   0.000000   | 15.000000    | 1.897350e-03 | -3.105847    | \n",
       "| Deco=DecNo |   0.000000   |   0.000000   | 16.666667    | 8.556678e-04 | -3.334130    | \n",
       "| nbPlExt=nbPlExt_0 |   0.000000   |   0.000000   | 16.666667    | 8.556678e-04 | -3.334130    | \n",
       "| diamInt=int3 |  11.764706   |   7.142857   | 28.333333    | 6.421002e-04 | -3.413178    | \n",
       "| orgaH=OrTNT |   0.000000   |   0.000000   | 21.666667    | 6.723104e-05 | -3.985878    | \n",
       "| Deco=HierSym |   9.523810   |   7.142857   | 35.000000    | 1.806128e-05 | -4.287601    | \n",
       "| Surface=Convexe |   0.000000   |   0.000000   | 30.000000    | 5.096438e-07 | -5.022646    | \n",
       "| Datation=13e |   0.000000   |   0.000000   | 30.000000    | 5.096438e-07 | -5.022646    | \n",
       "\n",
       "\n",
       "\n",
       "$`2`\n",
       ":   \n",
       "| <!--/--> | Cla/Mod | Mod/Cla | Global | p.value | v.test | \n",
       "|---|---|\n",
       "| Deco=Figur | 100          | 100          | 3.333333     | 0.0005649718 | 3.447896     | \n",
       "| delCentre=FrisTor | 100          |  50          | 1.666667     | 0.0333333333 | 2.128045     | \n",
       "\n",
       "\n",
       "\n",
       "$`3`\n",
       ":   \n",
       "| <!--/--> | Cla/Mod | Mod/Cla | Global | p.value | v.test | \n",
       "|---|---|---|---|---|---|---|---|---|---|\n",
       "| Deco=HierSym |  52.380952   |  91.666667   | 35.000000    | 1.025025e-05 |  4.411826    | \n",
       "| Datation=14e |  66.666667   |  66.666667   | 20.000000    | 7.437505e-05 |  3.961838    | \n",
       "| orgaH=Quinc | 100.000000   |  41.666667   |  8.333333    | 1.450148e-04 |  3.799455    | \n",
       "| nbHier=nbHier_4 |  75.000000   |  50.000000   | 13.333333    | 4.374599e-04 |  3.516389    | \n",
       "| Titre=Fonct |  32.352941   |  91.666667   | 56.666667    | 6.099400e-03 |  2.742389    | \n",
       "| delCentre=Ligne |  26.086957   | 100.000000   | 76.666667    | 2.780603e-02 |  2.200012    | \n",
       "| diamInt=int2 |  50.000000   |  33.333333   | 13.333333    | 4.919663e-02 |  1.966884    | \n",
       "| orgaH=Atyp |  10.526316   |  33.333333   | 63.333333    | 2.355392e-02 | -2.264329    | \n",
       "| Deco=Ornem |   3.703704   |   8.333333   | 45.000000    | 4.241318e-03 | -2.859633    | \n",
       "| Datation=16-15e |   3.333333   |   8.333333   | 50.000000    | 1.294740e-03 | -3.217143    | \n",
       "\n",
       "\n",
       "\n",
       "$`4`\n",
       ":   \n",
       "| <!--/--> | Cla/Mod | Mod/Cla | Global | p.value | v.test | \n",
       "|---|---|---|---|---|---|---|---|---|---|\n",
       "| nbSym=nbSym_1 |  60.00000    |  85.71429    | 16.666667    | 2.780893e-05 |  4.190705    | \n",
       "| nbHier=nbHier_6 |  71.42857    |  71.42857    | 11.666667    | 7.685517e-05 |  3.954001    | \n",
       "| Deco=HierSym |  33.33333    | 100.00000    | 35.000000    | 3.010821e-04 |  3.614367    | \n",
       "| orgaH=OrTNT |  38.46154    |  71.42857    | 21.666667    | 4.028884e-03 |  2.875891    | \n",
       "| nbHier=nbHier_7 | 100.00000    |  28.57143    |  3.333333    | 1.186441e-02 |  2.516152    | \n",
       "| orgaH=Doubl |  66.66667    |  28.57143    |  5.000000    | 3.457043e-02 |  2.113355    | \n",
       "| Titre=Prince |  37.50000    |  42.85714    | 13.333333    | 4.765849e-02 |  1.980401    | \n",
       "| Deco=Ornem |   0.00000    |   0.00000    | 45.000000    | 1.106155e-02 | -2.540748    | \n",
       "| Datation=16-15e |   0.00000    |   0.00000    | 50.000000    | 5.271268e-03 | -2.789972    | \n",
       "| orgaH=Atyp |   0.00000    |   0.00000    | 63.333333    | 4.415871e-04 | -3.513895    | \n",
       "\n",
       "\n",
       "\n",
       "$`5`\n",
       ":   \n",
       "| <!--/--> | Cla/Mod | Mod/Cla | Global | p.value | v.test | \n",
       "|---|---|---|---|---|---|---|---|---|---|---|---|---|---|\n",
       "| Deco=DecNo |  90.000000   |  90          | 16.666667    | 6.658352e-09 |  5.799322    | \n",
       "| nbPlExt=nbPlExt_0 |  90.000000   |  90          | 16.666667    | 6.658352e-09 |  5.799322    | \n",
       "| Surface=Convexe |  55.555556   | 100          | 30.000000    | 5.803908e-07 |  4.997630    | \n",
       "| Datation=13e |  55.555556   | 100          | 30.000000    | 5.803908e-07 |  4.997630    | \n",
       "| diamInt=int3 |  47.058824   |  80          | 28.333333    | 3.194084e-04 |  3.599028    | \n",
       "| Titre=Prince |  62.500000   |  50          | 13.333333    | 2.136225e-03 |  3.070609    | \n",
       "| nbHier=nbHier_5 |  55.555556   |  50          | 15.000000    | 4.502840e-03 |  2.840603    | \n",
       "| delCentre=FrisRec | 100.000000   |  20          |  3.333333    | 2.542373e-02 |  2.234903    | \n",
       "| orgaH=OrTNT |  38.461538   |  50          | 21.666667    | 3.508008e-02 |  2.107433    | \n",
       "| Deco=Ornem |   0.000000   |   0          | 45.000000    | 1.227697e-03 | -3.232366    | \n",
       "| diamInt=int1 |   2.857143   |  10          | 58.333333    | 1.035117e-03 | -3.280804    | \n",
       "| Datation=16-15e |   0.000000   |   0          | 50.000000    | 3.985066e-04 | -3.541071    | \n",
       "| Surface=Plate |   0.000000   |   0          | 70.000000    | 5.803908e-07 | -4.997630    | \n",
       "| nbPlExt=nbPlExt_1 |   0.000000   |   0          | 73.333333    | 1.062153e-07 | -5.315756    | \n",
       "\n",
       "\n",
       "\n",
       "$`6`\n",
       ":   \n",
       "| <!--/--> | Cla/Mod | Mod/Cla | Global | p.value | v.test | \n",
       "|---|---|\n",
       "| nbSym=nbSym_4 | 100        | 100        | 1.666667   | 0.01666667 | 2.39398    | \n",
       "| nbHier=nbHier_8 | 100        | 100        | 1.666667   | 0.01666667 | 2.39398    | \n",
       "\n",
       "\n",
       "\n",
       "\n",
       "\n"
      ],
      "text/plain": [
       "$`1`\n",
       "                     Cla/Mod    Mod/Cla    Global      p.value    v.test\n",
       "Deco=Ornem         96.296296  92.857143 45.000000 1.380834e-13  7.398161\n",
       "Datation=16-15e    90.000000  96.428571 50.000000 1.182704e-12  7.107375\n",
       "orgaH=Atyp         71.052632  96.428571 63.333333 2.643518e-07  5.147237\n",
       "Surface=Plate      66.666667 100.000000 70.000000 5.096438e-07  5.022646\n",
       "diamInt=int1       71.428571  89.285714 58.333333 4.490817e-06  4.587269\n",
       "nbHier=nbHier_2   100.000000  39.285714 18.333333 6.266172e-05  4.002556\n",
       "Titre=TitrInc     100.000000  28.571429 13.333333 1.214758e-03  3.235392\n",
       "nbHier=nbHier_3    73.684211  50.000000 31.666667 5.426100e-03  2.780585\n",
       "nbPlExt=nbPlExt_1  56.818182  89.285714 73.333333 1.020855e-02  2.568684\n",
       "delCentre=DelNo    81.818182  32.142857 18.333333 1.257265e-02  2.495650\n",
       "Titre=TitrNo       80.000000  28.571429 16.666667 2.665872e-02  2.216479\n",
       "nbSym=nbSym_0      71.428571  35.714286 23.333333 4.136919e-02  2.039811\n",
       "nbHier=nbHier_4    12.500000   3.571429 13.333333 4.505574e-02 -2.004134\n",
       "diamInt=int2       12.500000   3.571429 13.333333 4.505574e-02 -2.004134\n",
       "orgaH=Quinc         0.000000   0.000000  8.333333 3.687184e-02 -2.087180\n",
       "diamExt=ext3       27.272727  21.428571 36.666667 2.539224e-02 -2.235383\n",
       "nbHier=nbHier_6     0.000000   0.000000 11.666667 8.715162e-03 -2.623030\n",
       "Titre=Prince        0.000000   0.000000 13.333333 4.110926e-03 -2.869522\n",
       "Datation=14e        8.333333   3.571429 20.000000 2.904381e-03 -2.977681\n",
       "nbHier=nbHier_5     0.000000   0.000000 15.000000 1.897350e-03 -3.105847\n",
       "Deco=DecNo          0.000000   0.000000 16.666667 8.556678e-04 -3.334130\n",
       "nbPlExt=nbPlExt_0   0.000000   0.000000 16.666667 8.556678e-04 -3.334130\n",
       "diamInt=int3       11.764706   7.142857 28.333333 6.421002e-04 -3.413178\n",
       "orgaH=OrTNT         0.000000   0.000000 21.666667 6.723104e-05 -3.985878\n",
       "Deco=HierSym        9.523810   7.142857 35.000000 1.806128e-05 -4.287601\n",
       "Surface=Convexe     0.000000   0.000000 30.000000 5.096438e-07 -5.022646\n",
       "Datation=13e        0.000000   0.000000 30.000000 5.096438e-07 -5.022646\n",
       "\n",
       "$`2`\n",
       "                  Cla/Mod Mod/Cla   Global      p.value   v.test\n",
       "Deco=Figur            100     100 3.333333 0.0005649718 3.447896\n",
       "delCentre=FrisTor     100      50 1.666667 0.0333333333 2.128045\n",
       "\n",
       "$`3`\n",
       "                   Cla/Mod    Mod/Cla    Global      p.value    v.test\n",
       "Deco=HierSym     52.380952  91.666667 35.000000 1.025025e-05  4.411826\n",
       "Datation=14e     66.666667  66.666667 20.000000 7.437505e-05  3.961838\n",
       "orgaH=Quinc     100.000000  41.666667  8.333333 1.450148e-04  3.799455\n",
       "nbHier=nbHier_4  75.000000  50.000000 13.333333 4.374599e-04  3.516389\n",
       "Titre=Fonct      32.352941  91.666667 56.666667 6.099400e-03  2.742389\n",
       "delCentre=Ligne  26.086957 100.000000 76.666667 2.780603e-02  2.200012\n",
       "diamInt=int2     50.000000  33.333333 13.333333 4.919663e-02  1.966884\n",
       "orgaH=Atyp       10.526316  33.333333 63.333333 2.355392e-02 -2.264329\n",
       "Deco=Ornem        3.703704   8.333333 45.000000 4.241318e-03 -2.859633\n",
       "Datation=16-15e   3.333333   8.333333 50.000000 1.294740e-03 -3.217143\n",
       "\n",
       "$`4`\n",
       "                  Cla/Mod   Mod/Cla    Global      p.value    v.test\n",
       "nbSym=nbSym_1    60.00000  85.71429 16.666667 2.780893e-05  4.190705\n",
       "nbHier=nbHier_6  71.42857  71.42857 11.666667 7.685517e-05  3.954001\n",
       "Deco=HierSym     33.33333 100.00000 35.000000 3.010821e-04  3.614367\n",
       "orgaH=OrTNT      38.46154  71.42857 21.666667 4.028884e-03  2.875891\n",
       "nbHier=nbHier_7 100.00000  28.57143  3.333333 1.186441e-02  2.516152\n",
       "orgaH=Doubl      66.66667  28.57143  5.000000 3.457043e-02  2.113355\n",
       "Titre=Prince     37.50000  42.85714 13.333333 4.765849e-02  1.980401\n",
       "Deco=Ornem        0.00000   0.00000 45.000000 1.106155e-02 -2.540748\n",
       "Datation=16-15e   0.00000   0.00000 50.000000 5.271268e-03 -2.789972\n",
       "orgaH=Atyp        0.00000   0.00000 63.333333 4.415871e-04 -3.513895\n",
       "\n",
       "$`5`\n",
       "                     Cla/Mod Mod/Cla    Global      p.value    v.test\n",
       "Deco=DecNo         90.000000      90 16.666667 6.658352e-09  5.799322\n",
       "nbPlExt=nbPlExt_0  90.000000      90 16.666667 6.658352e-09  5.799322\n",
       "Surface=Convexe    55.555556     100 30.000000 5.803908e-07  4.997630\n",
       "Datation=13e       55.555556     100 30.000000 5.803908e-07  4.997630\n",
       "diamInt=int3       47.058824      80 28.333333 3.194084e-04  3.599028\n",
       "Titre=Prince       62.500000      50 13.333333 2.136225e-03  3.070609\n",
       "nbHier=nbHier_5    55.555556      50 15.000000 4.502840e-03  2.840603\n",
       "delCentre=FrisRec 100.000000      20  3.333333 2.542373e-02  2.234903\n",
       "orgaH=OrTNT        38.461538      50 21.666667 3.508008e-02  2.107433\n",
       "Deco=Ornem          0.000000       0 45.000000 1.227697e-03 -3.232366\n",
       "diamInt=int1        2.857143      10 58.333333 1.035117e-03 -3.280804\n",
       "Datation=16-15e     0.000000       0 50.000000 3.985066e-04 -3.541071\n",
       "Surface=Plate       0.000000       0 70.000000 5.803908e-07 -4.997630\n",
       "nbPlExt=nbPlExt_1   0.000000       0 73.333333 1.062153e-07 -5.315756\n",
       "\n",
       "$`6`\n",
       "                Cla/Mod Mod/Cla   Global    p.value  v.test\n",
       "nbSym=nbSym_4       100     100 1.666667 0.01666667 2.39398\n",
       "nbHier=nbHier_8     100     100 1.666667 0.01666667 2.39398\n"
      ]
     },
     "metadata": {},
     "output_type": "display_data"
    }
   ],
   "source": [
    "res.hcpc$desc.var$category"
   ]
  },
  {
   "cell_type": "code",
   "execution_count": 15,
   "metadata": {
    "collapsed": false
   },
   "outputs": [
    {
     "data": {
      "text/plain": [
       "   \n",
       "    Atyp Centre Doubl OrTNT Quinc\n",
       "  1   27      1     0     0     0\n",
       "  2    2      0     0     0     0\n",
       "  3    4      0     0     3     5\n",
       "  4    0      0     2     5     0\n",
       "  5    4      0     1     5     0\n",
       "  6    1      0     0     0     0"
      ]
     },
     "metadata": {},
     "output_type": "display_data"
    }
   ],
   "source": [
    "#croisement des variables quelques exemples\n",
    "table(res.hcpc$data.clust$clust, res.hcpc$data.clust[,1])"
   ]
  },
  {
   "cell_type": "code",
   "execution_count": 16,
   "metadata": {
    "collapsed": false
   },
   "outputs": [
    {
     "data": {
      "text/plain": [
       "   \n",
       "    nbPlExt_0 nbPlExt_1 nbPlExt_2\n",
       "  1         0        25         3\n",
       "  2         0         2         0\n",
       "  3         0        10         2\n",
       "  4         0         7         0\n",
       "  5         9         0         1\n",
       "  6         1         0         0"
      ]
     },
     "metadata": {},
     "output_type": "display_data"
    }
   ],
   "source": [
    "table(res.hcpc$data.clust$clust, res.hcpc$data.clust[,2])"
   ]
  },
  {
   "cell_type": "code",
   "execution_count": 17,
   "metadata": {
    "collapsed": false
   },
   "outputs": [
    {
     "data": {
      "text/plain": [
       "   \n",
       "    DecNo Figur HierSym Ornem\n",
       "  1     0     0       2    26\n",
       "  2     0     2       0     0\n",
       "  3     0     0      11     1\n",
       "  4     0     0       7     0\n",
       "  5     9     0       1     0\n",
       "  6     1     0       0     0"
      ]
     },
     "metadata": {},
     "output_type": "display_data"
    }
   ],
   "source": [
    "table(res.hcpc$data.clust$clust, res.hcpc$data.clust[,3])"
   ]
  },
  {
   "cell_type": "code",
   "execution_count": 18,
   "metadata": {
    "collapsed": false
   },
   "outputs": [
    {
     "data": {
      "text/plain": [
       "   \n",
       "    DelNo FrisRec FrisTor Ligne\n",
       "  1     9       0       0    19\n",
       "  2     0       0       1     1\n",
       "  3     0       0       0    12\n",
       "  4     0       0       0     7\n",
       "  5     2       2       0     6\n",
       "  6     0       0       0     1"
      ]
     },
     "metadata": {},
     "output_type": "display_data"
    }
   ],
   "source": [
    "table(res.hcpc$data.clust$clust, res.hcpc$data.clust[,4])"
   ]
  },
  {
   "cell_type": "code",
   "execution_count": 19,
   "metadata": {
    "collapsed": false
   },
   "outputs": [
    {
     "data": {
      "text/plain": [
       "   \n",
       "    13e 14e 16-15e\n",
       "  1   0   1     27\n",
       "  2   0   0      2\n",
       "  3   3   8      1\n",
       "  4   4   3      0\n",
       "  5  10   0      0\n",
       "  6   1   0      0"
      ]
     },
     "metadata": {},
     "output_type": "display_data"
    }
   ],
   "source": [
    "table(res.hcpc$data.clust$clust, res.hcpc$data.clust[,5])"
   ]
  },
  {
   "cell_type": "code",
   "execution_count": 20,
   "metadata": {
    "collapsed": false
   },
   "outputs": [
    {
     "data": {
      "text/plain": [
       "   \n",
       "    ext1 ext2 ext3\n",
       "  1   10   12    6\n",
       "  2    0    0    2\n",
       "  3    5    2    5\n",
       "  4    1    2    4\n",
       "  5    3    2    5\n",
       "  6    0    1    0"
      ]
     },
     "metadata": {},
     "output_type": "display_data"
    }
   ],
   "source": [
    "table(res.hcpc$data.clust$clust, res.hcpc$data.clust[,6])"
   ]
  },
  {
   "cell_type": "code",
   "execution_count": 21,
   "metadata": {
    "collapsed": false
   },
   "outputs": [
    {
     "data": {
      "image/png": "[encoded data removed]",
      "text/plain": [
       "Plot with title \"MCA factor map\""
      ]
     },
     "metadata": {},
     "output_type": "display_data"
    }
   ],
   "source": [
    "#interpretation des classes\n",
    "color=as.integer(res.hcpc$data.clust$clust)\n",
    "# sur plan(1,2)\n",
    "plot(afcm, choix=\"ind\",invisible =\"var\",habillage=\"quali\", col.ind=color)"
   ]
  },
  {
   "cell_type": "code",
   "execution_count": 22,
   "metadata": {
    "collapsed": false
   },
   "outputs": [
    {
     "data": {
      "image/png": "[encoded data removed]",
      "text/plain": [
       "Plot with title \"MCA factor map\""
      ]
     },
     "metadata": {},
     "output_type": "display_data"
    }
   ],
   "source": [
    "# sur plan(2,3)\n",
    "plot(afcm, choix=\"ind\",invisible =\"var\",axes= 2:3, habillage=\"quali\", col.ind=color)"
   ]
  },
  {
   "cell_type": "code",
   "execution_count": 23,
   "metadata": {
    "collapsed": false
   },
   "outputs": [
    {
     "data": {
      "image/png": "[encoded data removed]",
      "text/plain": [
       "Plot with title \"MCA factor map\""
      ]
     },
     "metadata": {},
     "output_type": "display_data"
    }
   ],
   "source": [
    "# sur plan(3,4)\n",
    "plot(afcm, choix=\"ind\",invisible =\"var\",axes=3:4, habillage=\"quali\", col.ind=color)"
   ]
  },
  {
   "cell_type": "markdown",
   "metadata": {},
   "source": [
    "Il y a du rouge partout car dans cette classe il y a les inconnus  et ils sont dispersés dans toutes les classes. On essaie de representer les classes avec nos cachets qu'on a daté\n",
    "\n",
    "### Création de la table avec  les seuls cachets datés"
   ]
  },
  {
   "cell_type": "code",
   "execution_count": 24,
   "metadata": {
    "collapsed": false
   },
   "outputs": [
    {
     "ename": "ERROR",
     "evalue": "Error in rbind(cachetsDate, cachets.pred): objet 'cachetsDate' introuvable\n",
     "output_type": "error",
     "traceback": [
      "Error in rbind(cachetsDate, cachets.pred): objet 'cachetsDate' introuvable\nTraceback:\n",
      "1. rbind(cachetsDate, cachets.pred)"
     ]
    }
   ],
   "source": [
    "cachetsfin <- rbind(cachetsDate, cachets.pred)\n",
    "color = as.integer(cachetsfin$Datation)\n",
    "plot(afcm, choix=\"ind\", habillage=\"quali\", invisible=\"var\", col.ind=color)"
   ]
  },
  {
   "cell_type": "code",
   "execution_count": null,
   "metadata": {
    "collapsed": true
   },
   "outputs": [],
   "source": [
    "#comparaison des deux classifications : (on remarque qu'elles sont assez differentes)\n",
    "table(color, res.hcpc$data.clust$clust)\n",
    "\n",
    "## Classif non supervisée SANS les inconnus (tous les cachets sont datés)\n",
    "afcm.date=MCA(cachetsfin, graph= F)"
   ]
  },
  {
   "cell_type": "code",
   "execution_count": null,
   "metadata": {
    "collapsed": true
   },
   "outputs": [],
   "source": [
    "#representation que des variables\n",
    "plot(afcm.date,invisible =\"ind\", habillage=\"quali\")"
   ]
  },
  {
   "cell_type": "code",
   "execution_count": null,
   "metadata": {
    "collapsed": true
   },
   "outputs": [],
   "source": [
    "#plan factoriel (2,3)\n",
    "plot(afcm.date,invisible =\"ind\", habillage=\"quali\",axes=2:3)"
   ]
  },
  {
   "cell_type": "code",
   "execution_count": null,
   "metadata": {
    "collapsed": true
   },
   "outputs": [],
   "source": [
    "#plan factoriel (3,4)\n",
    "plot(afcm.date,invisible =\"ind\", habillage=\"quali\",axes=3:4)"
   ]
  },
  {
   "cell_type": "code",
   "execution_count": null,
   "metadata": {
    "collapsed": true
   },
   "outputs": [],
   "source": [
    "# representation que des individus\n",
    "plot(afcm.date, choix=\"ind\", invisible = \"var\", habillage=\"quali\")"
   ]
  },
  {
   "cell_type": "code",
   "execution_count": null,
   "metadata": {
    "collapsed": true
   },
   "outputs": [],
   "source": [
    "HCPC(afcm)\n",
    "res.hcpc <- HCPC(afcm.date, graph=F, nb.clust=3)\n",
    "res.hcpc$desc.var$test.chi2"
   ]
  },
  {
   "cell_type": "code",
   "execution_count": null,
   "metadata": {
    "collapsed": true
   },
   "outputs": [],
   "source": [
    "res.hcpc$desc.var$category"
   ]
  },
  {
   "cell_type": "code",
   "execution_count": null,
   "metadata": {
    "collapsed": true
   },
   "outputs": [],
   "source": [
    "#croisement des variables quelques exemples\n",
    "table(res.hcpc$data.clust$clust, res.hcpc$data.clust[,7])"
   ]
  },
  {
   "cell_type": "code",
   "execution_count": null,
   "metadata": {
    "collapsed": true
   },
   "outputs": [],
   "source": [
    "#interpretation des classes\n",
    "color=as.integer(res.hcpc$data.clust$clust)"
   ]
  },
  {
   "cell_type": "code",
   "execution_count": null,
   "metadata": {
    "collapsed": true
   },
   "outputs": [],
   "source": [
    "# sur plan(1,2)\n",
    "plot(afcm.date, choix=\"ind\",invisible =\"var\",habillage=\"quali\", col.ind=color)"
   ]
  },
  {
   "cell_type": "code",
   "execution_count": null,
   "metadata": {
    "collapsed": true
   },
   "outputs": [],
   "source": [
    "# sur plan(2,3)\n",
    "plot(afcm.date, choix=\"ind\",invisible =\"var\",axes= 2:3, habillage=\"quali\", col.ind=color)"
   ]
  },
  {
   "cell_type": "code",
   "execution_count": null,
   "metadata": {
    "collapsed": true
   },
   "outputs": [],
   "source": [
    "# sur plan(3,4)\n",
    "plot(afcm.date, choix=\"ind\",invisible =\"var\",axes=3:4, habillage=\"quali\", col.ind=color)"
   ]
  },
  {
   "cell_type": "code",
   "execution_count": null,
   "metadata": {
    "collapsed": true
   },
   "outputs": [],
   "source": [
    "#coloration de cette afcm avec les dates\n",
    "color = as.integer(cachetsfin$Datation)\n",
    "plot(afcm.date, choix=\"ind\", habillage=\"quali\", invisible=\"var\", col.ind=color)"
   ]
  },
  {
   "cell_type": "code",
   "execution_count": null,
   "metadata": {
    "collapsed": true
   },
   "outputs": [],
   "source": [
    "table(res.hcpc$)"
   ]
  },
  {
   "cell_type": "code",
   "execution_count": null,
   "metadata": {
    "collapsed": true
   },
   "outputs": [],
   "source": [
    "## Classification non supervisee des symboles\n",
    "\n",
    "afcm.symb=MCA(cachetsSymbSelec[,14:39], graph= T)\n",
    "plot(afcm.symb, choix=\"ind\", habillage=\"quali\", invisible=\"ind\")\n",
    "plot(afcm.symb, choix=\"ind\", habillage=\"quali\", invisible=\"var\")\n",
    "HCPC(afcm.symb)\n",
    "res.symb <- HCPC(afcm.symb, method=\"single\", graph=F, nb.clust=6)\n",
    "#la ligne suivante permet de croiser la variable classe avec chacune des variables\n",
    "res.symb$desc.var$test.chi2\n",
    "#et de connaitre les modalit?s les plus pr?sentes dans chaque classe\n",
    "res.symb$desc.var$category\n",
    "\n",
    "#interprétation des classes\n",
    "color=as.integer(res.symb$data.clust$clust)\n",
    "par(mfcol=c(1,1))\n",
    "# sur plan(1,2)\n",
    "plot(afcm.symb, choix=\"ind\",invisible =\"var\",habillage=\"quali\", col.ind=color)\n",
    "# sur plan(2,3)\n",
    "plot(afcm.symb, choix=\"ind\",invisible =\"var\",axes= 2:3, habillage=\"quali\", col.ind=color)\n",
    "# sur plan(3,4)\n",
    "plot(afcm.symb, choix=\"ind\",invisible =\"var\",axes=3:4, habillage=\"quali\", col.ind=color)\n",
    "##########################\n",
    "cachetsModif <- read.table(\"donnees.txt\")\n",
    "cachetsModif <- as.data.frame(lapply(cachetsModif, as.factor))\n",
    "\n",
    "# La méthode de factorisaito en produits de matrices non négatives \n",
    "# conduit principalement à graphes de bi-clustering\n",
    "# voila les commandes appliquées sur les symboles de données hitittes \n",
    "############################\n",
    "### factorisation matrice creuse\n",
    "data.symb=cachetsModif[,17:176]\n",
    "creux=matrix(as.integer(as.matrix(data.symb)),nrow=118,ncol=160)\n",
    "dimnames(creux)[[2]]=dimnames(data.symb)[[2]]\n",
    "dimnames(creux)[[1]]=as.character(1:118)\n",
    "# par habitude des données génomiques, les \"variables\" ou \"features\" ou \"gènes\"\n",
    "# sont rangées en lignes tandis que les \"samples\" ou individus sont en ligne\n",
    "# c'est donc t(creux) qui est étudiée\n",
    "library(NMF)\n",
    "# choix du rang\n",
    "estim.r=nmf(t(creux),1:4,nrun=10,seed=111)\n",
    "# messages d'erreur ! mais des résultats\n",
    "plot(estim.r) # problème au delà de r=4 !!\n",
    "# la commande suivante ne marche pas ?\n",
    "consensusmap(estim.r, annCol = creux, labCol = NA, labRow = NA)\n",
    "# Que choisir : r=3 ou r=4 ?\n",
    "# 50 exécutions pour prendre la meilleure\n",
    "nmf.cachet=nmf(t(creux),3,nrun=50)\n",
    "\n",
    "# comparer différentes méthodes \n",
    "res.multi.method=nmf(t(creux), 3,list(\"brunet\",\"lee\",\"ns\"),seed = 111, .options =\"t\")\n",
    "compare(res.multi.method)\n",
    "# comment choisir la meilleure ?\n",
    "       method   seed rng    metric rank sparseness.basis sparseness.coef silhouette.coef silhouette.basis residuals niter\n",
    "brunet brunet random   1        KL    3        0.6072550       0.8387022       0.9107442        0.8916420 1705.1541   550\n",
    "lee       lee random   1 euclidean    3        0.6886838       0.6738105       0.8217347        0.8126766  326.3325   460\n",
    "nsNMF   nsNMF random   1        KL    3        0.6605538       0.8670054       0.9125095        0.9384022 1865.2819   700\n",
    "\n",
    "# quel choix de méthode ??? minimise les résidus donc lee ou plus grande sparseness.basis donc brunet\n",
    "\n",
    "# Comment interpréter ce graphe ?\n",
    "plot(res.multi.method)\n",
    "# il faudrait aussi choisir le mode d'initialisation\n",
    "# seed=\"nndsvd\" ne marche pas \n",
    "summary(nmf.cachet)\n",
    "s=featureScore(nmf.cachet)\n",
    "summary(s)\n",
    "s=extractFeatures(nmf.cachet)\n",
    "# même type de problème non identifié\n",
    "str(s) # problème\n",
    "# les matrices de facteurs\n",
    "w=basis(nmf.cachet)\n",
    "h=coef(nmf.cachet)\n",
    "# comment s'interprète les graphiques ci-dessous ?\n",
    "consensusmap(res,annCol=classe)\n",
    "basismap(res)\n",
    "coefmap(res,annCol=classe)\n",
    "\n",
    "# méthode lee conduit à des résultats très différents \n",
    "res.lee=nmf(t(creux),3,\"lee\",nrun=50)\n",
    "summary(res.lee)\n",
    "s=featureScore(res.lee)\n",
    "summary(s)\n",
    "s=extractFeatures(res)\n",
    "str(s) # problème\n",
    "\n",
    "w.lee=basis(res.lee)\n",
    "h.lee=coef(res.lee)\n",
    "\n",
    "consensusmap(res.lee,annCol=classe)\n",
    "basismap(res.lee)\n",
    "coefmap(res.lee,annCol=classe)"
   ]
  }
 ],
 "metadata": {
  "kernelspec": {
   "display_name": "R",
   "language": "R",
   "name": "ir"
  },
  "language_info": {
   "codemirror_mode": "r",
   "file_extension": ".r",
   "mimetype": "text/x-r-source",
   "name": "R",
   "pygments_lexer": "r",
   "version": "3.3.3"
  }
 },
 "nbformat": 4,
 "nbformat_minor": 0
}
